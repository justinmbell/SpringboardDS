{
 "cells": [
  {
   "cell_type": "markdown",
   "id": "efec8e13",
   "metadata": {},
   "source": [
    "# Disaster Tweet Detector (NLP): Preprocessing and Modeling"
   ]
  },
  {
   "cell_type": "markdown",
   "id": "ec1ddca2",
   "metadata": {},
   "source": [
    "## Importing Libraries"
   ]
  },
  {
   "cell_type": "code",
   "execution_count": 35,
   "id": "2cd82015",
   "metadata": {},
   "outputs": [],
   "source": [
    "import pandas as pd\n",
    "import numpy as np\n",
    "import matplotlib.pyplot as plt\n",
    "import seaborn as sns\n",
    "from sklearn.model_selection import train_test_split\n",
    "from sklearn.feature_extraction.text import CountVectorizer, TfidfVectorizer\n",
    "from sklearn.linear_model import LogisticRegression\n",
    "from sklearn.ensemble import RandomForestClassifier\n",
    "from sklearn.metrics import confusion_matrix, classification_report\n",
    "\n",
    "from gensim.models.tfidfmodel import TfidfModel\n",
    "from gensim.corpora.dictionary import Dictionary\n",
    "from collections import Counter"
   ]
  },
  {
   "cell_type": "markdown",
   "id": "20b7a811",
   "metadata": {},
   "source": [
    "## Importing Data"
   ]
  },
  {
   "cell_type": "code",
   "execution_count": 2,
   "id": "1f62ea5b",
   "metadata": {},
   "outputs": [
    {
     "data": {
      "text/html": [
       "<div>\n",
       "<style scoped>\n",
       "    .dataframe tbody tr th:only-of-type {\n",
       "        vertical-align: middle;\n",
       "    }\n",
       "\n",
       "    .dataframe tbody tr th {\n",
       "        vertical-align: top;\n",
       "    }\n",
       "\n",
       "    .dataframe thead th {\n",
       "        text-align: right;\n",
       "    }\n",
       "</style>\n",
       "<table border=\"1\" class=\"dataframe\">\n",
       "  <thead>\n",
       "    <tr style=\"text-align: right;\">\n",
       "      <th></th>\n",
       "      <th>Unnamed: 0</th>\n",
       "      <th>id</th>\n",
       "      <th>keyword</th>\n",
       "      <th>location</th>\n",
       "      <th>text</th>\n",
       "      <th>target</th>\n",
       "      <th>text_cleaned</th>\n",
       "    </tr>\n",
       "  </thead>\n",
       "  <tbody>\n",
       "    <tr>\n",
       "      <th>0</th>\n",
       "      <td>0</td>\n",
       "      <td>0</td>\n",
       "      <td>ablaze</td>\n",
       "      <td>NaN</td>\n",
       "      <td>Communal violence in Bhainsa, Telangana. \"Ston...</td>\n",
       "      <td>1</td>\n",
       "      <td>communal violence bhainsa telangana stones pel...</td>\n",
       "    </tr>\n",
       "    <tr>\n",
       "      <th>1</th>\n",
       "      <td>1</td>\n",
       "      <td>1</td>\n",
       "      <td>ablaze</td>\n",
       "      <td>NaN</td>\n",
       "      <td>Telangana: Section 144 has been imposed in Bha...</td>\n",
       "      <td>1</td>\n",
       "      <td>telangana section imposed bhainsa january clas...</td>\n",
       "    </tr>\n",
       "    <tr>\n",
       "      <th>2</th>\n",
       "      <td>2</td>\n",
       "      <td>2</td>\n",
       "      <td>ablaze</td>\n",
       "      <td>New York City</td>\n",
       "      <td>Arsonist sets cars ablaze at dealership https:...</td>\n",
       "      <td>1</td>\n",
       "      <td>arsonist sets cars ablaze dealership</td>\n",
       "    </tr>\n",
       "    <tr>\n",
       "      <th>3</th>\n",
       "      <td>3</td>\n",
       "      <td>3</td>\n",
       "      <td>ablaze</td>\n",
       "      <td>Morgantown, WV</td>\n",
       "      <td>Arsonist sets cars ablaze at dealership https:...</td>\n",
       "      <td>1</td>\n",
       "      <td>arsonist sets cars ablaze dealership</td>\n",
       "    </tr>\n",
       "    <tr>\n",
       "      <th>4</th>\n",
       "      <td>4</td>\n",
       "      <td>4</td>\n",
       "      <td>ablaze</td>\n",
       "      <td>NaN</td>\n",
       "      <td>\"Lord Jesus, your love brings freedom and pard...</td>\n",
       "      <td>0</td>\n",
       "      <td>lord jesus love brings freedom pardon fill hol...</td>\n",
       "    </tr>\n",
       "  </tbody>\n",
       "</table>\n",
       "</div>"
      ],
      "text/plain": [
       "   Unnamed: 0  id keyword        location  \\\n",
       "0           0   0  ablaze             NaN   \n",
       "1           1   1  ablaze             NaN   \n",
       "2           2   2  ablaze   New York City   \n",
       "3           3   3  ablaze  Morgantown, WV   \n",
       "4           4   4  ablaze             NaN   \n",
       "\n",
       "                                                text  target  \\\n",
       "0  Communal violence in Bhainsa, Telangana. \"Ston...       1   \n",
       "1  Telangana: Section 144 has been imposed in Bha...       1   \n",
       "2  Arsonist sets cars ablaze at dealership https:...       1   \n",
       "3  Arsonist sets cars ablaze at dealership https:...       1   \n",
       "4  \"Lord Jesus, your love brings freedom and pard...       0   \n",
       "\n",
       "                                        text_cleaned  \n",
       "0  communal violence bhainsa telangana stones pel...  \n",
       "1  telangana section imposed bhainsa january clas...  \n",
       "2               arsonist sets cars ablaze dealership  \n",
       "3               arsonist sets cars ablaze dealership  \n",
       "4  lord jesus love brings freedom pardon fill hol...  "
      ]
     },
     "execution_count": 2,
     "metadata": {},
     "output_type": "execute_result"
    }
   ],
   "source": [
    "tweets_c = pd.read_csv('C:/Users/justi/SpringboardDS/Capstone III/data/cleaned_tweets.csv')\n",
    "tweets_c.head()"
   ]
  },
  {
   "cell_type": "code",
   "execution_count": 3,
   "id": "072d8f5f",
   "metadata": {},
   "outputs": [
    {
     "data": {
      "text/html": [
       "<div>\n",
       "<style scoped>\n",
       "    .dataframe tbody tr th:only-of-type {\n",
       "        vertical-align: middle;\n",
       "    }\n",
       "\n",
       "    .dataframe tbody tr th {\n",
       "        vertical-align: top;\n",
       "    }\n",
       "\n",
       "    .dataframe thead th {\n",
       "        text-align: right;\n",
       "    }\n",
       "</style>\n",
       "<table border=\"1\" class=\"dataframe\">\n",
       "  <thead>\n",
       "    <tr style=\"text-align: right;\">\n",
       "      <th></th>\n",
       "      <th>target</th>\n",
       "      <th>text_cleaned</th>\n",
       "    </tr>\n",
       "  </thead>\n",
       "  <tbody>\n",
       "    <tr>\n",
       "      <th>0</th>\n",
       "      <td>1</td>\n",
       "      <td>communal violence bhainsa telangana stones pel...</td>\n",
       "    </tr>\n",
       "    <tr>\n",
       "      <th>1</th>\n",
       "      <td>1</td>\n",
       "      <td>telangana section imposed bhainsa january clas...</td>\n",
       "    </tr>\n",
       "    <tr>\n",
       "      <th>2</th>\n",
       "      <td>1</td>\n",
       "      <td>arsonist sets cars ablaze dealership</td>\n",
       "    </tr>\n",
       "    <tr>\n",
       "      <th>3</th>\n",
       "      <td>1</td>\n",
       "      <td>arsonist sets cars ablaze dealership</td>\n",
       "    </tr>\n",
       "    <tr>\n",
       "      <th>4</th>\n",
       "      <td>0</td>\n",
       "      <td>lord jesus love brings freedom pardon fill hol...</td>\n",
       "    </tr>\n",
       "  </tbody>\n",
       "</table>\n",
       "</div>"
      ],
      "text/plain": [
       "   target                                       text_cleaned\n",
       "0       1  communal violence bhainsa telangana stones pel...\n",
       "1       1  telangana section imposed bhainsa january clas...\n",
       "2       1               arsonist sets cars ablaze dealership\n",
       "3       1               arsonist sets cars ablaze dealership\n",
       "4       0  lord jesus love brings freedom pardon fill hol..."
      ]
     },
     "execution_count": 3,
     "metadata": {},
     "output_type": "execute_result"
    }
   ],
   "source": [
    "# Drop unwanted columns.\n",
    "tweets_c = tweets_c.drop(columns = ['Unnamed: 0', 'id', 'keyword', 'location', 'text'])\n",
    "tweets_c.head()"
   ]
  },
  {
   "cell_type": "markdown",
   "id": "f0752f16",
   "metadata": {},
   "source": [
    "## Preprocessing"
   ]
  },
  {
   "cell_type": "code",
   "execution_count": 4,
   "id": "d565a06a",
   "metadata": {},
   "outputs": [
    {
     "data": {
      "text/html": [
       "<div>\n",
       "<style scoped>\n",
       "    .dataframe tbody tr th:only-of-type {\n",
       "        vertical-align: middle;\n",
       "    }\n",
       "\n",
       "    .dataframe tbody tr th {\n",
       "        vertical-align: top;\n",
       "    }\n",
       "\n",
       "    .dataframe thead th {\n",
       "        text-align: right;\n",
       "    }\n",
       "</style>\n",
       "<table border=\"1\" class=\"dataframe\">\n",
       "  <thead>\n",
       "    <tr style=\"text-align: right;\">\n",
       "      <th></th>\n",
       "      <th>target</th>\n",
       "      <th>text_cleaned</th>\n",
       "    </tr>\n",
       "  </thead>\n",
       "  <tbody>\n",
       "    <tr>\n",
       "      <th>1500</th>\n",
       "      <td>0</td>\n",
       "      <td>NaN</td>\n",
       "    </tr>\n",
       "  </tbody>\n",
       "</table>\n",
       "</div>"
      ],
      "text/plain": [
       "      target text_cleaned\n",
       "1500       0          NaN"
      ]
     },
     "execution_count": 4,
     "metadata": {},
     "output_type": "execute_result"
    }
   ],
   "source": [
    "# There appears to be one null row still in our dataframe.\n",
    "tweets_c[tweets_c.isnull().any(axis=1)]"
   ]
  },
  {
   "cell_type": "code",
   "execution_count": 5,
   "id": "a4568123",
   "metadata": {},
   "outputs": [],
   "source": [
    "# Let's drop it.\n",
    "tweets_c = tweets_c.dropna()"
   ]
  },
  {
   "cell_type": "code",
   "execution_count": 6,
   "id": "09be8ceb",
   "metadata": {},
   "outputs": [],
   "source": [
    "# Split our data into train/test sets.\n",
    "X = tweets_c.text_cleaned\n",
    "y = tweets_c.target\n",
    "\n",
    "X_train, X_test, y_train, y_test = train_test_split(X, y, test_size=0.20, random_state=42)"
   ]
  },
  {
   "cell_type": "code",
   "execution_count": 7,
   "id": "c95209b7",
   "metadata": {},
   "outputs": [],
   "source": [
    "# Build BOW features on trained tweets.\n",
    "cv = CountVectorizer(binary=False, min_df=5, max_df=1.0, ngram_range=(1,2)) # ignore terms that appear in <5 docs and >100% docs (don't ignore any terms for the max_df setting), includes unigrams and bigrams.\n",
    "cv_train_features = cv.fit_transform(X_train)"
   ]
  },
  {
   "cell_type": "code",
   "execution_count": 9,
   "id": "4aebc24f",
   "metadata": {},
   "outputs": [],
   "source": [
    "# Build TFIDF features on trained tweets.\n",
    "tv = TfidfVectorizer(use_idf=True, min_df=5, max_df=1.0, ngram_range=(1,2), sublinear_tf=True)\n",
    "tv_train_features = tv.fit_transform(X_train)"
   ]
  },
  {
   "cell_type": "code",
   "execution_count": 11,
   "id": "8d4e0ba7",
   "metadata": {},
   "outputs": [],
   "source": [
    "# Transform test tweets into features.\n",
    "cv_test_features = cv.transform(X_test)\n",
    "tv_test_features = tv.transform(X_test)"
   ]
  },
  {
   "cell_type": "code",
   "execution_count": 19,
   "id": "b91bf35b",
   "metadata": {},
   "outputs": [
    {
     "name": "stdout",
     "output_type": "stream",
     "text": [
      "BOW model:> Train features shape: (9095, 3647)  Test features shape: (2274, 3647)\n",
      "TFIDF model:> Train features shape: (9095, 3647)  Test features shape: (2274, 3647)\n"
     ]
    }
   ],
   "source": [
    "# Check our vectorized features shape.\n",
    "print('BOW model:> Train features shape:', cv_train_features.shape, ' Test features shape:', cv_test_features.shape) # Is the 3647 the amount of words in our docs with each column containing counts per tweet?\n",
    "print('TFIDF model:> Train features shape:', tv_train_features.shape, ' Test features shape:', tv_test_features.shape)"
   ]
  },
  {
   "cell_type": "markdown",
   "id": "b6346b45",
   "metadata": {},
   "source": [
    "## Modeling"
   ]
  },
  {
   "cell_type": "code",
   "execution_count": 24,
   "id": "e17603b4",
   "metadata": {},
   "outputs": [],
   "source": [
    "# Let's try a Logistic Regression model first (using our count vectorized data).\n",
    "# Initiate the model.\n",
    "LR = LogisticRegression(penalty='l2', max_iter=500, C=1, solver='lbfgs', random_state=42) # Should I do a gridsearch with text data?\n",
    "\n",
    "# Fit LR model with our training data.\n",
    "LR.fit(cv_train_features, y_train)\n",
    "\n",
    "# Make predictions using our vectorized test features.\n",
    "LR_bow_predictions = LR.predict(cv_test_features)"
   ]
  },
  {
   "cell_type": "code",
   "execution_count": 34,
   "id": "fcf23194",
   "metadata": {},
   "outputs": [
    {
     "name": "stdout",
     "output_type": "stream",
     "text": [
      "              precision    recall  f1-score   support\n",
      "\n",
      "           0       0.91      0.97      0.94      1867\n",
      "           1       0.78      0.54      0.64       407\n",
      "\n",
      "    accuracy                           0.89      2274\n",
      "   macro avg       0.84      0.75      0.79      2274\n",
      "weighted avg       0.88      0.89      0.88      2274\n",
      "\n"
     ]
    },
    {
     "data": {
      "text/html": [
       "<div>\n",
       "<style scoped>\n",
       "    .dataframe tbody tr th:only-of-type {\n",
       "        vertical-align: middle;\n",
       "    }\n",
       "\n",
       "    .dataframe tbody tr th {\n",
       "        vertical-align: top;\n",
       "    }\n",
       "\n",
       "    .dataframe thead th {\n",
       "        text-align: right;\n",
       "    }\n",
       "</style>\n",
       "<table border=\"1\" class=\"dataframe\">\n",
       "  <thead>\n",
       "    <tr style=\"text-align: right;\">\n",
       "      <th></th>\n",
       "      <th>Not Disaster</th>\n",
       "      <th>Disaster</th>\n",
       "    </tr>\n",
       "  </thead>\n",
       "  <tbody>\n",
       "    <tr>\n",
       "      <th>Not Disaster</th>\n",
       "      <td>1805</td>\n",
       "      <td>62</td>\n",
       "    </tr>\n",
       "    <tr>\n",
       "      <th>Disaster</th>\n",
       "      <td>188</td>\n",
       "      <td>219</td>\n",
       "    </tr>\n",
       "  </tbody>\n",
       "</table>\n",
       "</div>"
      ],
      "text/plain": [
       "              Not Disaster  Disaster\n",
       "Not Disaster          1805        62\n",
       "Disaster               188       219"
      ]
     },
     "execution_count": 34,
     "metadata": {},
     "output_type": "execute_result"
    }
   ],
   "source": [
    "labels = ['Not Disaster', 'Disaster']\n",
    "print(classification_report(y_test, LR_bow_predictions))\n",
    "pd.DataFrame(confusion_matrix(y_test, LR_bow_predictions), index=labels, columns=labels)"
   ]
  },
  {
   "cell_type": "markdown",
   "id": "ea15d94f",
   "metadata": {},
   "source": [
    "Since we care more about labeling disaster tweets correctly (we want our model to identify disaster tweets correctly more than having high precision within the positive class) we will use recall for the positive (disaster) class as our evaluation metric. Our positive class has a recall of 0.54 which is not great. Let's see how a logistic regression model performs on our TFIDF vectorized data."
   ]
  },
  {
   "cell_type": "code",
   "execution_count": 38,
   "id": "aa0cf4b4",
   "metadata": {},
   "outputs": [],
   "source": [
    "# Let's try a Logistic Regression model using our tfidf vectorized data.\n",
    "# Initiate the model.\n",
    "LR = LogisticRegression(penalty='l2', max_iter=500, C=1, solver='lbfgs', random_state=42)\n",
    "\n",
    "# Fit LR model with our training data.\n",
    "LR.fit(tv_train_features, y_train)\n",
    "\n",
    "# Make predictions using our vectorized test features.\n",
    "LR_tfidf_predictions = LR.predict(tv_test_features)"
   ]
  },
  {
   "cell_type": "code",
   "execution_count": 39,
   "id": "f90a6235",
   "metadata": {},
   "outputs": [
    {
     "name": "stdout",
     "output_type": "stream",
     "text": [
      "              precision    recall  f1-score   support\n",
      "\n",
      "           0       0.88      0.99      0.93      1867\n",
      "           1       0.87      0.36      0.51       407\n",
      "\n",
      "    accuracy                           0.88      2274\n",
      "   macro avg       0.88      0.67      0.72      2274\n",
      "weighted avg       0.88      0.88      0.85      2274\n",
      "\n"
     ]
    },
    {
     "data": {
      "text/html": [
       "<div>\n",
       "<style scoped>\n",
       "    .dataframe tbody tr th:only-of-type {\n",
       "        vertical-align: middle;\n",
       "    }\n",
       "\n",
       "    .dataframe tbody tr th {\n",
       "        vertical-align: top;\n",
       "    }\n",
       "\n",
       "    .dataframe thead th {\n",
       "        text-align: right;\n",
       "    }\n",
       "</style>\n",
       "<table border=\"1\" class=\"dataframe\">\n",
       "  <thead>\n",
       "    <tr style=\"text-align: right;\">\n",
       "      <th></th>\n",
       "      <th>Not Disaster</th>\n",
       "      <th>Disaster</th>\n",
       "    </tr>\n",
       "  </thead>\n",
       "  <tbody>\n",
       "    <tr>\n",
       "      <th>Not Disaster</th>\n",
       "      <td>1846</td>\n",
       "      <td>21</td>\n",
       "    </tr>\n",
       "    <tr>\n",
       "      <th>Disaster</th>\n",
       "      <td>261</td>\n",
       "      <td>146</td>\n",
       "    </tr>\n",
       "  </tbody>\n",
       "</table>\n",
       "</div>"
      ],
      "text/plain": [
       "              Not Disaster  Disaster\n",
       "Not Disaster          1846        21\n",
       "Disaster               261       146"
      ]
     },
     "execution_count": 39,
     "metadata": {},
     "output_type": "execute_result"
    }
   ],
   "source": [
    "labels = ['Not Disaster', 'Disaster']\n",
    "print(classification_report(y_test, LR_tfidf_predictions))\n",
    "pd.DataFrame(confusion_matrix(y_test, LR_tfidf_predictions), index=labels, columns=labels)"
   ]
  },
  {
   "cell_type": "markdown",
   "id": "bdb144b2",
   "metadata": {},
   "source": [
    "The recall here is much worse at 0.36. Let's try a random forest model on both the count and tfidf vectorized data."
   ]
  },
  {
   "cell_type": "code",
   "execution_count": 40,
   "id": "6e6e0f4d",
   "metadata": {},
   "outputs": [],
   "source": [
    "# Let's now try a Random Forest model (using our count vectorized data).\n",
    "# Initiate the model.\n",
    "RF = RandomForestClassifier(n_estimators=100, n_jobs=-1, random_state=42)\n",
    "\n",
    "# train model\n",
    "RF.fit(cv_train_features, y_train)\n",
    "\n",
    "# predict on test data\n",
    "RF_bow_predictions = RF.predict(cv_test_features)"
   ]
  },
  {
   "cell_type": "code",
   "execution_count": 41,
   "id": "945fc728",
   "metadata": {},
   "outputs": [
    {
     "name": "stdout",
     "output_type": "stream",
     "text": [
      "              precision    recall  f1-score   support\n",
      "\n",
      "           0       0.90      0.96      0.93      1867\n",
      "           1       0.74      0.49      0.59       407\n",
      "\n",
      "    accuracy                           0.88      2274\n",
      "   macro avg       0.82      0.73      0.76      2274\n",
      "weighted avg       0.87      0.88      0.87      2274\n",
      "\n"
     ]
    },
    {
     "data": {
      "text/html": [
       "<div>\n",
       "<style scoped>\n",
       "    .dataframe tbody tr th:only-of-type {\n",
       "        vertical-align: middle;\n",
       "    }\n",
       "\n",
       "    .dataframe tbody tr th {\n",
       "        vertical-align: top;\n",
       "    }\n",
       "\n",
       "    .dataframe thead th {\n",
       "        text-align: right;\n",
       "    }\n",
       "</style>\n",
       "<table border=\"1\" class=\"dataframe\">\n",
       "  <thead>\n",
       "    <tr style=\"text-align: right;\">\n",
       "      <th></th>\n",
       "      <th>Not Disaster</th>\n",
       "      <th>Disaster</th>\n",
       "    </tr>\n",
       "  </thead>\n",
       "  <tbody>\n",
       "    <tr>\n",
       "      <th>Not Disaster</th>\n",
       "      <td>1795</td>\n",
       "      <td>72</td>\n",
       "    </tr>\n",
       "    <tr>\n",
       "      <th>Disaster</th>\n",
       "      <td>207</td>\n",
       "      <td>200</td>\n",
       "    </tr>\n",
       "  </tbody>\n",
       "</table>\n",
       "</div>"
      ],
      "text/plain": [
       "              Not Disaster  Disaster\n",
       "Not Disaster          1795        72\n",
       "Disaster               207       200"
      ]
     },
     "execution_count": 41,
     "metadata": {},
     "output_type": "execute_result"
    }
   ],
   "source": [
    "labels = ['Not Disaster', 'Disaster']\n",
    "print(classification_report(y_test, RF_bow_predictions))\n",
    "pd.DataFrame(confusion_matrix(y_test, RF_bow_predictions), index=labels, columns=labels)"
   ]
  },
  {
   "cell_type": "code",
   "execution_count": 42,
   "id": "25a140f1",
   "metadata": {},
   "outputs": [],
   "source": [
    "# Let's try a Random Forest model using our tfidf vectorized data.\n",
    "# Initiate the model.\n",
    "RF = RandomForestClassifier(n_estimators=100, n_jobs=-1, random_state=42)\n",
    "\n",
    "# train model\n",
    "RF.fit(tv_train_features, y_train)\n",
    "\n",
    "# predict on test data\n",
    "RF_tfidf_predictions = RF.predict(tv_test_features)"
   ]
  },
  {
   "cell_type": "code",
   "execution_count": 43,
   "id": "d6ea4238",
   "metadata": {},
   "outputs": [
    {
     "name": "stdout",
     "output_type": "stream",
     "text": [
      "              precision    recall  f1-score   support\n",
      "\n",
      "           0       0.90      0.97      0.93      1867\n",
      "           1       0.80      0.49      0.61       407\n",
      "\n",
      "    accuracy                           0.89      2274\n",
      "   macro avg       0.85      0.73      0.77      2274\n",
      "weighted avg       0.88      0.89      0.87      2274\n",
      "\n"
     ]
    },
    {
     "data": {
      "text/html": [
       "<div>\n",
       "<style scoped>\n",
       "    .dataframe tbody tr th:only-of-type {\n",
       "        vertical-align: middle;\n",
       "    }\n",
       "\n",
       "    .dataframe tbody tr th {\n",
       "        vertical-align: top;\n",
       "    }\n",
       "\n",
       "    .dataframe thead th {\n",
       "        text-align: right;\n",
       "    }\n",
       "</style>\n",
       "<table border=\"1\" class=\"dataframe\">\n",
       "  <thead>\n",
       "    <tr style=\"text-align: right;\">\n",
       "      <th></th>\n",
       "      <th>Not Disaster</th>\n",
       "      <th>Disaster</th>\n",
       "    </tr>\n",
       "  </thead>\n",
       "  <tbody>\n",
       "    <tr>\n",
       "      <th>Not Disaster</th>\n",
       "      <td>1818</td>\n",
       "      <td>49</td>\n",
       "    </tr>\n",
       "    <tr>\n",
       "      <th>Disaster</th>\n",
       "      <td>209</td>\n",
       "      <td>198</td>\n",
       "    </tr>\n",
       "  </tbody>\n",
       "</table>\n",
       "</div>"
      ],
      "text/plain": [
       "              Not Disaster  Disaster\n",
       "Not Disaster          1818        49\n",
       "Disaster               209       198"
      ]
     },
     "execution_count": 43,
     "metadata": {},
     "output_type": "execute_result"
    }
   ],
   "source": [
    "labels = ['Not Disaster', 'Disaster']\n",
    "print(classification_report(y_test, RF_tfidf_predictions))\n",
    "pd.DataFrame(confusion_matrix(y_test, RF_tfidf_predictions), index=labels, columns=labels)"
   ]
  },
  {
   "cell_type": "markdown",
   "id": "dc124b35",
   "metadata": {},
   "source": [
    "So far none of our models are performing at the level that we would like. Our best model is the logistic regression one using the count vectorized data. This model only had a recall of 0.54 for the positive (disaster) class."
   ]
  },
  {
   "cell_type": "code",
   "execution_count": null,
   "id": "017f5b2d",
   "metadata": {},
   "outputs": [],
   "source": [
    "# Should I try to balance the data for better performance even though it will delete a good amount of data?\n",
    "# Deep learning neural netowrk necessary to try? Other models to try that can improve performance (recall)?\n",
    "# How should I investigate feature importance for text data? Make word clouds for the correctly predicted class tweets? (i.e. TP and TN)"
   ]
  }
 ],
 "metadata": {
  "kernelspec": {
   "display_name": "Python 3 (ipykernel)",
   "language": "python",
   "name": "python3"
  },
  "language_info": {
   "codemirror_mode": {
    "name": "ipython",
    "version": 3
   },
   "file_extension": ".py",
   "mimetype": "text/x-python",
   "name": "python",
   "nbconvert_exporter": "python",
   "pygments_lexer": "ipython3",
   "version": "3.9.7"
  }
 },
 "nbformat": 4,
 "nbformat_minor": 5
}
