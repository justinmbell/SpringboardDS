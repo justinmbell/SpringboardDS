{
 "cells": [
  {
   "cell_type": "markdown",
   "id": "efec8e13",
   "metadata": {},
   "source": [
    "# Disaster Tweet Detector (NLP): Preprocessing and Modeling"
   ]
  },
  {
   "cell_type": "markdown",
   "id": "ec1ddca2",
   "metadata": {},
   "source": [
    "## Importing Libraries"
   ]
  },
  {
   "cell_type": "code",
   "execution_count": 1,
   "id": "2cd82015",
   "metadata": {},
   "outputs": [],
   "source": [
    "import pandas as pd\n",
    "import numpy as np\n",
    "import matplotlib.pyplot as plt\n",
    "import seaborn as sns\n",
    "from sklearn.model_selection import train_test_split\n",
    "from sklearn.feature_extraction.text import CountVectorizer, TfidfVectorizer\n",
    "from sklearn.linear_model import LogisticRegression\n",
    "from sklearn.ensemble import RandomForestClassifier, GradientBoostingClassifier\n",
    "from sklearn.neighbors import KNeighborsClassifier\n",
    "from sklearn import svm\n",
    "from sklearn.metrics import confusion_matrix, classification_report\n",
    "from imblearn.under_sampling import RandomUnderSampler\n",
    "from sklearn.metrics import roc_auc_score, roc_curve"
   ]
  },
  {
   "cell_type": "markdown",
   "id": "20b7a811",
   "metadata": {},
   "source": [
    "## Importing Data"
   ]
  },
  {
   "cell_type": "code",
   "execution_count": 2,
   "id": "1f62ea5b",
   "metadata": {},
   "outputs": [
    {
     "data": {
      "text/html": [
       "<div>\n",
       "<style scoped>\n",
       "    .dataframe tbody tr th:only-of-type {\n",
       "        vertical-align: middle;\n",
       "    }\n",
       "\n",
       "    .dataframe tbody tr th {\n",
       "        vertical-align: top;\n",
       "    }\n",
       "\n",
       "    .dataframe thead th {\n",
       "        text-align: right;\n",
       "    }\n",
       "</style>\n",
       "<table border=\"1\" class=\"dataframe\">\n",
       "  <thead>\n",
       "    <tr style=\"text-align: right;\">\n",
       "      <th></th>\n",
       "      <th>Unnamed: 0</th>\n",
       "      <th>id</th>\n",
       "      <th>keyword</th>\n",
       "      <th>location</th>\n",
       "      <th>text</th>\n",
       "      <th>target</th>\n",
       "      <th>text_cleaned</th>\n",
       "    </tr>\n",
       "  </thead>\n",
       "  <tbody>\n",
       "    <tr>\n",
       "      <th>0</th>\n",
       "      <td>0</td>\n",
       "      <td>0</td>\n",
       "      <td>ablaze</td>\n",
       "      <td>NaN</td>\n",
       "      <td>Communal violence in Bhainsa, Telangana. \"Ston...</td>\n",
       "      <td>1</td>\n",
       "      <td>communal violence bhainsa telangana stones pel...</td>\n",
       "    </tr>\n",
       "    <tr>\n",
       "      <th>1</th>\n",
       "      <td>1</td>\n",
       "      <td>1</td>\n",
       "      <td>ablaze</td>\n",
       "      <td>NaN</td>\n",
       "      <td>Telangana: Section 144 has been imposed in Bha...</td>\n",
       "      <td>1</td>\n",
       "      <td>telangana section imposed bhainsa january clas...</td>\n",
       "    </tr>\n",
       "    <tr>\n",
       "      <th>2</th>\n",
       "      <td>2</td>\n",
       "      <td>2</td>\n",
       "      <td>ablaze</td>\n",
       "      <td>New York City</td>\n",
       "      <td>Arsonist sets cars ablaze at dealership https:...</td>\n",
       "      <td>1</td>\n",
       "      <td>arsonist sets cars ablaze dealership</td>\n",
       "    </tr>\n",
       "    <tr>\n",
       "      <th>3</th>\n",
       "      <td>3</td>\n",
       "      <td>3</td>\n",
       "      <td>ablaze</td>\n",
       "      <td>Morgantown, WV</td>\n",
       "      <td>Arsonist sets cars ablaze at dealership https:...</td>\n",
       "      <td>1</td>\n",
       "      <td>arsonist sets cars ablaze dealership</td>\n",
       "    </tr>\n",
       "    <tr>\n",
       "      <th>4</th>\n",
       "      <td>4</td>\n",
       "      <td>4</td>\n",
       "      <td>ablaze</td>\n",
       "      <td>NaN</td>\n",
       "      <td>\"Lord Jesus, your love brings freedom and pard...</td>\n",
       "      <td>0</td>\n",
       "      <td>lord jesus love brings freedom pardon fill hol...</td>\n",
       "    </tr>\n",
       "  </tbody>\n",
       "</table>\n",
       "</div>"
      ],
      "text/plain": [
       "   Unnamed: 0  id keyword        location  \\\n",
       "0           0   0  ablaze             NaN   \n",
       "1           1   1  ablaze             NaN   \n",
       "2           2   2  ablaze   New York City   \n",
       "3           3   3  ablaze  Morgantown, WV   \n",
       "4           4   4  ablaze             NaN   \n",
       "\n",
       "                                                text  target  \\\n",
       "0  Communal violence in Bhainsa, Telangana. \"Ston...       1   \n",
       "1  Telangana: Section 144 has been imposed in Bha...       1   \n",
       "2  Arsonist sets cars ablaze at dealership https:...       1   \n",
       "3  Arsonist sets cars ablaze at dealership https:...       1   \n",
       "4  \"Lord Jesus, your love brings freedom and pard...       0   \n",
       "\n",
       "                                        text_cleaned  \n",
       "0  communal violence bhainsa telangana stones pel...  \n",
       "1  telangana section imposed bhainsa january clas...  \n",
       "2               arsonist sets cars ablaze dealership  \n",
       "3               arsonist sets cars ablaze dealership  \n",
       "4  lord jesus love brings freedom pardon fill hol...  "
      ]
     },
     "execution_count": 2,
     "metadata": {},
     "output_type": "execute_result"
    }
   ],
   "source": [
    "tweets_c = pd.read_csv('C:/Users/justi/SpringboardDS/Capstone III/data/cleaned_tweets.csv')\n",
    "tweets_c.head()"
   ]
  },
  {
   "cell_type": "code",
   "execution_count": 3,
   "id": "072d8f5f",
   "metadata": {},
   "outputs": [
    {
     "data": {
      "text/html": [
       "<div>\n",
       "<style scoped>\n",
       "    .dataframe tbody tr th:only-of-type {\n",
       "        vertical-align: middle;\n",
       "    }\n",
       "\n",
       "    .dataframe tbody tr th {\n",
       "        vertical-align: top;\n",
       "    }\n",
       "\n",
       "    .dataframe thead th {\n",
       "        text-align: right;\n",
       "    }\n",
       "</style>\n",
       "<table border=\"1\" class=\"dataframe\">\n",
       "  <thead>\n",
       "    <tr style=\"text-align: right;\">\n",
       "      <th></th>\n",
       "      <th>target</th>\n",
       "      <th>text_cleaned</th>\n",
       "    </tr>\n",
       "  </thead>\n",
       "  <tbody>\n",
       "    <tr>\n",
       "      <th>0</th>\n",
       "      <td>1</td>\n",
       "      <td>communal violence bhainsa telangana stones pel...</td>\n",
       "    </tr>\n",
       "    <tr>\n",
       "      <th>1</th>\n",
       "      <td>1</td>\n",
       "      <td>telangana section imposed bhainsa january clas...</td>\n",
       "    </tr>\n",
       "    <tr>\n",
       "      <th>2</th>\n",
       "      <td>1</td>\n",
       "      <td>arsonist sets cars ablaze dealership</td>\n",
       "    </tr>\n",
       "    <tr>\n",
       "      <th>3</th>\n",
       "      <td>1</td>\n",
       "      <td>arsonist sets cars ablaze dealership</td>\n",
       "    </tr>\n",
       "    <tr>\n",
       "      <th>4</th>\n",
       "      <td>0</td>\n",
       "      <td>lord jesus love brings freedom pardon fill hol...</td>\n",
       "    </tr>\n",
       "  </tbody>\n",
       "</table>\n",
       "</div>"
      ],
      "text/plain": [
       "   target                                       text_cleaned\n",
       "0       1  communal violence bhainsa telangana stones pel...\n",
       "1       1  telangana section imposed bhainsa january clas...\n",
       "2       1               arsonist sets cars ablaze dealership\n",
       "3       1               arsonist sets cars ablaze dealership\n",
       "4       0  lord jesus love brings freedom pardon fill hol..."
      ]
     },
     "execution_count": 3,
     "metadata": {},
     "output_type": "execute_result"
    }
   ],
   "source": [
    "# Drop unwanted columns.\n",
    "tweets_c = tweets_c.drop(columns = ['Unnamed: 0', 'id', 'keyword', 'location', 'text'])\n",
    "tweets_c.head()"
   ]
  },
  {
   "cell_type": "markdown",
   "id": "f0752f16",
   "metadata": {},
   "source": [
    "## Preprocessing"
   ]
  },
  {
   "cell_type": "code",
   "execution_count": 4,
   "id": "d565a06a",
   "metadata": {},
   "outputs": [
    {
     "data": {
      "text/html": [
       "<div>\n",
       "<style scoped>\n",
       "    .dataframe tbody tr th:only-of-type {\n",
       "        vertical-align: middle;\n",
       "    }\n",
       "\n",
       "    .dataframe tbody tr th {\n",
       "        vertical-align: top;\n",
       "    }\n",
       "\n",
       "    .dataframe thead th {\n",
       "        text-align: right;\n",
       "    }\n",
       "</style>\n",
       "<table border=\"1\" class=\"dataframe\">\n",
       "  <thead>\n",
       "    <tr style=\"text-align: right;\">\n",
       "      <th></th>\n",
       "      <th>target</th>\n",
       "      <th>text_cleaned</th>\n",
       "    </tr>\n",
       "  </thead>\n",
       "  <tbody>\n",
       "    <tr>\n",
       "      <th>1500</th>\n",
       "      <td>0</td>\n",
       "      <td>NaN</td>\n",
       "    </tr>\n",
       "  </tbody>\n",
       "</table>\n",
       "</div>"
      ],
      "text/plain": [
       "      target text_cleaned\n",
       "1500       0          NaN"
      ]
     },
     "execution_count": 4,
     "metadata": {},
     "output_type": "execute_result"
    }
   ],
   "source": [
    "# There appears to be one null row still in our dataframe.\n",
    "tweets_c[tweets_c.isnull().any(axis=1)]"
   ]
  },
  {
   "cell_type": "code",
   "execution_count": 5,
   "id": "a4568123",
   "metadata": {},
   "outputs": [],
   "source": [
    "# Let's drop it.\n",
    "tweets_c = tweets_c.dropna()"
   ]
  },
  {
   "cell_type": "code",
   "execution_count": 6,
   "id": "09be8ceb",
   "metadata": {},
   "outputs": [],
   "source": [
    "# Split our data into train/test sets.\n",
    "X = tweets_c.text_cleaned\n",
    "y = tweets_c.target\n",
    "\n",
    "X_train, X_test, y_train, y_test = train_test_split(X, y, test_size=0.20, random_state=42)"
   ]
  },
  {
   "cell_type": "code",
   "execution_count": 7,
   "id": "c95209b7",
   "metadata": {},
   "outputs": [],
   "source": [
    "# Build BOW features on trained tweets.\n",
    "cv = CountVectorizer(binary=False, min_df=5, max_df=1.0, ngram_range=(1,2)) # ignore terms that appear in <5 docs and >100% docs (don't ignore any terms for the max_df setting), includes unigrams and bigrams.\n",
    "cv_train_features = cv.fit_transform(X_train)"
   ]
  },
  {
   "cell_type": "code",
   "execution_count": 8,
   "id": "4aebc24f",
   "metadata": {},
   "outputs": [],
   "source": [
    "# Build TFIDF features on trained tweets.\n",
    "tv = TfidfVectorizer(use_idf=True, min_df=5, max_df=1.0, ngram_range=(1,2), sublinear_tf=True)\n",
    "tv_train_features = tv.fit_transform(X_train)"
   ]
  },
  {
   "cell_type": "code",
   "execution_count": 9,
   "id": "8d4e0ba7",
   "metadata": {},
   "outputs": [],
   "source": [
    "# Transform test tweets into features.\n",
    "cv_test_features = cv.transform(X_test)\n",
    "tv_test_features = tv.transform(X_test)"
   ]
  },
  {
   "cell_type": "code",
   "execution_count": 10,
   "id": "b91bf35b",
   "metadata": {},
   "outputs": [
    {
     "name": "stdout",
     "output_type": "stream",
     "text": [
      "BOW model:> Train features shape: (9095, 3647)  Test features shape: (2274, 3647)\n",
      "TFIDF model:> Train features shape: (9095, 3647)  Test features shape: (2274, 3647)\n"
     ]
    }
   ],
   "source": [
    "# Check our vectorized features shape.\n",
    "print('BOW model:> Train features shape:', cv_train_features.shape, ' Test features shape:', cv_test_features.shape) # Is the 3647 the amount of words in our docs with each column containing counts per tweet?\n",
    "print('TFIDF model:> Train features shape:', tv_train_features.shape, ' Test features shape:', tv_test_features.shape)"
   ]
  },
  {
   "cell_type": "markdown",
   "id": "b6346b45",
   "metadata": {},
   "source": [
    "## Modeling with Imbalanced Data"
   ]
  },
  {
   "cell_type": "markdown",
   "id": "c85c3471",
   "metadata": {},
   "source": [
    "### Logistic Regression"
   ]
  },
  {
   "cell_type": "code",
   "execution_count": 11,
   "id": "e17603b4",
   "metadata": {},
   "outputs": [],
   "source": [
    "# Let's try a Logistic Regression model first using our count vectorized data.\n",
    "# Initiate the model.\n",
    "LR_ib_cv = LogisticRegression(penalty='l2', max_iter=500, C=1, solver='lbfgs', random_state=42) # Should I do a gridsearch with text data?\n",
    "\n",
    "# Fit LR model with our training data.\n",
    "LR_ib_cv.fit(cv_train_features, y_train)\n",
    "\n",
    "# Make predictions using our vectorized test features.\n",
    "LR_ib_bow_predictions = LR_ib_cv.predict(cv_test_features)"
   ]
  },
  {
   "cell_type": "code",
   "execution_count": 12,
   "id": "fcf23194",
   "metadata": {},
   "outputs": [
    {
     "name": "stdout",
     "output_type": "stream",
     "text": [
      "              precision    recall  f1-score   support\n",
      "\n",
      "           0       0.91      0.97      0.94      1867\n",
      "           1       0.78      0.54      0.64       407\n",
      "\n",
      "    accuracy                           0.89      2274\n",
      "   macro avg       0.84      0.75      0.79      2274\n",
      "weighted avg       0.88      0.89      0.88      2274\n",
      "\n"
     ]
    },
    {
     "data": {
      "text/html": [
       "<div>\n",
       "<style scoped>\n",
       "    .dataframe tbody tr th:only-of-type {\n",
       "        vertical-align: middle;\n",
       "    }\n",
       "\n",
       "    .dataframe tbody tr th {\n",
       "        vertical-align: top;\n",
       "    }\n",
       "\n",
       "    .dataframe thead th {\n",
       "        text-align: right;\n",
       "    }\n",
       "</style>\n",
       "<table border=\"1\" class=\"dataframe\">\n",
       "  <thead>\n",
       "    <tr style=\"text-align: right;\">\n",
       "      <th></th>\n",
       "      <th>Not Disaster</th>\n",
       "      <th>Disaster</th>\n",
       "    </tr>\n",
       "  </thead>\n",
       "  <tbody>\n",
       "    <tr>\n",
       "      <th>Not Disaster</th>\n",
       "      <td>1805</td>\n",
       "      <td>62</td>\n",
       "    </tr>\n",
       "    <tr>\n",
       "      <th>Disaster</th>\n",
       "      <td>188</td>\n",
       "      <td>219</td>\n",
       "    </tr>\n",
       "  </tbody>\n",
       "</table>\n",
       "</div>"
      ],
      "text/plain": [
       "              Not Disaster  Disaster\n",
       "Not Disaster          1805        62\n",
       "Disaster               188       219"
      ]
     },
     "execution_count": 12,
     "metadata": {},
     "output_type": "execute_result"
    }
   ],
   "source": [
    "# Model evaluation.\n",
    "labels = ['Not Disaster', 'Disaster']\n",
    "print(classification_report(y_test, LR_ib_bow_predictions))\n",
    "pd.DataFrame(confusion_matrix(y_test, LR_ib_bow_predictions), index=labels, columns=labels)"
   ]
  },
  {
   "cell_type": "markdown",
   "id": "ea15d94f",
   "metadata": {},
   "source": [
    "Since we care more about labeling disaster tweets correctly (we want our model to identify disaster tweets correctly more than having high precision within the positive class) we will use recall for the positive (disaster) class as our evaluation metric. Our positive class has a recall of 0.54 which is not great. Let's see how a logistic regression model performs on our TFIDF vectorized data."
   ]
  },
  {
   "cell_type": "code",
   "execution_count": 13,
   "id": "aa0cf4b4",
   "metadata": {},
   "outputs": [],
   "source": [
    "# Let's try a Logistic Regression model using our tfidf vectorized data.\n",
    "# Initiate the model.\n",
    "LR_ib_tv = LogisticRegression(penalty='l2', max_iter=500, C=1, solver='lbfgs', random_state=42)\n",
    "\n",
    "# Fit LR model with our training data.\n",
    "LR_ib_tv.fit(tv_train_features, y_train)\n",
    "\n",
    "# Make predictions using our vectorized test features.\n",
    "LR_ib_tfidf_predictions = LR_ib_tv.predict(tv_test_features)"
   ]
  },
  {
   "cell_type": "code",
   "execution_count": 14,
   "id": "f90a6235",
   "metadata": {},
   "outputs": [
    {
     "name": "stdout",
     "output_type": "stream",
     "text": [
      "              precision    recall  f1-score   support\n",
      "\n",
      "           0       0.88      0.99      0.93      1867\n",
      "           1       0.87      0.36      0.51       407\n",
      "\n",
      "    accuracy                           0.88      2274\n",
      "   macro avg       0.88      0.67      0.72      2274\n",
      "weighted avg       0.88      0.88      0.85      2274\n",
      "\n"
     ]
    },
    {
     "data": {
      "text/html": [
       "<div>\n",
       "<style scoped>\n",
       "    .dataframe tbody tr th:only-of-type {\n",
       "        vertical-align: middle;\n",
       "    }\n",
       "\n",
       "    .dataframe tbody tr th {\n",
       "        vertical-align: top;\n",
       "    }\n",
       "\n",
       "    .dataframe thead th {\n",
       "        text-align: right;\n",
       "    }\n",
       "</style>\n",
       "<table border=\"1\" class=\"dataframe\">\n",
       "  <thead>\n",
       "    <tr style=\"text-align: right;\">\n",
       "      <th></th>\n",
       "      <th>Not Disaster</th>\n",
       "      <th>Disaster</th>\n",
       "    </tr>\n",
       "  </thead>\n",
       "  <tbody>\n",
       "    <tr>\n",
       "      <th>Not Disaster</th>\n",
       "      <td>1846</td>\n",
       "      <td>21</td>\n",
       "    </tr>\n",
       "    <tr>\n",
       "      <th>Disaster</th>\n",
       "      <td>261</td>\n",
       "      <td>146</td>\n",
       "    </tr>\n",
       "  </tbody>\n",
       "</table>\n",
       "</div>"
      ],
      "text/plain": [
       "              Not Disaster  Disaster\n",
       "Not Disaster          1846        21\n",
       "Disaster               261       146"
      ]
     },
     "execution_count": 14,
     "metadata": {},
     "output_type": "execute_result"
    }
   ],
   "source": [
    "# Model evaluation.\n",
    "print(classification_report(y_test, LR_ib_tfidf_predictions))\n",
    "pd.DataFrame(confusion_matrix(y_test, LR_ib_tfidf_predictions), index=labels, columns=labels)"
   ]
  },
  {
   "cell_type": "markdown",
   "id": "bdb144b2",
   "metadata": {},
   "source": [
    "The recall here is much worse at 0.36. Let's try a random forest model on both the count and tfidf vectorized data."
   ]
  },
  {
   "cell_type": "markdown",
   "id": "414c308c",
   "metadata": {},
   "source": [
    "### Random Forest"
   ]
  },
  {
   "cell_type": "code",
   "execution_count": 15,
   "id": "6e6e0f4d",
   "metadata": {},
   "outputs": [],
   "source": [
    "# Let's now try a Random Forest model using our count vectorized data.\n",
    "# Initiate the model.\n",
    "RF_ib_cv = RandomForestClassifier(n_estimators=100, n_jobs=-1, random_state=42)\n",
    "\n",
    "# Fit RF model with our training data.\n",
    "RF_ib_cv.fit(cv_train_features, y_train)\n",
    "\n",
    "# Make predictions using our vectorized test features.\n",
    "RF_ib_bow_predictions = RF_ib_cv.predict(cv_test_features)"
   ]
  },
  {
   "cell_type": "code",
   "execution_count": 16,
   "id": "945fc728",
   "metadata": {},
   "outputs": [
    {
     "name": "stdout",
     "output_type": "stream",
     "text": [
      "              precision    recall  f1-score   support\n",
      "\n",
      "           0       0.90      0.96      0.93      1867\n",
      "           1       0.74      0.49      0.59       407\n",
      "\n",
      "    accuracy                           0.88      2274\n",
      "   macro avg       0.82      0.73      0.76      2274\n",
      "weighted avg       0.87      0.88      0.87      2274\n",
      "\n"
     ]
    },
    {
     "data": {
      "text/html": [
       "<div>\n",
       "<style scoped>\n",
       "    .dataframe tbody tr th:only-of-type {\n",
       "        vertical-align: middle;\n",
       "    }\n",
       "\n",
       "    .dataframe tbody tr th {\n",
       "        vertical-align: top;\n",
       "    }\n",
       "\n",
       "    .dataframe thead th {\n",
       "        text-align: right;\n",
       "    }\n",
       "</style>\n",
       "<table border=\"1\" class=\"dataframe\">\n",
       "  <thead>\n",
       "    <tr style=\"text-align: right;\">\n",
       "      <th></th>\n",
       "      <th>Not Disaster</th>\n",
       "      <th>Disaster</th>\n",
       "    </tr>\n",
       "  </thead>\n",
       "  <tbody>\n",
       "    <tr>\n",
       "      <th>Not Disaster</th>\n",
       "      <td>1795</td>\n",
       "      <td>72</td>\n",
       "    </tr>\n",
       "    <tr>\n",
       "      <th>Disaster</th>\n",
       "      <td>207</td>\n",
       "      <td>200</td>\n",
       "    </tr>\n",
       "  </tbody>\n",
       "</table>\n",
       "</div>"
      ],
      "text/plain": [
       "              Not Disaster  Disaster\n",
       "Not Disaster          1795        72\n",
       "Disaster               207       200"
      ]
     },
     "execution_count": 16,
     "metadata": {},
     "output_type": "execute_result"
    }
   ],
   "source": [
    "# Model evaluation.\n",
    "print(classification_report(y_test, RF_ib_bow_predictions))\n",
    "pd.DataFrame(confusion_matrix(y_test, RF_ib_bow_predictions), index=labels, columns=labels)"
   ]
  },
  {
   "cell_type": "code",
   "execution_count": 17,
   "id": "25a140f1",
   "metadata": {},
   "outputs": [],
   "source": [
    "# Let's try a Random Forest model using our tfidf vectorized data.\n",
    "# Initiate the model.\n",
    "RF_ib_tv = RandomForestClassifier(n_estimators=100, n_jobs=-1, random_state=42)\n",
    "\n",
    "# Fit RF model with our training data.\n",
    "RF_ib_tv.fit(tv_train_features, y_train)\n",
    "\n",
    "# Make predictions using our vectorized test features.\n",
    "RF_ib_tfidf_predictions = RF_ib_tv.predict(tv_test_features)"
   ]
  },
  {
   "cell_type": "code",
   "execution_count": 18,
   "id": "d6ea4238",
   "metadata": {},
   "outputs": [
    {
     "name": "stdout",
     "output_type": "stream",
     "text": [
      "              precision    recall  f1-score   support\n",
      "\n",
      "           0       0.90      0.97      0.93      1867\n",
      "           1       0.80      0.49      0.61       407\n",
      "\n",
      "    accuracy                           0.89      2274\n",
      "   macro avg       0.85      0.73      0.77      2274\n",
      "weighted avg       0.88      0.89      0.87      2274\n",
      "\n"
     ]
    },
    {
     "data": {
      "text/html": [
       "<div>\n",
       "<style scoped>\n",
       "    .dataframe tbody tr th:only-of-type {\n",
       "        vertical-align: middle;\n",
       "    }\n",
       "\n",
       "    .dataframe tbody tr th {\n",
       "        vertical-align: top;\n",
       "    }\n",
       "\n",
       "    .dataframe thead th {\n",
       "        text-align: right;\n",
       "    }\n",
       "</style>\n",
       "<table border=\"1\" class=\"dataframe\">\n",
       "  <thead>\n",
       "    <tr style=\"text-align: right;\">\n",
       "      <th></th>\n",
       "      <th>Not Disaster</th>\n",
       "      <th>Disaster</th>\n",
       "    </tr>\n",
       "  </thead>\n",
       "  <tbody>\n",
       "    <tr>\n",
       "      <th>Not Disaster</th>\n",
       "      <td>1818</td>\n",
       "      <td>49</td>\n",
       "    </tr>\n",
       "    <tr>\n",
       "      <th>Disaster</th>\n",
       "      <td>209</td>\n",
       "      <td>198</td>\n",
       "    </tr>\n",
       "  </tbody>\n",
       "</table>\n",
       "</div>"
      ],
      "text/plain": [
       "              Not Disaster  Disaster\n",
       "Not Disaster          1818        49\n",
       "Disaster               209       198"
      ]
     },
     "execution_count": 18,
     "metadata": {},
     "output_type": "execute_result"
    }
   ],
   "source": [
    "# Model evaluation.\n",
    "print(classification_report(y_test, RF_ib_tfidf_predictions))\n",
    "pd.DataFrame(confusion_matrix(y_test, RF_ib_tfidf_predictions), index=labels, columns=labels)"
   ]
  },
  {
   "cell_type": "markdown",
   "id": "dc124b35",
   "metadata": {},
   "source": [
    "So far none of our models are performing at the level that we would like. Our best model is the logistic regression one using the count vectorized data. This model only had a recall of 0.54 for the positive (disaster) class."
   ]
  },
  {
   "cell_type": "markdown",
   "id": "42c46c31",
   "metadata": {},
   "source": [
    "### KNN"
   ]
  },
  {
   "cell_type": "code",
   "execution_count": 19,
   "id": "f129b046",
   "metadata": {},
   "outputs": [],
   "source": [
    "# Let's now try a KNN model using our count vectorized data.\n",
    "# Initiate the model.\n",
    "KNN_ib_cv = KNeighborsClassifier(n_neighbors=5, n_jobs=-1)\n",
    "\n",
    "# Fit KNN model with our training data.\n",
    "KNN_ib_cv.fit(cv_train_features, y_train)\n",
    "\n",
    "# Make predictions using our vectorized test features.\n",
    "KNN_ib_bow_predictions = KNN_ib_cv.predict(cv_test_features)"
   ]
  },
  {
   "cell_type": "code",
   "execution_count": 20,
   "id": "0ecc96ca",
   "metadata": {},
   "outputs": [
    {
     "name": "stdout",
     "output_type": "stream",
     "text": [
      "              precision    recall  f1-score   support\n",
      "\n",
      "           0       0.85      0.99      0.91      1867\n",
      "           1       0.82      0.20      0.32       407\n",
      "\n",
      "    accuracy                           0.85      2274\n",
      "   macro avg       0.84      0.59      0.62      2274\n",
      "weighted avg       0.85      0.85      0.81      2274\n",
      "\n"
     ]
    },
    {
     "data": {
      "text/html": [
       "<div>\n",
       "<style scoped>\n",
       "    .dataframe tbody tr th:only-of-type {\n",
       "        vertical-align: middle;\n",
       "    }\n",
       "\n",
       "    .dataframe tbody tr th {\n",
       "        vertical-align: top;\n",
       "    }\n",
       "\n",
       "    .dataframe thead th {\n",
       "        text-align: right;\n",
       "    }\n",
       "</style>\n",
       "<table border=\"1\" class=\"dataframe\">\n",
       "  <thead>\n",
       "    <tr style=\"text-align: right;\">\n",
       "      <th></th>\n",
       "      <th>Not Disaster</th>\n",
       "      <th>Disaster</th>\n",
       "    </tr>\n",
       "  </thead>\n",
       "  <tbody>\n",
       "    <tr>\n",
       "      <th>Not Disaster</th>\n",
       "      <td>1850</td>\n",
       "      <td>17</td>\n",
       "    </tr>\n",
       "    <tr>\n",
       "      <th>Disaster</th>\n",
       "      <td>327</td>\n",
       "      <td>80</td>\n",
       "    </tr>\n",
       "  </tbody>\n",
       "</table>\n",
       "</div>"
      ],
      "text/plain": [
       "              Not Disaster  Disaster\n",
       "Not Disaster          1850        17\n",
       "Disaster               327        80"
      ]
     },
     "execution_count": 20,
     "metadata": {},
     "output_type": "execute_result"
    }
   ],
   "source": [
    "# Model evaluation.\n",
    "print(classification_report(y_test, KNN_ib_bow_predictions))\n",
    "pd.DataFrame(confusion_matrix(y_test, KNN_ib_bow_predictions), index=labels, columns=labels)"
   ]
  },
  {
   "cell_type": "code",
   "execution_count": 21,
   "id": "dcb15a13",
   "metadata": {},
   "outputs": [],
   "source": [
    "# Let's now try a KNN model using our tfidf vectorized data.\n",
    "# Initiate the model.\n",
    "KNN_ib_tv = KNeighborsClassifier(n_neighbors=5, n_jobs=-1)\n",
    "\n",
    "# Fit KNN model with our training data.\n",
    "KNN_ib_tv.fit(tv_train_features, y_train)\n",
    "\n",
    "# Make predictions using our vectorized test features.\n",
    "KNN_ib_tfidf_predictions = KNN_ib_tv.predict(tv_test_features)"
   ]
  },
  {
   "cell_type": "code",
   "execution_count": 22,
   "id": "d11c6e39",
   "metadata": {},
   "outputs": [
    {
     "name": "stdout",
     "output_type": "stream",
     "text": [
      "              precision    recall  f1-score   support\n",
      "\n",
      "           0       0.85      0.99      0.91      1867\n",
      "           1       0.84      0.18      0.29       407\n",
      "\n",
      "    accuracy                           0.85      2274\n",
      "   macro avg       0.84      0.58      0.60      2274\n",
      "weighted avg       0.85      0.85      0.80      2274\n",
      "\n"
     ]
    },
    {
     "data": {
      "text/html": [
       "<div>\n",
       "<style scoped>\n",
       "    .dataframe tbody tr th:only-of-type {\n",
       "        vertical-align: middle;\n",
       "    }\n",
       "\n",
       "    .dataframe tbody tr th {\n",
       "        vertical-align: top;\n",
       "    }\n",
       "\n",
       "    .dataframe thead th {\n",
       "        text-align: right;\n",
       "    }\n",
       "</style>\n",
       "<table border=\"1\" class=\"dataframe\">\n",
       "  <thead>\n",
       "    <tr style=\"text-align: right;\">\n",
       "      <th></th>\n",
       "      <th>Not Disaster</th>\n",
       "      <th>Disaster</th>\n",
       "    </tr>\n",
       "  </thead>\n",
       "  <tbody>\n",
       "    <tr>\n",
       "      <th>Not Disaster</th>\n",
       "      <td>1853</td>\n",
       "      <td>14</td>\n",
       "    </tr>\n",
       "    <tr>\n",
       "      <th>Disaster</th>\n",
       "      <td>335</td>\n",
       "      <td>72</td>\n",
       "    </tr>\n",
       "  </tbody>\n",
       "</table>\n",
       "</div>"
      ],
      "text/plain": [
       "              Not Disaster  Disaster\n",
       "Not Disaster          1853        14\n",
       "Disaster               335        72"
      ]
     },
     "execution_count": 22,
     "metadata": {},
     "output_type": "execute_result"
    }
   ],
   "source": [
    "# Model evaluation.\n",
    "print(classification_report(y_test, KNN_ib_tfidf_predictions))\n",
    "pd.DataFrame(confusion_matrix(y_test, KNN_ib_tfidf_predictions), index=labels, columns=labels)"
   ]
  },
  {
   "cell_type": "markdown",
   "id": "4176a79e",
   "metadata": {},
   "source": [
    "### SVM"
   ]
  },
  {
   "cell_type": "code",
   "execution_count": 23,
   "id": "dec68a67",
   "metadata": {},
   "outputs": [],
   "source": [
    "# Let's now try a SVM model using our count vectorized data.\n",
    "# Initiate the model.\n",
    "SVM_ib_cv = svm.SVC(C=1, gamma=1, random_state=42)\n",
    "\n",
    "# Fit SVM model with our training data.\n",
    "SVM_ib_cv.fit(cv_train_features, y_train)\n",
    "\n",
    "# Make predictions using our vectorized test features.\n",
    "SVM_ib_bow_predictions = SVM_ib_cv.predict(cv_test_features)"
   ]
  },
  {
   "cell_type": "code",
   "execution_count": 24,
   "id": "d47b01b9",
   "metadata": {},
   "outputs": [
    {
     "name": "stdout",
     "output_type": "stream",
     "text": [
      "              precision    recall  f1-score   support\n",
      "\n",
      "           0       0.85      1.00      0.92      1867\n",
      "           1       0.96      0.19      0.32       407\n",
      "\n",
      "    accuracy                           0.85      2274\n",
      "   macro avg       0.91      0.60      0.62      2274\n",
      "weighted avg       0.87      0.85      0.81      2274\n",
      "\n"
     ]
    },
    {
     "data": {
      "text/html": [
       "<div>\n",
       "<style scoped>\n",
       "    .dataframe tbody tr th:only-of-type {\n",
       "        vertical-align: middle;\n",
       "    }\n",
       "\n",
       "    .dataframe tbody tr th {\n",
       "        vertical-align: top;\n",
       "    }\n",
       "\n",
       "    .dataframe thead th {\n",
       "        text-align: right;\n",
       "    }\n",
       "</style>\n",
       "<table border=\"1\" class=\"dataframe\">\n",
       "  <thead>\n",
       "    <tr style=\"text-align: right;\">\n",
       "      <th></th>\n",
       "      <th>Not Disaster</th>\n",
       "      <th>Disaster</th>\n",
       "    </tr>\n",
       "  </thead>\n",
       "  <tbody>\n",
       "    <tr>\n",
       "      <th>Not Disaster</th>\n",
       "      <td>1864</td>\n",
       "      <td>3</td>\n",
       "    </tr>\n",
       "    <tr>\n",
       "      <th>Disaster</th>\n",
       "      <td>329</td>\n",
       "      <td>78</td>\n",
       "    </tr>\n",
       "  </tbody>\n",
       "</table>\n",
       "</div>"
      ],
      "text/plain": [
       "              Not Disaster  Disaster\n",
       "Not Disaster          1864         3\n",
       "Disaster               329        78"
      ]
     },
     "execution_count": 24,
     "metadata": {},
     "output_type": "execute_result"
    }
   ],
   "source": [
    "# Model evaluation.\n",
    "print(classification_report(y_test, SVM_ib_bow_predictions))\n",
    "pd.DataFrame(confusion_matrix(y_test, SVM_ib_bow_predictions), index=labels, columns=labels)"
   ]
  },
  {
   "cell_type": "code",
   "execution_count": 25,
   "id": "0293358c",
   "metadata": {},
   "outputs": [],
   "source": [
    "# Let's now try a SVM model using our tfidf vectorized data.\n",
    "# Initiate the model.\n",
    "SVM_ib_tv = svm.SVC(C=1, gamma=1, random_state=42)\n",
    "\n",
    "# Fit SVM model with our training data.\n",
    "SVM_ib_tv.fit(tv_train_features, y_train)\n",
    "\n",
    "# Make predictions using our vectorized test features.\n",
    "SVM_ib_tfidf_predictions = SVM_ib_tv.predict(tv_test_features)"
   ]
  },
  {
   "cell_type": "code",
   "execution_count": 26,
   "id": "d7d72f5e",
   "metadata": {},
   "outputs": [
    {
     "name": "stdout",
     "output_type": "stream",
     "text": [
      "              precision    recall  f1-score   support\n",
      "\n",
      "           0       0.89      0.99      0.94      1867\n",
      "           1       0.90      0.44      0.59       407\n",
      "\n",
      "    accuracy                           0.89      2274\n",
      "   macro avg       0.89      0.71      0.76      2274\n",
      "weighted avg       0.89      0.89      0.87      2274\n",
      "\n"
     ]
    },
    {
     "data": {
      "text/html": [
       "<div>\n",
       "<style scoped>\n",
       "    .dataframe tbody tr th:only-of-type {\n",
       "        vertical-align: middle;\n",
       "    }\n",
       "\n",
       "    .dataframe tbody tr th {\n",
       "        vertical-align: top;\n",
       "    }\n",
       "\n",
       "    .dataframe thead th {\n",
       "        text-align: right;\n",
       "    }\n",
       "</style>\n",
       "<table border=\"1\" class=\"dataframe\">\n",
       "  <thead>\n",
       "    <tr style=\"text-align: right;\">\n",
       "      <th></th>\n",
       "      <th>Not Disaster</th>\n",
       "      <th>Disaster</th>\n",
       "    </tr>\n",
       "  </thead>\n",
       "  <tbody>\n",
       "    <tr>\n",
       "      <th>Not Disaster</th>\n",
       "      <td>1846</td>\n",
       "      <td>21</td>\n",
       "    </tr>\n",
       "    <tr>\n",
       "      <th>Disaster</th>\n",
       "      <td>228</td>\n",
       "      <td>179</td>\n",
       "    </tr>\n",
       "  </tbody>\n",
       "</table>\n",
       "</div>"
      ],
      "text/plain": [
       "              Not Disaster  Disaster\n",
       "Not Disaster          1846        21\n",
       "Disaster               228       179"
      ]
     },
     "execution_count": 26,
     "metadata": {},
     "output_type": "execute_result"
    }
   ],
   "source": [
    "# Model evaluation.\n",
    "print(classification_report(y_test, SVM_ib_tfidf_predictions))\n",
    "pd.DataFrame(confusion_matrix(y_test, SVM_ib_tfidf_predictions), index=labels, columns=labels)"
   ]
  },
  {
   "cell_type": "markdown",
   "id": "958f50f2",
   "metadata": {},
   "source": [
    "### Gradient Boosting"
   ]
  },
  {
   "cell_type": "code",
   "execution_count": 27,
   "id": "ded36a3b",
   "metadata": {},
   "outputs": [
    {
     "name": "stderr",
     "output_type": "stream",
     "text": [
      "C:\\Users\\justi\\anaconda3\\lib\\site-packages\\sklearn\\tree\\_classes.py:306: FutureWarning: `max_features='auto'` has been deprecated in 1.1 and will be removed in 1.3. To keep the past behaviour, explicitly set `max_features=1.0'`.\n",
      "  warnings.warn(\n",
      "C:\\Users\\justi\\anaconda3\\lib\\site-packages\\sklearn\\tree\\_classes.py:306: FutureWarning: `max_features='auto'` has been deprecated in 1.1 and will be removed in 1.3. To keep the past behaviour, explicitly set `max_features=1.0'`.\n",
      "  warnings.warn(\n",
      "C:\\Users\\justi\\anaconda3\\lib\\site-packages\\sklearn\\tree\\_classes.py:306: FutureWarning: `max_features='auto'` has been deprecated in 1.1 and will be removed in 1.3. To keep the past behaviour, explicitly set `max_features=1.0'`.\n",
      "  warnings.warn(\n",
      "C:\\Users\\justi\\anaconda3\\lib\\site-packages\\sklearn\\tree\\_classes.py:306: FutureWarning: `max_features='auto'` has been deprecated in 1.1 and will be removed in 1.3. To keep the past behaviour, explicitly set `max_features=1.0'`.\n",
      "  warnings.warn(\n",
      "C:\\Users\\justi\\anaconda3\\lib\\site-packages\\sklearn\\tree\\_classes.py:306: FutureWarning: `max_features='auto'` has been deprecated in 1.1 and will be removed in 1.3. To keep the past behaviour, explicitly set `max_features=1.0'`.\n",
      "  warnings.warn(\n",
      "C:\\Users\\justi\\anaconda3\\lib\\site-packages\\sklearn\\tree\\_classes.py:306: FutureWarning: `max_features='auto'` has been deprecated in 1.1 and will be removed in 1.3. To keep the past behaviour, explicitly set `max_features=1.0'`.\n",
      "  warnings.warn(\n",
      "C:\\Users\\justi\\anaconda3\\lib\\site-packages\\sklearn\\tree\\_classes.py:306: FutureWarning: `max_features='auto'` has been deprecated in 1.1 and will be removed in 1.3. To keep the past behaviour, explicitly set `max_features=1.0'`.\n",
      "  warnings.warn(\n",
      "C:\\Users\\justi\\anaconda3\\lib\\site-packages\\sklearn\\tree\\_classes.py:306: FutureWarning: `max_features='auto'` has been deprecated in 1.1 and will be removed in 1.3. To keep the past behaviour, explicitly set `max_features=1.0'`.\n",
      "  warnings.warn(\n",
      "C:\\Users\\justi\\anaconda3\\lib\\site-packages\\sklearn\\tree\\_classes.py:306: FutureWarning: `max_features='auto'` has been deprecated in 1.1 and will be removed in 1.3. To keep the past behaviour, explicitly set `max_features=1.0'`.\n",
      "  warnings.warn(\n",
      "C:\\Users\\justi\\anaconda3\\lib\\site-packages\\sklearn\\tree\\_classes.py:306: FutureWarning: `max_features='auto'` has been deprecated in 1.1 and will be removed in 1.3. To keep the past behaviour, explicitly set `max_features=1.0'`.\n",
      "  warnings.warn(\n",
      "C:\\Users\\justi\\anaconda3\\lib\\site-packages\\sklearn\\tree\\_classes.py:306: FutureWarning: `max_features='auto'` has been deprecated in 1.1 and will be removed in 1.3. To keep the past behaviour, explicitly set `max_features=1.0'`.\n",
      "  warnings.warn(\n",
      "C:\\Users\\justi\\anaconda3\\lib\\site-packages\\sklearn\\tree\\_classes.py:306: FutureWarning: `max_features='auto'` has been deprecated in 1.1 and will be removed in 1.3. To keep the past behaviour, explicitly set `max_features=1.0'`.\n",
      "  warnings.warn(\n",
      "C:\\Users\\justi\\anaconda3\\lib\\site-packages\\sklearn\\tree\\_classes.py:306: FutureWarning: `max_features='auto'` has been deprecated in 1.1 and will be removed in 1.3. To keep the past behaviour, explicitly set `max_features=1.0'`.\n",
      "  warnings.warn(\n",
      "C:\\Users\\justi\\anaconda3\\lib\\site-packages\\sklearn\\tree\\_classes.py:306: FutureWarning: `max_features='auto'` has been deprecated in 1.1 and will be removed in 1.3. To keep the past behaviour, explicitly set `max_features=1.0'`.\n",
      "  warnings.warn(\n",
      "C:\\Users\\justi\\anaconda3\\lib\\site-packages\\sklearn\\tree\\_classes.py:306: FutureWarning: `max_features='auto'` has been deprecated in 1.1 and will be removed in 1.3. To keep the past behaviour, explicitly set `max_features=1.0'`.\n",
      "  warnings.warn(\n",
      "C:\\Users\\justi\\anaconda3\\lib\\site-packages\\sklearn\\tree\\_classes.py:306: FutureWarning: `max_features='auto'` has been deprecated in 1.1 and will be removed in 1.3. To keep the past behaviour, explicitly set `max_features=1.0'`.\n",
      "  warnings.warn(\n",
      "C:\\Users\\justi\\anaconda3\\lib\\site-packages\\sklearn\\tree\\_classes.py:306: FutureWarning: `max_features='auto'` has been deprecated in 1.1 and will be removed in 1.3. To keep the past behaviour, explicitly set `max_features=1.0'`.\n",
      "  warnings.warn(\n",
      "C:\\Users\\justi\\anaconda3\\lib\\site-packages\\sklearn\\tree\\_classes.py:306: FutureWarning: `max_features='auto'` has been deprecated in 1.1 and will be removed in 1.3. To keep the past behaviour, explicitly set `max_features=1.0'`.\n",
      "  warnings.warn(\n",
      "C:\\Users\\justi\\anaconda3\\lib\\site-packages\\sklearn\\tree\\_classes.py:306: FutureWarning: `max_features='auto'` has been deprecated in 1.1 and will be removed in 1.3. To keep the past behaviour, explicitly set `max_features=1.0'`.\n",
      "  warnings.warn(\n",
      "C:\\Users\\justi\\anaconda3\\lib\\site-packages\\sklearn\\tree\\_classes.py:306: FutureWarning: `max_features='auto'` has been deprecated in 1.1 and will be removed in 1.3. To keep the past behaviour, explicitly set `max_features=1.0'`.\n",
      "  warnings.warn(\n",
      "C:\\Users\\justi\\anaconda3\\lib\\site-packages\\sklearn\\tree\\_classes.py:306: FutureWarning: `max_features='auto'` has been deprecated in 1.1 and will be removed in 1.3. To keep the past behaviour, explicitly set `max_features=1.0'`.\n",
      "  warnings.warn(\n",
      "C:\\Users\\justi\\anaconda3\\lib\\site-packages\\sklearn\\tree\\_classes.py:306: FutureWarning: `max_features='auto'` has been deprecated in 1.1 and will be removed in 1.3. To keep the past behaviour, explicitly set `max_features=1.0'`.\n",
      "  warnings.warn(\n",
      "C:\\Users\\justi\\anaconda3\\lib\\site-packages\\sklearn\\tree\\_classes.py:306: FutureWarning: `max_features='auto'` has been deprecated in 1.1 and will be removed in 1.3. To keep the past behaviour, explicitly set `max_features=1.0'`.\n",
      "  warnings.warn(\n",
      "C:\\Users\\justi\\anaconda3\\lib\\site-packages\\sklearn\\tree\\_classes.py:306: FutureWarning: `max_features='auto'` has been deprecated in 1.1 and will be removed in 1.3. To keep the past behaviour, explicitly set `max_features=1.0'`.\n",
      "  warnings.warn(\n",
      "C:\\Users\\justi\\anaconda3\\lib\\site-packages\\sklearn\\tree\\_classes.py:306: FutureWarning: `max_features='auto'` has been deprecated in 1.1 and will be removed in 1.3. To keep the past behaviour, explicitly set `max_features=1.0'`.\n",
      "  warnings.warn(\n",
      "C:\\Users\\justi\\anaconda3\\lib\\site-packages\\sklearn\\tree\\_classes.py:306: FutureWarning: `max_features='auto'` has been deprecated in 1.1 and will be removed in 1.3. To keep the past behaviour, explicitly set `max_features=1.0'`.\n",
      "  warnings.warn(\n",
      "C:\\Users\\justi\\anaconda3\\lib\\site-packages\\sklearn\\tree\\_classes.py:306: FutureWarning: `max_features='auto'` has been deprecated in 1.1 and will be removed in 1.3. To keep the past behaviour, explicitly set `max_features=1.0'`.\n",
      "  warnings.warn(\n",
      "C:\\Users\\justi\\anaconda3\\lib\\site-packages\\sklearn\\tree\\_classes.py:306: FutureWarning: `max_features='auto'` has been deprecated in 1.1 and will be removed in 1.3. To keep the past behaviour, explicitly set `max_features=1.0'`.\n",
      "  warnings.warn(\n",
      "C:\\Users\\justi\\anaconda3\\lib\\site-packages\\sklearn\\tree\\_classes.py:306: FutureWarning: `max_features='auto'` has been deprecated in 1.1 and will be removed in 1.3. To keep the past behaviour, explicitly set `max_features=1.0'`.\n",
      "  warnings.warn(\n",
      "C:\\Users\\justi\\anaconda3\\lib\\site-packages\\sklearn\\tree\\_classes.py:306: FutureWarning: `max_features='auto'` has been deprecated in 1.1 and will be removed in 1.3. To keep the past behaviour, explicitly set `max_features=1.0'`.\n",
      "  warnings.warn(\n",
      "C:\\Users\\justi\\anaconda3\\lib\\site-packages\\sklearn\\tree\\_classes.py:306: FutureWarning: `max_features='auto'` has been deprecated in 1.1 and will be removed in 1.3. To keep the past behaviour, explicitly set `max_features=1.0'`.\n",
      "  warnings.warn(\n",
      "C:\\Users\\justi\\anaconda3\\lib\\site-packages\\sklearn\\tree\\_classes.py:306: FutureWarning: `max_features='auto'` has been deprecated in 1.1 and will be removed in 1.3. To keep the past behaviour, explicitly set `max_features=1.0'`.\n",
      "  warnings.warn(\n",
      "C:\\Users\\justi\\anaconda3\\lib\\site-packages\\sklearn\\tree\\_classes.py:306: FutureWarning: `max_features='auto'` has been deprecated in 1.1 and will be removed in 1.3. To keep the past behaviour, explicitly set `max_features=1.0'`.\n",
      "  warnings.warn(\n",
      "C:\\Users\\justi\\anaconda3\\lib\\site-packages\\sklearn\\tree\\_classes.py:306: FutureWarning: `max_features='auto'` has been deprecated in 1.1 and will be removed in 1.3. To keep the past behaviour, explicitly set `max_features=1.0'`.\n",
      "  warnings.warn(\n",
      "C:\\Users\\justi\\anaconda3\\lib\\site-packages\\sklearn\\tree\\_classes.py:306: FutureWarning: `max_features='auto'` has been deprecated in 1.1 and will be removed in 1.3. To keep the past behaviour, explicitly set `max_features=1.0'`.\n",
      "  warnings.warn(\n"
     ]
    },
    {
     "name": "stderr",
     "output_type": "stream",
     "text": [
      "C:\\Users\\justi\\anaconda3\\lib\\site-packages\\sklearn\\tree\\_classes.py:306: FutureWarning: `max_features='auto'` has been deprecated in 1.1 and will be removed in 1.3. To keep the past behaviour, explicitly set `max_features=1.0'`.\n",
      "  warnings.warn(\n",
      "C:\\Users\\justi\\anaconda3\\lib\\site-packages\\sklearn\\tree\\_classes.py:306: FutureWarning: `max_features='auto'` has been deprecated in 1.1 and will be removed in 1.3. To keep the past behaviour, explicitly set `max_features=1.0'`.\n",
      "  warnings.warn(\n",
      "C:\\Users\\justi\\anaconda3\\lib\\site-packages\\sklearn\\tree\\_classes.py:306: FutureWarning: `max_features='auto'` has been deprecated in 1.1 and will be removed in 1.3. To keep the past behaviour, explicitly set `max_features=1.0'`.\n",
      "  warnings.warn(\n",
      "C:\\Users\\justi\\anaconda3\\lib\\site-packages\\sklearn\\tree\\_classes.py:306: FutureWarning: `max_features='auto'` has been deprecated in 1.1 and will be removed in 1.3. To keep the past behaviour, explicitly set `max_features=1.0'`.\n",
      "  warnings.warn(\n",
      "C:\\Users\\justi\\anaconda3\\lib\\site-packages\\sklearn\\tree\\_classes.py:306: FutureWarning: `max_features='auto'` has been deprecated in 1.1 and will be removed in 1.3. To keep the past behaviour, explicitly set `max_features=1.0'`.\n",
      "  warnings.warn(\n",
      "C:\\Users\\justi\\anaconda3\\lib\\site-packages\\sklearn\\tree\\_classes.py:306: FutureWarning: `max_features='auto'` has been deprecated in 1.1 and will be removed in 1.3. To keep the past behaviour, explicitly set `max_features=1.0'`.\n",
      "  warnings.warn(\n",
      "C:\\Users\\justi\\anaconda3\\lib\\site-packages\\sklearn\\tree\\_classes.py:306: FutureWarning: `max_features='auto'` has been deprecated in 1.1 and will be removed in 1.3. To keep the past behaviour, explicitly set `max_features=1.0'`.\n",
      "  warnings.warn(\n",
      "C:\\Users\\justi\\anaconda3\\lib\\site-packages\\sklearn\\tree\\_classes.py:306: FutureWarning: `max_features='auto'` has been deprecated in 1.1 and will be removed in 1.3. To keep the past behaviour, explicitly set `max_features=1.0'`.\n",
      "  warnings.warn(\n",
      "C:\\Users\\justi\\anaconda3\\lib\\site-packages\\sklearn\\tree\\_classes.py:306: FutureWarning: `max_features='auto'` has been deprecated in 1.1 and will be removed in 1.3. To keep the past behaviour, explicitly set `max_features=1.0'`.\n",
      "  warnings.warn(\n",
      "C:\\Users\\justi\\anaconda3\\lib\\site-packages\\sklearn\\tree\\_classes.py:306: FutureWarning: `max_features='auto'` has been deprecated in 1.1 and will be removed in 1.3. To keep the past behaviour, explicitly set `max_features=1.0'`.\n",
      "  warnings.warn(\n",
      "C:\\Users\\justi\\anaconda3\\lib\\site-packages\\sklearn\\tree\\_classes.py:306: FutureWarning: `max_features='auto'` has been deprecated in 1.1 and will be removed in 1.3. To keep the past behaviour, explicitly set `max_features=1.0'`.\n",
      "  warnings.warn(\n",
      "C:\\Users\\justi\\anaconda3\\lib\\site-packages\\sklearn\\tree\\_classes.py:306: FutureWarning: `max_features='auto'` has been deprecated in 1.1 and will be removed in 1.3. To keep the past behaviour, explicitly set `max_features=1.0'`.\n",
      "  warnings.warn(\n",
      "C:\\Users\\justi\\anaconda3\\lib\\site-packages\\sklearn\\tree\\_classes.py:306: FutureWarning: `max_features='auto'` has been deprecated in 1.1 and will be removed in 1.3. To keep the past behaviour, explicitly set `max_features=1.0'`.\n",
      "  warnings.warn(\n",
      "C:\\Users\\justi\\anaconda3\\lib\\site-packages\\sklearn\\tree\\_classes.py:306: FutureWarning: `max_features='auto'` has been deprecated in 1.1 and will be removed in 1.3. To keep the past behaviour, explicitly set `max_features=1.0'`.\n",
      "  warnings.warn(\n",
      "C:\\Users\\justi\\anaconda3\\lib\\site-packages\\sklearn\\tree\\_classes.py:306: FutureWarning: `max_features='auto'` has been deprecated in 1.1 and will be removed in 1.3. To keep the past behaviour, explicitly set `max_features=1.0'`.\n",
      "  warnings.warn(\n",
      "C:\\Users\\justi\\anaconda3\\lib\\site-packages\\sklearn\\tree\\_classes.py:306: FutureWarning: `max_features='auto'` has been deprecated in 1.1 and will be removed in 1.3. To keep the past behaviour, explicitly set `max_features=1.0'`.\n",
      "  warnings.warn(\n",
      "C:\\Users\\justi\\anaconda3\\lib\\site-packages\\sklearn\\tree\\_classes.py:306: FutureWarning: `max_features='auto'` has been deprecated in 1.1 and will be removed in 1.3. To keep the past behaviour, explicitly set `max_features=1.0'`.\n",
      "  warnings.warn(\n",
      "C:\\Users\\justi\\anaconda3\\lib\\site-packages\\sklearn\\tree\\_classes.py:306: FutureWarning: `max_features='auto'` has been deprecated in 1.1 and will be removed in 1.3. To keep the past behaviour, explicitly set `max_features=1.0'`.\n",
      "  warnings.warn(\n",
      "C:\\Users\\justi\\anaconda3\\lib\\site-packages\\sklearn\\tree\\_classes.py:306: FutureWarning: `max_features='auto'` has been deprecated in 1.1 and will be removed in 1.3. To keep the past behaviour, explicitly set `max_features=1.0'`.\n",
      "  warnings.warn(\n",
      "C:\\Users\\justi\\anaconda3\\lib\\site-packages\\sklearn\\tree\\_classes.py:306: FutureWarning: `max_features='auto'` has been deprecated in 1.1 and will be removed in 1.3. To keep the past behaviour, explicitly set `max_features=1.0'`.\n",
      "  warnings.warn(\n",
      "C:\\Users\\justi\\anaconda3\\lib\\site-packages\\sklearn\\tree\\_classes.py:306: FutureWarning: `max_features='auto'` has been deprecated in 1.1 and will be removed in 1.3. To keep the past behaviour, explicitly set `max_features=1.0'`.\n",
      "  warnings.warn(\n",
      "C:\\Users\\justi\\anaconda3\\lib\\site-packages\\sklearn\\tree\\_classes.py:306: FutureWarning: `max_features='auto'` has been deprecated in 1.1 and will be removed in 1.3. To keep the past behaviour, explicitly set `max_features=1.0'`.\n",
      "  warnings.warn(\n",
      "C:\\Users\\justi\\anaconda3\\lib\\site-packages\\sklearn\\tree\\_classes.py:306: FutureWarning: `max_features='auto'` has been deprecated in 1.1 and will be removed in 1.3. To keep the past behaviour, explicitly set `max_features=1.0'`.\n",
      "  warnings.warn(\n",
      "C:\\Users\\justi\\anaconda3\\lib\\site-packages\\sklearn\\tree\\_classes.py:306: FutureWarning: `max_features='auto'` has been deprecated in 1.1 and will be removed in 1.3. To keep the past behaviour, explicitly set `max_features=1.0'`.\n",
      "  warnings.warn(\n",
      "C:\\Users\\justi\\anaconda3\\lib\\site-packages\\sklearn\\tree\\_classes.py:306: FutureWarning: `max_features='auto'` has been deprecated in 1.1 and will be removed in 1.3. To keep the past behaviour, explicitly set `max_features=1.0'`.\n",
      "  warnings.warn(\n",
      "C:\\Users\\justi\\anaconda3\\lib\\site-packages\\sklearn\\tree\\_classes.py:306: FutureWarning: `max_features='auto'` has been deprecated in 1.1 and will be removed in 1.3. To keep the past behaviour, explicitly set `max_features=1.0'`.\n",
      "  warnings.warn(\n",
      "C:\\Users\\justi\\anaconda3\\lib\\site-packages\\sklearn\\tree\\_classes.py:306: FutureWarning: `max_features='auto'` has been deprecated in 1.1 and will be removed in 1.3. To keep the past behaviour, explicitly set `max_features=1.0'`.\n",
      "  warnings.warn(\n",
      "C:\\Users\\justi\\anaconda3\\lib\\site-packages\\sklearn\\tree\\_classes.py:306: FutureWarning: `max_features='auto'` has been deprecated in 1.1 and will be removed in 1.3. To keep the past behaviour, explicitly set `max_features=1.0'`.\n",
      "  warnings.warn(\n",
      "C:\\Users\\justi\\anaconda3\\lib\\site-packages\\sklearn\\tree\\_classes.py:306: FutureWarning: `max_features='auto'` has been deprecated in 1.1 and will be removed in 1.3. To keep the past behaviour, explicitly set `max_features=1.0'`.\n",
      "  warnings.warn(\n",
      "C:\\Users\\justi\\anaconda3\\lib\\site-packages\\sklearn\\tree\\_classes.py:306: FutureWarning: `max_features='auto'` has been deprecated in 1.1 and will be removed in 1.3. To keep the past behaviour, explicitly set `max_features=1.0'`.\n",
      "  warnings.warn(\n",
      "C:\\Users\\justi\\anaconda3\\lib\\site-packages\\sklearn\\tree\\_classes.py:306: FutureWarning: `max_features='auto'` has been deprecated in 1.1 and will be removed in 1.3. To keep the past behaviour, explicitly set `max_features=1.0'`.\n",
      "  warnings.warn(\n",
      "C:\\Users\\justi\\anaconda3\\lib\\site-packages\\sklearn\\tree\\_classes.py:306: FutureWarning: `max_features='auto'` has been deprecated in 1.1 and will be removed in 1.3. To keep the past behaviour, explicitly set `max_features=1.0'`.\n",
      "  warnings.warn(\n",
      "C:\\Users\\justi\\anaconda3\\lib\\site-packages\\sklearn\\tree\\_classes.py:306: FutureWarning: `max_features='auto'` has been deprecated in 1.1 and will be removed in 1.3. To keep the past behaviour, explicitly set `max_features=1.0'`.\n",
      "  warnings.warn(\n",
      "C:\\Users\\justi\\anaconda3\\lib\\site-packages\\sklearn\\tree\\_classes.py:306: FutureWarning: `max_features='auto'` has been deprecated in 1.1 and will be removed in 1.3. To keep the past behaviour, explicitly set `max_features=1.0'`.\n",
      "  warnings.warn(\n",
      "C:\\Users\\justi\\anaconda3\\lib\\site-packages\\sklearn\\tree\\_classes.py:306: FutureWarning: `max_features='auto'` has been deprecated in 1.1 and will be removed in 1.3. To keep the past behaviour, explicitly set `max_features=1.0'`.\n",
      "  warnings.warn(\n",
      "C:\\Users\\justi\\anaconda3\\lib\\site-packages\\sklearn\\tree\\_classes.py:306: FutureWarning: `max_features='auto'` has been deprecated in 1.1 and will be removed in 1.3. To keep the past behaviour, explicitly set `max_features=1.0'`.\n",
      "  warnings.warn(\n",
      "C:\\Users\\justi\\anaconda3\\lib\\site-packages\\sklearn\\tree\\_classes.py:306: FutureWarning: `max_features='auto'` has been deprecated in 1.1 and will be removed in 1.3. To keep the past behaviour, explicitly set `max_features=1.0'`.\n",
      "  warnings.warn(\n"
     ]
    },
    {
     "name": "stderr",
     "output_type": "stream",
     "text": [
      "C:\\Users\\justi\\anaconda3\\lib\\site-packages\\sklearn\\tree\\_classes.py:306: FutureWarning: `max_features='auto'` has been deprecated in 1.1 and will be removed in 1.3. To keep the past behaviour, explicitly set `max_features=1.0'`.\n",
      "  warnings.warn(\n",
      "C:\\Users\\justi\\anaconda3\\lib\\site-packages\\sklearn\\tree\\_classes.py:306: FutureWarning: `max_features='auto'` has been deprecated in 1.1 and will be removed in 1.3. To keep the past behaviour, explicitly set `max_features=1.0'`.\n",
      "  warnings.warn(\n",
      "C:\\Users\\justi\\anaconda3\\lib\\site-packages\\sklearn\\tree\\_classes.py:306: FutureWarning: `max_features='auto'` has been deprecated in 1.1 and will be removed in 1.3. To keep the past behaviour, explicitly set `max_features=1.0'`.\n",
      "  warnings.warn(\n",
      "C:\\Users\\justi\\anaconda3\\lib\\site-packages\\sklearn\\tree\\_classes.py:306: FutureWarning: `max_features='auto'` has been deprecated in 1.1 and will be removed in 1.3. To keep the past behaviour, explicitly set `max_features=1.0'`.\n",
      "  warnings.warn(\n",
      "C:\\Users\\justi\\anaconda3\\lib\\site-packages\\sklearn\\tree\\_classes.py:306: FutureWarning: `max_features='auto'` has been deprecated in 1.1 and will be removed in 1.3. To keep the past behaviour, explicitly set `max_features=1.0'`.\n",
      "  warnings.warn(\n",
      "C:\\Users\\justi\\anaconda3\\lib\\site-packages\\sklearn\\tree\\_classes.py:306: FutureWarning: `max_features='auto'` has been deprecated in 1.1 and will be removed in 1.3. To keep the past behaviour, explicitly set `max_features=1.0'`.\n",
      "  warnings.warn(\n",
      "C:\\Users\\justi\\anaconda3\\lib\\site-packages\\sklearn\\tree\\_classes.py:306: FutureWarning: `max_features='auto'` has been deprecated in 1.1 and will be removed in 1.3. To keep the past behaviour, explicitly set `max_features=1.0'`.\n",
      "  warnings.warn(\n",
      "C:\\Users\\justi\\anaconda3\\lib\\site-packages\\sklearn\\tree\\_classes.py:306: FutureWarning: `max_features='auto'` has been deprecated in 1.1 and will be removed in 1.3. To keep the past behaviour, explicitly set `max_features=1.0'`.\n",
      "  warnings.warn(\n",
      "C:\\Users\\justi\\anaconda3\\lib\\site-packages\\sklearn\\tree\\_classes.py:306: FutureWarning: `max_features='auto'` has been deprecated in 1.1 and will be removed in 1.3. To keep the past behaviour, explicitly set `max_features=1.0'`.\n",
      "  warnings.warn(\n",
      "C:\\Users\\justi\\anaconda3\\lib\\site-packages\\sklearn\\tree\\_classes.py:306: FutureWarning: `max_features='auto'` has been deprecated in 1.1 and will be removed in 1.3. To keep the past behaviour, explicitly set `max_features=1.0'`.\n",
      "  warnings.warn(\n",
      "C:\\Users\\justi\\anaconda3\\lib\\site-packages\\sklearn\\tree\\_classes.py:306: FutureWarning: `max_features='auto'` has been deprecated in 1.1 and will be removed in 1.3. To keep the past behaviour, explicitly set `max_features=1.0'`.\n",
      "  warnings.warn(\n",
      "C:\\Users\\justi\\anaconda3\\lib\\site-packages\\sklearn\\tree\\_classes.py:306: FutureWarning: `max_features='auto'` has been deprecated in 1.1 and will be removed in 1.3. To keep the past behaviour, explicitly set `max_features=1.0'`.\n",
      "  warnings.warn(\n",
      "C:\\Users\\justi\\anaconda3\\lib\\site-packages\\sklearn\\tree\\_classes.py:306: FutureWarning: `max_features='auto'` has been deprecated in 1.1 and will be removed in 1.3. To keep the past behaviour, explicitly set `max_features=1.0'`.\n",
      "  warnings.warn(\n",
      "C:\\Users\\justi\\anaconda3\\lib\\site-packages\\sklearn\\tree\\_classes.py:306: FutureWarning: `max_features='auto'` has been deprecated in 1.1 and will be removed in 1.3. To keep the past behaviour, explicitly set `max_features=1.0'`.\n",
      "  warnings.warn(\n",
      "C:\\Users\\justi\\anaconda3\\lib\\site-packages\\sklearn\\tree\\_classes.py:306: FutureWarning: `max_features='auto'` has been deprecated in 1.1 and will be removed in 1.3. To keep the past behaviour, explicitly set `max_features=1.0'`.\n",
      "  warnings.warn(\n",
      "C:\\Users\\justi\\anaconda3\\lib\\site-packages\\sklearn\\tree\\_classes.py:306: FutureWarning: `max_features='auto'` has been deprecated in 1.1 and will be removed in 1.3. To keep the past behaviour, explicitly set `max_features=1.0'`.\n",
      "  warnings.warn(\n",
      "C:\\Users\\justi\\anaconda3\\lib\\site-packages\\sklearn\\tree\\_classes.py:306: FutureWarning: `max_features='auto'` has been deprecated in 1.1 and will be removed in 1.3. To keep the past behaviour, explicitly set `max_features=1.0'`.\n",
      "  warnings.warn(\n",
      "C:\\Users\\justi\\anaconda3\\lib\\site-packages\\sklearn\\tree\\_classes.py:306: FutureWarning: `max_features='auto'` has been deprecated in 1.1 and will be removed in 1.3. To keep the past behaviour, explicitly set `max_features=1.0'`.\n",
      "  warnings.warn(\n",
      "C:\\Users\\justi\\anaconda3\\lib\\site-packages\\sklearn\\tree\\_classes.py:306: FutureWarning: `max_features='auto'` has been deprecated in 1.1 and will be removed in 1.3. To keep the past behaviour, explicitly set `max_features=1.0'`.\n",
      "  warnings.warn(\n",
      "C:\\Users\\justi\\anaconda3\\lib\\site-packages\\sklearn\\tree\\_classes.py:306: FutureWarning: `max_features='auto'` has been deprecated in 1.1 and will be removed in 1.3. To keep the past behaviour, explicitly set `max_features=1.0'`.\n",
      "  warnings.warn(\n",
      "C:\\Users\\justi\\anaconda3\\lib\\site-packages\\sklearn\\tree\\_classes.py:306: FutureWarning: `max_features='auto'` has been deprecated in 1.1 and will be removed in 1.3. To keep the past behaviour, explicitly set `max_features=1.0'`.\n",
      "  warnings.warn(\n",
      "C:\\Users\\justi\\anaconda3\\lib\\site-packages\\sklearn\\tree\\_classes.py:306: FutureWarning: `max_features='auto'` has been deprecated in 1.1 and will be removed in 1.3. To keep the past behaviour, explicitly set `max_features=1.0'`.\n",
      "  warnings.warn(\n",
      "C:\\Users\\justi\\anaconda3\\lib\\site-packages\\sklearn\\tree\\_classes.py:306: FutureWarning: `max_features='auto'` has been deprecated in 1.1 and will be removed in 1.3. To keep the past behaviour, explicitly set `max_features=1.0'`.\n",
      "  warnings.warn(\n",
      "C:\\Users\\justi\\anaconda3\\lib\\site-packages\\sklearn\\tree\\_classes.py:306: FutureWarning: `max_features='auto'` has been deprecated in 1.1 and will be removed in 1.3. To keep the past behaviour, explicitly set `max_features=1.0'`.\n",
      "  warnings.warn(\n",
      "C:\\Users\\justi\\anaconda3\\lib\\site-packages\\sklearn\\tree\\_classes.py:306: FutureWarning: `max_features='auto'` has been deprecated in 1.1 and will be removed in 1.3. To keep the past behaviour, explicitly set `max_features=1.0'`.\n",
      "  warnings.warn(\n",
      "C:\\Users\\justi\\anaconda3\\lib\\site-packages\\sklearn\\tree\\_classes.py:306: FutureWarning: `max_features='auto'` has been deprecated in 1.1 and will be removed in 1.3. To keep the past behaviour, explicitly set `max_features=1.0'`.\n",
      "  warnings.warn(\n",
      "C:\\Users\\justi\\anaconda3\\lib\\site-packages\\sklearn\\tree\\_classes.py:306: FutureWarning: `max_features='auto'` has been deprecated in 1.1 and will be removed in 1.3. To keep the past behaviour, explicitly set `max_features=1.0'`.\n",
      "  warnings.warn(\n",
      "C:\\Users\\justi\\anaconda3\\lib\\site-packages\\sklearn\\tree\\_classes.py:306: FutureWarning: `max_features='auto'` has been deprecated in 1.1 and will be removed in 1.3. To keep the past behaviour, explicitly set `max_features=1.0'`.\n",
      "  warnings.warn(\n"
     ]
    }
   ],
   "source": [
    "# Let's now try a Gradient Boosting model using our count vectorized data.\n",
    "# Initiate the model.\n",
    "GB_ib_cv = GradientBoostingClassifier(n_estimators=100, max_depth=10, max_features='auto', learning_rate=0.1, random_state=42)\n",
    "\n",
    "# Fit GB model with our training data.\n",
    "GB_ib_cv.fit(cv_train_features, y_train)\n",
    "\n",
    "# Make predictions using our vectorized test features.\n",
    "GB_ib_bow_predictions = GB_ib_cv.predict(cv_test_features)"
   ]
  },
  {
   "cell_type": "code",
   "execution_count": 28,
   "id": "ed853f55",
   "metadata": {},
   "outputs": [
    {
     "name": "stdout",
     "output_type": "stream",
     "text": [
      "              precision    recall  f1-score   support\n",
      "\n",
      "           0       0.88      0.98      0.93      1867\n",
      "           1       0.82      0.36      0.50       407\n",
      "\n",
      "    accuracy                           0.87      2274\n",
      "   macro avg       0.85      0.67      0.72      2274\n",
      "weighted avg       0.87      0.87      0.85      2274\n",
      "\n"
     ]
    },
    {
     "data": {
      "text/html": [
       "<div>\n",
       "<style scoped>\n",
       "    .dataframe tbody tr th:only-of-type {\n",
       "        vertical-align: middle;\n",
       "    }\n",
       "\n",
       "    .dataframe tbody tr th {\n",
       "        vertical-align: top;\n",
       "    }\n",
       "\n",
       "    .dataframe thead th {\n",
       "        text-align: right;\n",
       "    }\n",
       "</style>\n",
       "<table border=\"1\" class=\"dataframe\">\n",
       "  <thead>\n",
       "    <tr style=\"text-align: right;\">\n",
       "      <th></th>\n",
       "      <th>Not Disaster</th>\n",
       "      <th>Disaster</th>\n",
       "    </tr>\n",
       "  </thead>\n",
       "  <tbody>\n",
       "    <tr>\n",
       "      <th>Not Disaster</th>\n",
       "      <td>1835</td>\n",
       "      <td>32</td>\n",
       "    </tr>\n",
       "    <tr>\n",
       "      <th>Disaster</th>\n",
       "      <td>259</td>\n",
       "      <td>148</td>\n",
       "    </tr>\n",
       "  </tbody>\n",
       "</table>\n",
       "</div>"
      ],
      "text/plain": [
       "              Not Disaster  Disaster\n",
       "Not Disaster          1835        32\n",
       "Disaster               259       148"
      ]
     },
     "execution_count": 28,
     "metadata": {},
     "output_type": "execute_result"
    }
   ],
   "source": [
    "# Model evaluation.\n",
    "print(classification_report(y_test, GB_ib_bow_predictions))\n",
    "pd.DataFrame(confusion_matrix(y_test, GB_ib_bow_predictions), index=labels, columns=labels)"
   ]
  },
  {
   "cell_type": "code",
   "execution_count": 29,
   "id": "9eaf9656",
   "metadata": {},
   "outputs": [
    {
     "name": "stderr",
     "output_type": "stream",
     "text": [
      "C:\\Users\\justi\\anaconda3\\lib\\site-packages\\sklearn\\tree\\_classes.py:306: FutureWarning: `max_features='auto'` has been deprecated in 1.1 and will be removed in 1.3. To keep the past behaviour, explicitly set `max_features=1.0'`.\n",
      "  warnings.warn(\n",
      "C:\\Users\\justi\\anaconda3\\lib\\site-packages\\sklearn\\tree\\_classes.py:306: FutureWarning: `max_features='auto'` has been deprecated in 1.1 and will be removed in 1.3. To keep the past behaviour, explicitly set `max_features=1.0'`.\n",
      "  warnings.warn(\n",
      "C:\\Users\\justi\\anaconda3\\lib\\site-packages\\sklearn\\tree\\_classes.py:306: FutureWarning: `max_features='auto'` has been deprecated in 1.1 and will be removed in 1.3. To keep the past behaviour, explicitly set `max_features=1.0'`.\n",
      "  warnings.warn(\n",
      "C:\\Users\\justi\\anaconda3\\lib\\site-packages\\sklearn\\tree\\_classes.py:306: FutureWarning: `max_features='auto'` has been deprecated in 1.1 and will be removed in 1.3. To keep the past behaviour, explicitly set `max_features=1.0'`.\n",
      "  warnings.warn(\n",
      "C:\\Users\\justi\\anaconda3\\lib\\site-packages\\sklearn\\tree\\_classes.py:306: FutureWarning: `max_features='auto'` has been deprecated in 1.1 and will be removed in 1.3. To keep the past behaviour, explicitly set `max_features=1.0'`.\n",
      "  warnings.warn(\n",
      "C:\\Users\\justi\\anaconda3\\lib\\site-packages\\sklearn\\tree\\_classes.py:306: FutureWarning: `max_features='auto'` has been deprecated in 1.1 and will be removed in 1.3. To keep the past behaviour, explicitly set `max_features=1.0'`.\n",
      "  warnings.warn(\n",
      "C:\\Users\\justi\\anaconda3\\lib\\site-packages\\sklearn\\tree\\_classes.py:306: FutureWarning: `max_features='auto'` has been deprecated in 1.1 and will be removed in 1.3. To keep the past behaviour, explicitly set `max_features=1.0'`.\n",
      "  warnings.warn(\n",
      "C:\\Users\\justi\\anaconda3\\lib\\site-packages\\sklearn\\tree\\_classes.py:306: FutureWarning: `max_features='auto'` has been deprecated in 1.1 and will be removed in 1.3. To keep the past behaviour, explicitly set `max_features=1.0'`.\n",
      "  warnings.warn(\n",
      "C:\\Users\\justi\\anaconda3\\lib\\site-packages\\sklearn\\tree\\_classes.py:306: FutureWarning: `max_features='auto'` has been deprecated in 1.1 and will be removed in 1.3. To keep the past behaviour, explicitly set `max_features=1.0'`.\n",
      "  warnings.warn(\n",
      "C:\\Users\\justi\\anaconda3\\lib\\site-packages\\sklearn\\tree\\_classes.py:306: FutureWarning: `max_features='auto'` has been deprecated in 1.1 and will be removed in 1.3. To keep the past behaviour, explicitly set `max_features=1.0'`.\n",
      "  warnings.warn(\n",
      "C:\\Users\\justi\\anaconda3\\lib\\site-packages\\sklearn\\tree\\_classes.py:306: FutureWarning: `max_features='auto'` has been deprecated in 1.1 and will be removed in 1.3. To keep the past behaviour, explicitly set `max_features=1.0'`.\n",
      "  warnings.warn(\n",
      "C:\\Users\\justi\\anaconda3\\lib\\site-packages\\sklearn\\tree\\_classes.py:306: FutureWarning: `max_features='auto'` has been deprecated in 1.1 and will be removed in 1.3. To keep the past behaviour, explicitly set `max_features=1.0'`.\n",
      "  warnings.warn(\n",
      "C:\\Users\\justi\\anaconda3\\lib\\site-packages\\sklearn\\tree\\_classes.py:306: FutureWarning: `max_features='auto'` has been deprecated in 1.1 and will be removed in 1.3. To keep the past behaviour, explicitly set `max_features=1.0'`.\n",
      "  warnings.warn(\n",
      "C:\\Users\\justi\\anaconda3\\lib\\site-packages\\sklearn\\tree\\_classes.py:306: FutureWarning: `max_features='auto'` has been deprecated in 1.1 and will be removed in 1.3. To keep the past behaviour, explicitly set `max_features=1.0'`.\n",
      "  warnings.warn(\n",
      "C:\\Users\\justi\\anaconda3\\lib\\site-packages\\sklearn\\tree\\_classes.py:306: FutureWarning: `max_features='auto'` has been deprecated in 1.1 and will be removed in 1.3. To keep the past behaviour, explicitly set `max_features=1.0'`.\n",
      "  warnings.warn(\n",
      "C:\\Users\\justi\\anaconda3\\lib\\site-packages\\sklearn\\tree\\_classes.py:306: FutureWarning: `max_features='auto'` has been deprecated in 1.1 and will be removed in 1.3. To keep the past behaviour, explicitly set `max_features=1.0'`.\n",
      "  warnings.warn(\n",
      "C:\\Users\\justi\\anaconda3\\lib\\site-packages\\sklearn\\tree\\_classes.py:306: FutureWarning: `max_features='auto'` has been deprecated in 1.1 and will be removed in 1.3. To keep the past behaviour, explicitly set `max_features=1.0'`.\n",
      "  warnings.warn(\n",
      "C:\\Users\\justi\\anaconda3\\lib\\site-packages\\sklearn\\tree\\_classes.py:306: FutureWarning: `max_features='auto'` has been deprecated in 1.1 and will be removed in 1.3. To keep the past behaviour, explicitly set `max_features=1.0'`.\n",
      "  warnings.warn(\n",
      "C:\\Users\\justi\\anaconda3\\lib\\site-packages\\sklearn\\tree\\_classes.py:306: FutureWarning: `max_features='auto'` has been deprecated in 1.1 and will be removed in 1.3. To keep the past behaviour, explicitly set `max_features=1.0'`.\n",
      "  warnings.warn(\n",
      "C:\\Users\\justi\\anaconda3\\lib\\site-packages\\sklearn\\tree\\_classes.py:306: FutureWarning: `max_features='auto'` has been deprecated in 1.1 and will be removed in 1.3. To keep the past behaviour, explicitly set `max_features=1.0'`.\n",
      "  warnings.warn(\n",
      "C:\\Users\\justi\\anaconda3\\lib\\site-packages\\sklearn\\tree\\_classes.py:306: FutureWarning: `max_features='auto'` has been deprecated in 1.1 and will be removed in 1.3. To keep the past behaviour, explicitly set `max_features=1.0'`.\n",
      "  warnings.warn(\n",
      "C:\\Users\\justi\\anaconda3\\lib\\site-packages\\sklearn\\tree\\_classes.py:306: FutureWarning: `max_features='auto'` has been deprecated in 1.1 and will be removed in 1.3. To keep the past behaviour, explicitly set `max_features=1.0'`.\n",
      "  warnings.warn(\n",
      "C:\\Users\\justi\\anaconda3\\lib\\site-packages\\sklearn\\tree\\_classes.py:306: FutureWarning: `max_features='auto'` has been deprecated in 1.1 and will be removed in 1.3. To keep the past behaviour, explicitly set `max_features=1.0'`.\n",
      "  warnings.warn(\n",
      "C:\\Users\\justi\\anaconda3\\lib\\site-packages\\sklearn\\tree\\_classes.py:306: FutureWarning: `max_features='auto'` has been deprecated in 1.1 and will be removed in 1.3. To keep the past behaviour, explicitly set `max_features=1.0'`.\n",
      "  warnings.warn(\n",
      "C:\\Users\\justi\\anaconda3\\lib\\site-packages\\sklearn\\tree\\_classes.py:306: FutureWarning: `max_features='auto'` has been deprecated in 1.1 and will be removed in 1.3. To keep the past behaviour, explicitly set `max_features=1.0'`.\n",
      "  warnings.warn(\n",
      "C:\\Users\\justi\\anaconda3\\lib\\site-packages\\sklearn\\tree\\_classes.py:306: FutureWarning: `max_features='auto'` has been deprecated in 1.1 and will be removed in 1.3. To keep the past behaviour, explicitly set `max_features=1.0'`.\n",
      "  warnings.warn(\n",
      "C:\\Users\\justi\\anaconda3\\lib\\site-packages\\sklearn\\tree\\_classes.py:306: FutureWarning: `max_features='auto'` has been deprecated in 1.1 and will be removed in 1.3. To keep the past behaviour, explicitly set `max_features=1.0'`.\n",
      "  warnings.warn(\n",
      "C:\\Users\\justi\\anaconda3\\lib\\site-packages\\sklearn\\tree\\_classes.py:306: FutureWarning: `max_features='auto'` has been deprecated in 1.1 and will be removed in 1.3. To keep the past behaviour, explicitly set `max_features=1.0'`.\n",
      "  warnings.warn(\n",
      "C:\\Users\\justi\\anaconda3\\lib\\site-packages\\sklearn\\tree\\_classes.py:306: FutureWarning: `max_features='auto'` has been deprecated in 1.1 and will be removed in 1.3. To keep the past behaviour, explicitly set `max_features=1.0'`.\n",
      "  warnings.warn(\n",
      "C:\\Users\\justi\\anaconda3\\lib\\site-packages\\sklearn\\tree\\_classes.py:306: FutureWarning: `max_features='auto'` has been deprecated in 1.1 and will be removed in 1.3. To keep the past behaviour, explicitly set `max_features=1.0'`.\n",
      "  warnings.warn(\n",
      "C:\\Users\\justi\\anaconda3\\lib\\site-packages\\sklearn\\tree\\_classes.py:306: FutureWarning: `max_features='auto'` has been deprecated in 1.1 and will be removed in 1.3. To keep the past behaviour, explicitly set `max_features=1.0'`.\n",
      "  warnings.warn(\n",
      "C:\\Users\\justi\\anaconda3\\lib\\site-packages\\sklearn\\tree\\_classes.py:306: FutureWarning: `max_features='auto'` has been deprecated in 1.1 and will be removed in 1.3. To keep the past behaviour, explicitly set `max_features=1.0'`.\n",
      "  warnings.warn(\n",
      "C:\\Users\\justi\\anaconda3\\lib\\site-packages\\sklearn\\tree\\_classes.py:306: FutureWarning: `max_features='auto'` has been deprecated in 1.1 and will be removed in 1.3. To keep the past behaviour, explicitly set `max_features=1.0'`.\n",
      "  warnings.warn(\n",
      "C:\\Users\\justi\\anaconda3\\lib\\site-packages\\sklearn\\tree\\_classes.py:306: FutureWarning: `max_features='auto'` has been deprecated in 1.1 and will be removed in 1.3. To keep the past behaviour, explicitly set `max_features=1.0'`.\n",
      "  warnings.warn(\n",
      "C:\\Users\\justi\\anaconda3\\lib\\site-packages\\sklearn\\tree\\_classes.py:306: FutureWarning: `max_features='auto'` has been deprecated in 1.1 and will be removed in 1.3. To keep the past behaviour, explicitly set `max_features=1.0'`.\n",
      "  warnings.warn(\n",
      "C:\\Users\\justi\\anaconda3\\lib\\site-packages\\sklearn\\tree\\_classes.py:306: FutureWarning: `max_features='auto'` has been deprecated in 1.1 and will be removed in 1.3. To keep the past behaviour, explicitly set `max_features=1.0'`.\n",
      "  warnings.warn(\n"
     ]
    },
    {
     "name": "stderr",
     "output_type": "stream",
     "text": [
      "C:\\Users\\justi\\anaconda3\\lib\\site-packages\\sklearn\\tree\\_classes.py:306: FutureWarning: `max_features='auto'` has been deprecated in 1.1 and will be removed in 1.3. To keep the past behaviour, explicitly set `max_features=1.0'`.\n",
      "  warnings.warn(\n",
      "C:\\Users\\justi\\anaconda3\\lib\\site-packages\\sklearn\\tree\\_classes.py:306: FutureWarning: `max_features='auto'` has been deprecated in 1.1 and will be removed in 1.3. To keep the past behaviour, explicitly set `max_features=1.0'`.\n",
      "  warnings.warn(\n",
      "C:\\Users\\justi\\anaconda3\\lib\\site-packages\\sklearn\\tree\\_classes.py:306: FutureWarning: `max_features='auto'` has been deprecated in 1.1 and will be removed in 1.3. To keep the past behaviour, explicitly set `max_features=1.0'`.\n",
      "  warnings.warn(\n",
      "C:\\Users\\justi\\anaconda3\\lib\\site-packages\\sklearn\\tree\\_classes.py:306: FutureWarning: `max_features='auto'` has been deprecated in 1.1 and will be removed in 1.3. To keep the past behaviour, explicitly set `max_features=1.0'`.\n",
      "  warnings.warn(\n",
      "C:\\Users\\justi\\anaconda3\\lib\\site-packages\\sklearn\\tree\\_classes.py:306: FutureWarning: `max_features='auto'` has been deprecated in 1.1 and will be removed in 1.3. To keep the past behaviour, explicitly set `max_features=1.0'`.\n",
      "  warnings.warn(\n",
      "C:\\Users\\justi\\anaconda3\\lib\\site-packages\\sklearn\\tree\\_classes.py:306: FutureWarning: `max_features='auto'` has been deprecated in 1.1 and will be removed in 1.3. To keep the past behaviour, explicitly set `max_features=1.0'`.\n",
      "  warnings.warn(\n",
      "C:\\Users\\justi\\anaconda3\\lib\\site-packages\\sklearn\\tree\\_classes.py:306: FutureWarning: `max_features='auto'` has been deprecated in 1.1 and will be removed in 1.3. To keep the past behaviour, explicitly set `max_features=1.0'`.\n",
      "  warnings.warn(\n",
      "C:\\Users\\justi\\anaconda3\\lib\\site-packages\\sklearn\\tree\\_classes.py:306: FutureWarning: `max_features='auto'` has been deprecated in 1.1 and will be removed in 1.3. To keep the past behaviour, explicitly set `max_features=1.0'`.\n",
      "  warnings.warn(\n",
      "C:\\Users\\justi\\anaconda3\\lib\\site-packages\\sklearn\\tree\\_classes.py:306: FutureWarning: `max_features='auto'` has been deprecated in 1.1 and will be removed in 1.3. To keep the past behaviour, explicitly set `max_features=1.0'`.\n",
      "  warnings.warn(\n",
      "C:\\Users\\justi\\anaconda3\\lib\\site-packages\\sklearn\\tree\\_classes.py:306: FutureWarning: `max_features='auto'` has been deprecated in 1.1 and will be removed in 1.3. To keep the past behaviour, explicitly set `max_features=1.0'`.\n",
      "  warnings.warn(\n",
      "C:\\Users\\justi\\anaconda3\\lib\\site-packages\\sklearn\\tree\\_classes.py:306: FutureWarning: `max_features='auto'` has been deprecated in 1.1 and will be removed in 1.3. To keep the past behaviour, explicitly set `max_features=1.0'`.\n",
      "  warnings.warn(\n",
      "C:\\Users\\justi\\anaconda3\\lib\\site-packages\\sklearn\\tree\\_classes.py:306: FutureWarning: `max_features='auto'` has been deprecated in 1.1 and will be removed in 1.3. To keep the past behaviour, explicitly set `max_features=1.0'`.\n",
      "  warnings.warn(\n",
      "C:\\Users\\justi\\anaconda3\\lib\\site-packages\\sklearn\\tree\\_classes.py:306: FutureWarning: `max_features='auto'` has been deprecated in 1.1 and will be removed in 1.3. To keep the past behaviour, explicitly set `max_features=1.0'`.\n",
      "  warnings.warn(\n",
      "C:\\Users\\justi\\anaconda3\\lib\\site-packages\\sklearn\\tree\\_classes.py:306: FutureWarning: `max_features='auto'` has been deprecated in 1.1 and will be removed in 1.3. To keep the past behaviour, explicitly set `max_features=1.0'`.\n",
      "  warnings.warn(\n",
      "C:\\Users\\justi\\anaconda3\\lib\\site-packages\\sklearn\\tree\\_classes.py:306: FutureWarning: `max_features='auto'` has been deprecated in 1.1 and will be removed in 1.3. To keep the past behaviour, explicitly set `max_features=1.0'`.\n",
      "  warnings.warn(\n",
      "C:\\Users\\justi\\anaconda3\\lib\\site-packages\\sklearn\\tree\\_classes.py:306: FutureWarning: `max_features='auto'` has been deprecated in 1.1 and will be removed in 1.3. To keep the past behaviour, explicitly set `max_features=1.0'`.\n",
      "  warnings.warn(\n",
      "C:\\Users\\justi\\anaconda3\\lib\\site-packages\\sklearn\\tree\\_classes.py:306: FutureWarning: `max_features='auto'` has been deprecated in 1.1 and will be removed in 1.3. To keep the past behaviour, explicitly set `max_features=1.0'`.\n",
      "  warnings.warn(\n",
      "C:\\Users\\justi\\anaconda3\\lib\\site-packages\\sklearn\\tree\\_classes.py:306: FutureWarning: `max_features='auto'` has been deprecated in 1.1 and will be removed in 1.3. To keep the past behaviour, explicitly set `max_features=1.0'`.\n",
      "  warnings.warn(\n",
      "C:\\Users\\justi\\anaconda3\\lib\\site-packages\\sklearn\\tree\\_classes.py:306: FutureWarning: `max_features='auto'` has been deprecated in 1.1 and will be removed in 1.3. To keep the past behaviour, explicitly set `max_features=1.0'`.\n",
      "  warnings.warn(\n",
      "C:\\Users\\justi\\anaconda3\\lib\\site-packages\\sklearn\\tree\\_classes.py:306: FutureWarning: `max_features='auto'` has been deprecated in 1.1 and will be removed in 1.3. To keep the past behaviour, explicitly set `max_features=1.0'`.\n",
      "  warnings.warn(\n",
      "C:\\Users\\justi\\anaconda3\\lib\\site-packages\\sklearn\\tree\\_classes.py:306: FutureWarning: `max_features='auto'` has been deprecated in 1.1 and will be removed in 1.3. To keep the past behaviour, explicitly set `max_features=1.0'`.\n",
      "  warnings.warn(\n",
      "C:\\Users\\justi\\anaconda3\\lib\\site-packages\\sklearn\\tree\\_classes.py:306: FutureWarning: `max_features='auto'` has been deprecated in 1.1 and will be removed in 1.3. To keep the past behaviour, explicitly set `max_features=1.0'`.\n",
      "  warnings.warn(\n",
      "C:\\Users\\justi\\anaconda3\\lib\\site-packages\\sklearn\\tree\\_classes.py:306: FutureWarning: `max_features='auto'` has been deprecated in 1.1 and will be removed in 1.3. To keep the past behaviour, explicitly set `max_features=1.0'`.\n",
      "  warnings.warn(\n",
      "C:\\Users\\justi\\anaconda3\\lib\\site-packages\\sklearn\\tree\\_classes.py:306: FutureWarning: `max_features='auto'` has been deprecated in 1.1 and will be removed in 1.3. To keep the past behaviour, explicitly set `max_features=1.0'`.\n",
      "  warnings.warn(\n",
      "C:\\Users\\justi\\anaconda3\\lib\\site-packages\\sklearn\\tree\\_classes.py:306: FutureWarning: `max_features='auto'` has been deprecated in 1.1 and will be removed in 1.3. To keep the past behaviour, explicitly set `max_features=1.0'`.\n",
      "  warnings.warn(\n",
      "C:\\Users\\justi\\anaconda3\\lib\\site-packages\\sklearn\\tree\\_classes.py:306: FutureWarning: `max_features='auto'` has been deprecated in 1.1 and will be removed in 1.3. To keep the past behaviour, explicitly set `max_features=1.0'`.\n",
      "  warnings.warn(\n",
      "C:\\Users\\justi\\anaconda3\\lib\\site-packages\\sklearn\\tree\\_classes.py:306: FutureWarning: `max_features='auto'` has been deprecated in 1.1 and will be removed in 1.3. To keep the past behaviour, explicitly set `max_features=1.0'`.\n",
      "  warnings.warn(\n",
      "C:\\Users\\justi\\anaconda3\\lib\\site-packages\\sklearn\\tree\\_classes.py:306: FutureWarning: `max_features='auto'` has been deprecated in 1.1 and will be removed in 1.3. To keep the past behaviour, explicitly set `max_features=1.0'`.\n",
      "  warnings.warn(\n",
      "C:\\Users\\justi\\anaconda3\\lib\\site-packages\\sklearn\\tree\\_classes.py:306: FutureWarning: `max_features='auto'` has been deprecated in 1.1 and will be removed in 1.3. To keep the past behaviour, explicitly set `max_features=1.0'`.\n",
      "  warnings.warn(\n",
      "C:\\Users\\justi\\anaconda3\\lib\\site-packages\\sklearn\\tree\\_classes.py:306: FutureWarning: `max_features='auto'` has been deprecated in 1.1 and will be removed in 1.3. To keep the past behaviour, explicitly set `max_features=1.0'`.\n",
      "  warnings.warn(\n",
      "C:\\Users\\justi\\anaconda3\\lib\\site-packages\\sklearn\\tree\\_classes.py:306: FutureWarning: `max_features='auto'` has been deprecated in 1.1 and will be removed in 1.3. To keep the past behaviour, explicitly set `max_features=1.0'`.\n",
      "  warnings.warn(\n",
      "C:\\Users\\justi\\anaconda3\\lib\\site-packages\\sklearn\\tree\\_classes.py:306: FutureWarning: `max_features='auto'` has been deprecated in 1.1 and will be removed in 1.3. To keep the past behaviour, explicitly set `max_features=1.0'`.\n",
      "  warnings.warn(\n",
      "C:\\Users\\justi\\anaconda3\\lib\\site-packages\\sklearn\\tree\\_classes.py:306: FutureWarning: `max_features='auto'` has been deprecated in 1.1 and will be removed in 1.3. To keep the past behaviour, explicitly set `max_features=1.0'`.\n",
      "  warnings.warn(\n",
      "C:\\Users\\justi\\anaconda3\\lib\\site-packages\\sklearn\\tree\\_classes.py:306: FutureWarning: `max_features='auto'` has been deprecated in 1.1 and will be removed in 1.3. To keep the past behaviour, explicitly set `max_features=1.0'`.\n",
      "  warnings.warn(\n",
      "C:\\Users\\justi\\anaconda3\\lib\\site-packages\\sklearn\\tree\\_classes.py:306: FutureWarning: `max_features='auto'` has been deprecated in 1.1 and will be removed in 1.3. To keep the past behaviour, explicitly set `max_features=1.0'`.\n",
      "  warnings.warn(\n",
      "C:\\Users\\justi\\anaconda3\\lib\\site-packages\\sklearn\\tree\\_classes.py:306: FutureWarning: `max_features='auto'` has been deprecated in 1.1 and will be removed in 1.3. To keep the past behaviour, explicitly set `max_features=1.0'`.\n",
      "  warnings.warn(\n"
     ]
    },
    {
     "name": "stderr",
     "output_type": "stream",
     "text": [
      "C:\\Users\\justi\\anaconda3\\lib\\site-packages\\sklearn\\tree\\_classes.py:306: FutureWarning: `max_features='auto'` has been deprecated in 1.1 and will be removed in 1.3. To keep the past behaviour, explicitly set `max_features=1.0'`.\n",
      "  warnings.warn(\n",
      "C:\\Users\\justi\\anaconda3\\lib\\site-packages\\sklearn\\tree\\_classes.py:306: FutureWarning: `max_features='auto'` has been deprecated in 1.1 and will be removed in 1.3. To keep the past behaviour, explicitly set `max_features=1.0'`.\n",
      "  warnings.warn(\n",
      "C:\\Users\\justi\\anaconda3\\lib\\site-packages\\sklearn\\tree\\_classes.py:306: FutureWarning: `max_features='auto'` has been deprecated in 1.1 and will be removed in 1.3. To keep the past behaviour, explicitly set `max_features=1.0'`.\n",
      "  warnings.warn(\n",
      "C:\\Users\\justi\\anaconda3\\lib\\site-packages\\sklearn\\tree\\_classes.py:306: FutureWarning: `max_features='auto'` has been deprecated in 1.1 and will be removed in 1.3. To keep the past behaviour, explicitly set `max_features=1.0'`.\n",
      "  warnings.warn(\n",
      "C:\\Users\\justi\\anaconda3\\lib\\site-packages\\sklearn\\tree\\_classes.py:306: FutureWarning: `max_features='auto'` has been deprecated in 1.1 and will be removed in 1.3. To keep the past behaviour, explicitly set `max_features=1.0'`.\n",
      "  warnings.warn(\n",
      "C:\\Users\\justi\\anaconda3\\lib\\site-packages\\sklearn\\tree\\_classes.py:306: FutureWarning: `max_features='auto'` has been deprecated in 1.1 and will be removed in 1.3. To keep the past behaviour, explicitly set `max_features=1.0'`.\n",
      "  warnings.warn(\n",
      "C:\\Users\\justi\\anaconda3\\lib\\site-packages\\sklearn\\tree\\_classes.py:306: FutureWarning: `max_features='auto'` has been deprecated in 1.1 and will be removed in 1.3. To keep the past behaviour, explicitly set `max_features=1.0'`.\n",
      "  warnings.warn(\n",
      "C:\\Users\\justi\\anaconda3\\lib\\site-packages\\sklearn\\tree\\_classes.py:306: FutureWarning: `max_features='auto'` has been deprecated in 1.1 and will be removed in 1.3. To keep the past behaviour, explicitly set `max_features=1.0'`.\n",
      "  warnings.warn(\n",
      "C:\\Users\\justi\\anaconda3\\lib\\site-packages\\sklearn\\tree\\_classes.py:306: FutureWarning: `max_features='auto'` has been deprecated in 1.1 and will be removed in 1.3. To keep the past behaviour, explicitly set `max_features=1.0'`.\n",
      "  warnings.warn(\n",
      "C:\\Users\\justi\\anaconda3\\lib\\site-packages\\sklearn\\tree\\_classes.py:306: FutureWarning: `max_features='auto'` has been deprecated in 1.1 and will be removed in 1.3. To keep the past behaviour, explicitly set `max_features=1.0'`.\n",
      "  warnings.warn(\n",
      "C:\\Users\\justi\\anaconda3\\lib\\site-packages\\sklearn\\tree\\_classes.py:306: FutureWarning: `max_features='auto'` has been deprecated in 1.1 and will be removed in 1.3. To keep the past behaviour, explicitly set `max_features=1.0'`.\n",
      "  warnings.warn(\n",
      "C:\\Users\\justi\\anaconda3\\lib\\site-packages\\sklearn\\tree\\_classes.py:306: FutureWarning: `max_features='auto'` has been deprecated in 1.1 and will be removed in 1.3. To keep the past behaviour, explicitly set `max_features=1.0'`.\n",
      "  warnings.warn(\n",
      "C:\\Users\\justi\\anaconda3\\lib\\site-packages\\sklearn\\tree\\_classes.py:306: FutureWarning: `max_features='auto'` has been deprecated in 1.1 and will be removed in 1.3. To keep the past behaviour, explicitly set `max_features=1.0'`.\n",
      "  warnings.warn(\n",
      "C:\\Users\\justi\\anaconda3\\lib\\site-packages\\sklearn\\tree\\_classes.py:306: FutureWarning: `max_features='auto'` has been deprecated in 1.1 and will be removed in 1.3. To keep the past behaviour, explicitly set `max_features=1.0'`.\n",
      "  warnings.warn(\n",
      "C:\\Users\\justi\\anaconda3\\lib\\site-packages\\sklearn\\tree\\_classes.py:306: FutureWarning: `max_features='auto'` has been deprecated in 1.1 and will be removed in 1.3. To keep the past behaviour, explicitly set `max_features=1.0'`.\n",
      "  warnings.warn(\n",
      "C:\\Users\\justi\\anaconda3\\lib\\site-packages\\sklearn\\tree\\_classes.py:306: FutureWarning: `max_features='auto'` has been deprecated in 1.1 and will be removed in 1.3. To keep the past behaviour, explicitly set `max_features=1.0'`.\n",
      "  warnings.warn(\n",
      "C:\\Users\\justi\\anaconda3\\lib\\site-packages\\sklearn\\tree\\_classes.py:306: FutureWarning: `max_features='auto'` has been deprecated in 1.1 and will be removed in 1.3. To keep the past behaviour, explicitly set `max_features=1.0'`.\n",
      "  warnings.warn(\n",
      "C:\\Users\\justi\\anaconda3\\lib\\site-packages\\sklearn\\tree\\_classes.py:306: FutureWarning: `max_features='auto'` has been deprecated in 1.1 and will be removed in 1.3. To keep the past behaviour, explicitly set `max_features=1.0'`.\n",
      "  warnings.warn(\n",
      "C:\\Users\\justi\\anaconda3\\lib\\site-packages\\sklearn\\tree\\_classes.py:306: FutureWarning: `max_features='auto'` has been deprecated in 1.1 and will be removed in 1.3. To keep the past behaviour, explicitly set `max_features=1.0'`.\n",
      "  warnings.warn(\n",
      "C:\\Users\\justi\\anaconda3\\lib\\site-packages\\sklearn\\tree\\_classes.py:306: FutureWarning: `max_features='auto'` has been deprecated in 1.1 and will be removed in 1.3. To keep the past behaviour, explicitly set `max_features=1.0'`.\n",
      "  warnings.warn(\n",
      "C:\\Users\\justi\\anaconda3\\lib\\site-packages\\sklearn\\tree\\_classes.py:306: FutureWarning: `max_features='auto'` has been deprecated in 1.1 and will be removed in 1.3. To keep the past behaviour, explicitly set `max_features=1.0'`.\n",
      "  warnings.warn(\n",
      "C:\\Users\\justi\\anaconda3\\lib\\site-packages\\sklearn\\tree\\_classes.py:306: FutureWarning: `max_features='auto'` has been deprecated in 1.1 and will be removed in 1.3. To keep the past behaviour, explicitly set `max_features=1.0'`.\n",
      "  warnings.warn(\n",
      "C:\\Users\\justi\\anaconda3\\lib\\site-packages\\sklearn\\tree\\_classes.py:306: FutureWarning: `max_features='auto'` has been deprecated in 1.1 and will be removed in 1.3. To keep the past behaviour, explicitly set `max_features=1.0'`.\n",
      "  warnings.warn(\n",
      "C:\\Users\\justi\\anaconda3\\lib\\site-packages\\sklearn\\tree\\_classes.py:306: FutureWarning: `max_features='auto'` has been deprecated in 1.1 and will be removed in 1.3. To keep the past behaviour, explicitly set `max_features=1.0'`.\n",
      "  warnings.warn(\n",
      "C:\\Users\\justi\\anaconda3\\lib\\site-packages\\sklearn\\tree\\_classes.py:306: FutureWarning: `max_features='auto'` has been deprecated in 1.1 and will be removed in 1.3. To keep the past behaviour, explicitly set `max_features=1.0'`.\n",
      "  warnings.warn(\n",
      "C:\\Users\\justi\\anaconda3\\lib\\site-packages\\sklearn\\tree\\_classes.py:306: FutureWarning: `max_features='auto'` has been deprecated in 1.1 and will be removed in 1.3. To keep the past behaviour, explicitly set `max_features=1.0'`.\n",
      "  warnings.warn(\n",
      "C:\\Users\\justi\\anaconda3\\lib\\site-packages\\sklearn\\tree\\_classes.py:306: FutureWarning: `max_features='auto'` has been deprecated in 1.1 and will be removed in 1.3. To keep the past behaviour, explicitly set `max_features=1.0'`.\n",
      "  warnings.warn(\n",
      "C:\\Users\\justi\\anaconda3\\lib\\site-packages\\sklearn\\tree\\_classes.py:306: FutureWarning: `max_features='auto'` has been deprecated in 1.1 and will be removed in 1.3. To keep the past behaviour, explicitly set `max_features=1.0'`.\n",
      "  warnings.warn(\n"
     ]
    }
   ],
   "source": [
    "# Let's now try a Gradient Boosting model using our tfidf vectorized data.\n",
    "# Initiate the model.\n",
    "GB_ib_tv = GradientBoostingClassifier(n_estimators=100, max_depth=10, max_features='auto', learning_rate=0.1, random_state=42)\n",
    "\n",
    "# Fit GB model with our training data.\n",
    "GB_ib_tv.fit(tv_train_features, y_train)\n",
    "\n",
    "# Make predictions using our vectorized test features.\n",
    "GB_ib_tfidf_predictions = GB_ib_tv.predict(tv_test_features)"
   ]
  },
  {
   "cell_type": "code",
   "execution_count": 30,
   "id": "52f80b41",
   "metadata": {},
   "outputs": [
    {
     "name": "stdout",
     "output_type": "stream",
     "text": [
      "              precision    recall  f1-score   support\n",
      "\n",
      "           0       0.88      0.98      0.93      1867\n",
      "           1       0.81      0.36      0.50       407\n",
      "\n",
      "    accuracy                           0.87      2274\n",
      "   macro avg       0.84      0.67      0.71      2274\n",
      "weighted avg       0.86      0.87      0.85      2274\n",
      "\n"
     ]
    },
    {
     "data": {
      "text/html": [
       "<div>\n",
       "<style scoped>\n",
       "    .dataframe tbody tr th:only-of-type {\n",
       "        vertical-align: middle;\n",
       "    }\n",
       "\n",
       "    .dataframe tbody tr th {\n",
       "        vertical-align: top;\n",
       "    }\n",
       "\n",
       "    .dataframe thead th {\n",
       "        text-align: right;\n",
       "    }\n",
       "</style>\n",
       "<table border=\"1\" class=\"dataframe\">\n",
       "  <thead>\n",
       "    <tr style=\"text-align: right;\">\n",
       "      <th></th>\n",
       "      <th>Not Disaster</th>\n",
       "      <th>Disaster</th>\n",
       "    </tr>\n",
       "  </thead>\n",
       "  <tbody>\n",
       "    <tr>\n",
       "      <th>Not Disaster</th>\n",
       "      <td>1832</td>\n",
       "      <td>35</td>\n",
       "    </tr>\n",
       "    <tr>\n",
       "      <th>Disaster</th>\n",
       "      <td>260</td>\n",
       "      <td>147</td>\n",
       "    </tr>\n",
       "  </tbody>\n",
       "</table>\n",
       "</div>"
      ],
      "text/plain": [
       "              Not Disaster  Disaster\n",
       "Not Disaster          1832        35\n",
       "Disaster               260       147"
      ]
     },
     "execution_count": 30,
     "metadata": {},
     "output_type": "execute_result"
    }
   ],
   "source": [
    "# Model evaluation.\n",
    "print(classification_report(y_test, GB_ib_tfidf_predictions))\n",
    "pd.DataFrame(confusion_matrix(y_test, GB_ib_tfidf_predictions), index=labels, columns=labels)"
   ]
  },
  {
   "cell_type": "markdown",
   "id": "79b19ba5",
   "metadata": {},
   "source": [
    "The best model we have is still the Logistic Regression one that uses our count vectorizer (recall = 0.54). Let's try balancing our class labels to potentially improve performance, with both our count and tfidf vectorized training data."
   ]
  },
  {
   "cell_type": "markdown",
   "id": "c5a8d514",
   "metadata": {},
   "source": [
    "## Modeling with Balanced Data"
   ]
  },
  {
   "cell_type": "markdown",
   "id": "f42f943b",
   "metadata": {},
   "source": [
    "### Balancing Classes"
   ]
  },
  {
   "cell_type": "markdown",
   "id": "7e869c3f",
   "metadata": {},
   "source": [
    "We'll use undersampling to balance our classes because we would rather subset the abundance of non-disaster tweets than greatly increase the number of disaster tweets that we are trying to predict correctly."
   ]
  },
  {
   "cell_type": "code",
   "execution_count": 31,
   "id": "bd96ef63",
   "metadata": {},
   "outputs": [
    {
     "name": "stderr",
     "output_type": "stream",
     "text": [
      "C:\\Users\\justi\\anaconda3\\lib\\site-packages\\seaborn\\_decorators.py:36: FutureWarning: Pass the following variable as a keyword arg: x. From version 0.12, the only valid positional argument will be `data`, and passing other arguments without an explicit keyword will result in an error or misinterpretation.\n",
      "  warnings.warn(\n"
     ]
    },
    {
     "data": {
      "text/plain": [
       "Text(0.5, 1.0, 'Disaster Tweet Counts')"
      ]
     },
     "execution_count": 31,
     "metadata": {},
     "output_type": "execute_result"
    },
    {
     "data": {
      "image/png": "[encoded data removed]",
      "text/plain": [
       "<Figure size 432x288 with 1 Axes>"
      ]
     },
     "metadata": {
      "needs_background": "light"
     },
     "output_type": "display_data"
    }
   ],
   "source": [
    "# Balance our class labels and check counts for our count vectorized training data.\n",
    "rus = RandomUnderSampler(sampling_strategy=1, random_state=42)\n",
    "cv_train_features_res, y_train_res_cv = rus.fit_resample(cv_train_features, y_train)\n",
    "\n",
    "sns.countplot(y_train_res_cv)\n",
    "plt.title('Disaster Tweet Counts')"
   ]
  },
  {
   "cell_type": "code",
   "execution_count": 32,
   "id": "2a57b013",
   "metadata": {},
   "outputs": [
    {
     "name": "stderr",
     "output_type": "stream",
     "text": [
      "C:\\Users\\justi\\anaconda3\\lib\\site-packages\\seaborn\\_decorators.py:36: FutureWarning: Pass the following variable as a keyword arg: x. From version 0.12, the only valid positional argument will be `data`, and passing other arguments without an explicit keyword will result in an error or misinterpretation.\n",
      "  warnings.warn(\n"
     ]
    },
    {
     "data": {
      "text/plain": [
       "Text(0.5, 1.0, 'Disaster Tweet Counts')"
      ]
     },
     "execution_count": 32,
     "metadata": {},
     "output_type": "execute_result"
    },
    {
     "data": {
      "image/png": "[encoded data removed]",
      "text/plain": [
       "<Figure size 432x288 with 1 Axes>"
      ]
     },
     "metadata": {
      "needs_background": "light"
     },
     "output_type": "display_data"
    }
   ],
   "source": [
    "# Balance our class labels and check counts for our tfidf vectorized training data.\n",
    "rus = RandomUnderSampler(sampling_strategy=1, random_state=42)\n",
    "tv_train_features_res, y_train_res_tv = rus.fit_resample(tv_train_features, y_train)\n",
    "\n",
    "sns.countplot(y_train_res_tv)\n",
    "plt.title('Disaster Tweet Counts')"
   ]
  },
  {
   "cell_type": "markdown",
   "id": "4fb2f01d",
   "metadata": {},
   "source": [
    "### Logistic Regression"
   ]
  },
  {
   "cell_type": "code",
   "execution_count": 33,
   "id": "4f3d48bb",
   "metadata": {},
   "outputs": [],
   "source": [
    "# Let's try a Logistic Regression model again for our count vectorized data.\n",
    "# Initiate the model.\n",
    "LR_b_cv = LogisticRegression(penalty='l2', max_iter=500, C=1, solver='lbfgs', random_state=42)\n",
    "\n",
    "# Fit LR model with our training data.\n",
    "LR_b_cv.fit(cv_train_features_res, y_train_res_cv)\n",
    "\n",
    "# Make predictions using our vectorized test features.\n",
    "LR_b_bow_predictions = LR_b_cv.predict(cv_test_features)"
   ]
  },
  {
   "cell_type": "code",
   "execution_count": 34,
   "id": "a71271df",
   "metadata": {},
   "outputs": [
    {
     "name": "stdout",
     "output_type": "stream",
     "text": [
      "              precision    recall  f1-score   support\n",
      "\n",
      "           0       0.94      0.83      0.88      1867\n",
      "           1       0.49      0.75      0.59       407\n",
      "\n",
      "    accuracy                           0.82      2274\n",
      "   macro avg       0.72      0.79      0.74      2274\n",
      "weighted avg       0.86      0.82      0.83      2274\n",
      "\n"
     ]
    },
    {
     "data": {
      "text/html": [
       "<div>\n",
       "<style scoped>\n",
       "    .dataframe tbody tr th:only-of-type {\n",
       "        vertical-align: middle;\n",
       "    }\n",
       "\n",
       "    .dataframe tbody tr th {\n",
       "        vertical-align: top;\n",
       "    }\n",
       "\n",
       "    .dataframe thead th {\n",
       "        text-align: right;\n",
       "    }\n",
       "</style>\n",
       "<table border=\"1\" class=\"dataframe\">\n",
       "  <thead>\n",
       "    <tr style=\"text-align: right;\">\n",
       "      <th></th>\n",
       "      <th>Not Disaster</th>\n",
       "      <th>Disaster</th>\n",
       "    </tr>\n",
       "  </thead>\n",
       "  <tbody>\n",
       "    <tr>\n",
       "      <th>Not Disaster</th>\n",
       "      <td>1552</td>\n",
       "      <td>315</td>\n",
       "    </tr>\n",
       "    <tr>\n",
       "      <th>Disaster</th>\n",
       "      <td>102</td>\n",
       "      <td>305</td>\n",
       "    </tr>\n",
       "  </tbody>\n",
       "</table>\n",
       "</div>"
      ],
      "text/plain": [
       "              Not Disaster  Disaster\n",
       "Not Disaster          1552       315\n",
       "Disaster               102       305"
      ]
     },
     "execution_count": 34,
     "metadata": {},
     "output_type": "execute_result"
    }
   ],
   "source": [
    "# Model evaluation.\n",
    "print(classification_report(y_test, LR_b_bow_predictions))\n",
    "pd.DataFrame(confusion_matrix(y_test, LR_b_bow_predictions), index=labels, columns=labels)"
   ]
  },
  {
   "cell_type": "code",
   "execution_count": 35,
   "id": "bbbe0af5",
   "metadata": {},
   "outputs": [],
   "source": [
    "# Let's try a Logistic Regression model again for our tfidf vectorized data.\n",
    "# Initiate the model.\n",
    "LR_b_tv = LogisticRegression(penalty='l2', max_iter=500, C=1, solver='lbfgs', random_state=42)\n",
    "\n",
    "# Fit LR model with our training data.\n",
    "LR_b_tv.fit(tv_train_features_res, y_train_res_tv)\n",
    "\n",
    "# Make predictions using our vectorized test features.\n",
    "LR_b_tfidf_predictions = LR_b_tv.predict(tv_test_features)"
   ]
  },
  {
   "cell_type": "code",
   "execution_count": 36,
   "id": "5a3af9b9",
   "metadata": {},
   "outputs": [
    {
     "name": "stdout",
     "output_type": "stream",
     "text": [
      "              precision    recall  f1-score   support\n",
      "\n",
      "           0       0.94      0.83      0.88      1867\n",
      "           1       0.49      0.77      0.60       407\n",
      "\n",
      "    accuracy                           0.82      2274\n",
      "   macro avg       0.72      0.80      0.74      2274\n",
      "weighted avg       0.86      0.82      0.83      2274\n",
      "\n"
     ]
    },
    {
     "data": {
      "text/html": [
       "<div>\n",
       "<style scoped>\n",
       "    .dataframe tbody tr th:only-of-type {\n",
       "        vertical-align: middle;\n",
       "    }\n",
       "\n",
       "    .dataframe tbody tr th {\n",
       "        vertical-align: top;\n",
       "    }\n",
       "\n",
       "    .dataframe thead th {\n",
       "        text-align: right;\n",
       "    }\n",
       "</style>\n",
       "<table border=\"1\" class=\"dataframe\">\n",
       "  <thead>\n",
       "    <tr style=\"text-align: right;\">\n",
       "      <th></th>\n",
       "      <th>Not Disaster</th>\n",
       "      <th>Disaster</th>\n",
       "    </tr>\n",
       "  </thead>\n",
       "  <tbody>\n",
       "    <tr>\n",
       "      <th>Not Disaster</th>\n",
       "      <td>1544</td>\n",
       "      <td>323</td>\n",
       "    </tr>\n",
       "    <tr>\n",
       "      <th>Disaster</th>\n",
       "      <td>95</td>\n",
       "      <td>312</td>\n",
       "    </tr>\n",
       "  </tbody>\n",
       "</table>\n",
       "</div>"
      ],
      "text/plain": [
       "              Not Disaster  Disaster\n",
       "Not Disaster          1544       323\n",
       "Disaster                95       312"
      ]
     },
     "execution_count": 36,
     "metadata": {},
     "output_type": "execute_result"
    }
   ],
   "source": [
    "# Model evaluation.\n",
    "print(classification_report(y_test, LR_b_tfidf_predictions))\n",
    "pd.DataFrame(confusion_matrix(y_test, LR_b_tfidf_predictions), index=labels, columns=labels)"
   ]
  },
  {
   "cell_type": "markdown",
   "id": "12da3fad",
   "metadata": {},
   "source": [
    "Wow! It looks like resampling our data greatly improved recall for the disaster class! While 0.77 isn't too bad of a score let's continue to explore the other models we tried earlier with our new resampled data."
   ]
  },
  {
   "cell_type": "markdown",
   "id": "9b705867",
   "metadata": {},
   "source": [
    "### Random Forest"
   ]
  },
  {
   "cell_type": "code",
   "execution_count": 37,
   "id": "4f8cedb6",
   "metadata": {},
   "outputs": [],
   "source": [
    "# Let's now try a Random Forest model using our count vectorized data.\n",
    "# Initiate the model.\n",
    "RF_b_cv = RandomForestClassifier(n_estimators=100, n_jobs=-1, random_state=42)\n",
    "\n",
    "# Fit RF model with our training data.\n",
    "RF_b_cv.fit(cv_train_features_res, y_train_res_cv)\n",
    "\n",
    "# Make predictions using our vectorized test features.\n",
    "RF_b_bow_predictions = RF_b_cv.predict(cv_test_features)"
   ]
  },
  {
   "cell_type": "code",
   "execution_count": 38,
   "id": "1928e166",
   "metadata": {},
   "outputs": [
    {
     "name": "stdout",
     "output_type": "stream",
     "text": [
      "              precision    recall  f1-score   support\n",
      "\n",
      "           0       0.95      0.83      0.89      1867\n",
      "           1       0.51      0.78      0.62       407\n",
      "\n",
      "    accuracy                           0.83      2274\n",
      "   macro avg       0.73      0.81      0.75      2274\n",
      "weighted avg       0.87      0.83      0.84      2274\n",
      "\n"
     ]
    },
    {
     "data": {
      "text/html": [
       "<div>\n",
       "<style scoped>\n",
       "    .dataframe tbody tr th:only-of-type {\n",
       "        vertical-align: middle;\n",
       "    }\n",
       "\n",
       "    .dataframe tbody tr th {\n",
       "        vertical-align: top;\n",
       "    }\n",
       "\n",
       "    .dataframe thead th {\n",
       "        text-align: right;\n",
       "    }\n",
       "</style>\n",
       "<table border=\"1\" class=\"dataframe\">\n",
       "  <thead>\n",
       "    <tr style=\"text-align: right;\">\n",
       "      <th></th>\n",
       "      <th>Not Disaster</th>\n",
       "      <th>Disaster</th>\n",
       "    </tr>\n",
       "  </thead>\n",
       "  <tbody>\n",
       "    <tr>\n",
       "      <th>Not Disaster</th>\n",
       "      <td>1558</td>\n",
       "      <td>309</td>\n",
       "    </tr>\n",
       "    <tr>\n",
       "      <th>Disaster</th>\n",
       "      <td>88</td>\n",
       "      <td>319</td>\n",
       "    </tr>\n",
       "  </tbody>\n",
       "</table>\n",
       "</div>"
      ],
      "text/plain": [
       "              Not Disaster  Disaster\n",
       "Not Disaster          1558       309\n",
       "Disaster                88       319"
      ]
     },
     "execution_count": 38,
     "metadata": {},
     "output_type": "execute_result"
    }
   ],
   "source": [
    "# Model evaluation.\n",
    "print(classification_report(y_test, RF_b_bow_predictions))\n",
    "pd.DataFrame(confusion_matrix(y_test, RF_b_bow_predictions), index=labels, columns=labels)"
   ]
  },
  {
   "cell_type": "code",
   "execution_count": 39,
   "id": "05050073",
   "metadata": {},
   "outputs": [],
   "source": [
    "# Let's now try a Random Forest model using our tfidf vectorized data.\n",
    "# Initiate the model.\n",
    "RF_b_tv = RandomForestClassifier(n_estimators=100, n_jobs=-1, random_state=42)\n",
    "\n",
    "# Fit RF model with our training data.\n",
    "RF_b_tv.fit(tv_train_features_res, y_train_res_tv)\n",
    "\n",
    "# Make predictions using our vectorized test features.\n",
    "RF_b_tfidf_predictions = RF_b_tv.predict(tv_test_features)"
   ]
  },
  {
   "cell_type": "code",
   "execution_count": 40,
   "id": "ddd54250",
   "metadata": {},
   "outputs": [
    {
     "name": "stdout",
     "output_type": "stream",
     "text": [
      "              precision    recall  f1-score   support\n",
      "\n",
      "           0       0.94      0.84      0.89      1867\n",
      "           1       0.51      0.75      0.61       407\n",
      "\n",
      "    accuracy                           0.83      2274\n",
      "   macro avg       0.72      0.80      0.75      2274\n",
      "weighted avg       0.86      0.83      0.84      2274\n",
      "\n"
     ]
    },
    {
     "data": {
      "text/html": [
       "<div>\n",
       "<style scoped>\n",
       "    .dataframe tbody tr th:only-of-type {\n",
       "        vertical-align: middle;\n",
       "    }\n",
       "\n",
       "    .dataframe tbody tr th {\n",
       "        vertical-align: top;\n",
       "    }\n",
       "\n",
       "    .dataframe thead th {\n",
       "        text-align: right;\n",
       "    }\n",
       "</style>\n",
       "<table border=\"1\" class=\"dataframe\">\n",
       "  <thead>\n",
       "    <tr style=\"text-align: right;\">\n",
       "      <th></th>\n",
       "      <th>Not Disaster</th>\n",
       "      <th>Disaster</th>\n",
       "    </tr>\n",
       "  </thead>\n",
       "  <tbody>\n",
       "    <tr>\n",
       "      <th>Not Disaster</th>\n",
       "      <td>1573</td>\n",
       "      <td>294</td>\n",
       "    </tr>\n",
       "    <tr>\n",
       "      <th>Disaster</th>\n",
       "      <td>101</td>\n",
       "      <td>306</td>\n",
       "    </tr>\n",
       "  </tbody>\n",
       "</table>\n",
       "</div>"
      ],
      "text/plain": [
       "              Not Disaster  Disaster\n",
       "Not Disaster          1573       294\n",
       "Disaster               101       306"
      ]
     },
     "execution_count": 40,
     "metadata": {},
     "output_type": "execute_result"
    }
   ],
   "source": [
    "# Model evaluation.\n",
    "print(classification_report(y_test, RF_b_tfidf_predictions))\n",
    "pd.DataFrame(confusion_matrix(y_test, RF_b_tfidf_predictions), index=labels, columns=labels)"
   ]
  },
  {
   "cell_type": "markdown",
   "id": "04d7ecff",
   "metadata": {},
   "source": [
    "### KNN"
   ]
  },
  {
   "cell_type": "code",
   "execution_count": 41,
   "id": "a75407cf",
   "metadata": {},
   "outputs": [],
   "source": [
    "# Let's now try a KNN model using our count vectorized data.\n",
    "# Initiate the model.\n",
    "KNN_b_cv = KNeighborsClassifier(n_neighbors=5, n_jobs=-1)\n",
    "\n",
    "# Fit KNN model with our training data.\n",
    "KNN_b_cv.fit(cv_train_features_res, y_train_res_cv)\n",
    "\n",
    "# Make predictions using our vectorized test features.\n",
    "KNN_b_bow_predictions = KNN_b_cv.predict(cv_test_features)"
   ]
  },
  {
   "cell_type": "code",
   "execution_count": 42,
   "id": "3b6765ae",
   "metadata": {},
   "outputs": [
    {
     "name": "stdout",
     "output_type": "stream",
     "text": [
      "              precision    recall  f1-score   support\n",
      "\n",
      "           0       0.86      0.98      0.92      1867\n",
      "           1       0.75      0.26      0.38       407\n",
      "\n",
      "    accuracy                           0.85      2274\n",
      "   macro avg       0.80      0.62      0.65      2274\n",
      "weighted avg       0.84      0.85      0.82      2274\n",
      "\n"
     ]
    },
    {
     "data": {
      "text/html": [
       "<div>\n",
       "<style scoped>\n",
       "    .dataframe tbody tr th:only-of-type {\n",
       "        vertical-align: middle;\n",
       "    }\n",
       "\n",
       "    .dataframe tbody tr th {\n",
       "        vertical-align: top;\n",
       "    }\n",
       "\n",
       "    .dataframe thead th {\n",
       "        text-align: right;\n",
       "    }\n",
       "</style>\n",
       "<table border=\"1\" class=\"dataframe\">\n",
       "  <thead>\n",
       "    <tr style=\"text-align: right;\">\n",
       "      <th></th>\n",
       "      <th>Not Disaster</th>\n",
       "      <th>Disaster</th>\n",
       "    </tr>\n",
       "  </thead>\n",
       "  <tbody>\n",
       "    <tr>\n",
       "      <th>Not Disaster</th>\n",
       "      <td>1832</td>\n",
       "      <td>35</td>\n",
       "    </tr>\n",
       "    <tr>\n",
       "      <th>Disaster</th>\n",
       "      <td>302</td>\n",
       "      <td>105</td>\n",
       "    </tr>\n",
       "  </tbody>\n",
       "</table>\n",
       "</div>"
      ],
      "text/plain": [
       "              Not Disaster  Disaster\n",
       "Not Disaster          1832        35\n",
       "Disaster               302       105"
      ]
     },
     "execution_count": 42,
     "metadata": {},
     "output_type": "execute_result"
    }
   ],
   "source": [
    "# Model evaluation.\n",
    "print(classification_report(y_test, KNN_b_bow_predictions))\n",
    "pd.DataFrame(confusion_matrix(y_test, KNN_b_bow_predictions), index=labels, columns=labels)"
   ]
  },
  {
   "cell_type": "code",
   "execution_count": 43,
   "id": "19555e14",
   "metadata": {},
   "outputs": [],
   "source": [
    "# Let's now try a KNN model using our tfidf vectorized data.\n",
    "# Initiate the model.\n",
    "KNN_b_tv = KNeighborsClassifier(n_neighbors=5, n_jobs=-1)\n",
    "\n",
    "# Fit KNN model with our training data.\n",
    "KNN_b_tv.fit(tv_train_features_res, y_train_res_tv)\n",
    "\n",
    "# Make predictions using our vectorized test features.\n",
    "KNN_b_tfidf_predictions = KNN_b_tv.predict(tv_test_features)"
   ]
  },
  {
   "cell_type": "code",
   "execution_count": 44,
   "id": "d7574e63",
   "metadata": {},
   "outputs": [
    {
     "name": "stdout",
     "output_type": "stream",
     "text": [
      "              precision    recall  f1-score   support\n",
      "\n",
      "           0       0.85      0.99      0.91      1867\n",
      "           1       0.81      0.20      0.33       407\n",
      "\n",
      "    accuracy                           0.85      2274\n",
      "   macro avg       0.83      0.60      0.62      2274\n",
      "weighted avg       0.84      0.85      0.81      2274\n",
      "\n"
     ]
    },
    {
     "data": {
      "text/html": [
       "<div>\n",
       "<style scoped>\n",
       "    .dataframe tbody tr th:only-of-type {\n",
       "        vertical-align: middle;\n",
       "    }\n",
       "\n",
       "    .dataframe tbody tr th {\n",
       "        vertical-align: top;\n",
       "    }\n",
       "\n",
       "    .dataframe thead th {\n",
       "        text-align: right;\n",
       "    }\n",
       "</style>\n",
       "<table border=\"1\" class=\"dataframe\">\n",
       "  <thead>\n",
       "    <tr style=\"text-align: right;\">\n",
       "      <th></th>\n",
       "      <th>Not Disaster</th>\n",
       "      <th>Disaster</th>\n",
       "    </tr>\n",
       "  </thead>\n",
       "  <tbody>\n",
       "    <tr>\n",
       "      <th>Not Disaster</th>\n",
       "      <td>1847</td>\n",
       "      <td>20</td>\n",
       "    </tr>\n",
       "    <tr>\n",
       "      <th>Disaster</th>\n",
       "      <td>324</td>\n",
       "      <td>83</td>\n",
       "    </tr>\n",
       "  </tbody>\n",
       "</table>\n",
       "</div>"
      ],
      "text/plain": [
       "              Not Disaster  Disaster\n",
       "Not Disaster          1847        20\n",
       "Disaster               324        83"
      ]
     },
     "execution_count": 44,
     "metadata": {},
     "output_type": "execute_result"
    }
   ],
   "source": [
    "# Model evaluation.\n",
    "print(classification_report(y_test, KNN_b_tfidf_predictions))\n",
    "pd.DataFrame(confusion_matrix(y_test, KNN_b_tfidf_predictions), index=labels, columns=labels)"
   ]
  },
  {
   "cell_type": "markdown",
   "id": "62148ea8",
   "metadata": {},
   "source": [
    "### SVM"
   ]
  },
  {
   "cell_type": "code",
   "execution_count": 45,
   "id": "ddff91a9",
   "metadata": {},
   "outputs": [],
   "source": [
    "# Let's now try a SVM model using our count vectorized data.\n",
    "# Initiate the model.\n",
    "SVM_b_cv = svm.SVC(C=1, gamma=1, random_state=42)\n",
    "\n",
    "# Fit SVM model with our training data.\n",
    "SVM_b_cv.fit(cv_train_features_res, y_train_res_cv)\n",
    "\n",
    "# Make predictions using our vectorized test features.\n",
    "SVM_b_bow_predictions = SVM_b_cv.predict(cv_test_features)"
   ]
  },
  {
   "cell_type": "code",
   "execution_count": 46,
   "id": "c4522792",
   "metadata": {},
   "outputs": [
    {
     "name": "stdout",
     "output_type": "stream",
     "text": [
      "              precision    recall  f1-score   support\n",
      "\n",
      "           0       0.86      0.99      0.92      1867\n",
      "           1       0.91      0.29      0.44       407\n",
      "\n",
      "    accuracy                           0.87      2274\n",
      "   macro avg       0.89      0.64      0.68      2274\n",
      "weighted avg       0.87      0.87      0.84      2274\n",
      "\n"
     ]
    },
    {
     "data": {
      "text/html": [
       "<div>\n",
       "<style scoped>\n",
       "    .dataframe tbody tr th:only-of-type {\n",
       "        vertical-align: middle;\n",
       "    }\n",
       "\n",
       "    .dataframe tbody tr th {\n",
       "        vertical-align: top;\n",
       "    }\n",
       "\n",
       "    .dataframe thead th {\n",
       "        text-align: right;\n",
       "    }\n",
       "</style>\n",
       "<table border=\"1\" class=\"dataframe\">\n",
       "  <thead>\n",
       "    <tr style=\"text-align: right;\">\n",
       "      <th></th>\n",
       "      <th>Not Disaster</th>\n",
       "      <th>Disaster</th>\n",
       "    </tr>\n",
       "  </thead>\n",
       "  <tbody>\n",
       "    <tr>\n",
       "      <th>Not Disaster</th>\n",
       "      <td>1856</td>\n",
       "      <td>11</td>\n",
       "    </tr>\n",
       "    <tr>\n",
       "      <th>Disaster</th>\n",
       "      <td>290</td>\n",
       "      <td>117</td>\n",
       "    </tr>\n",
       "  </tbody>\n",
       "</table>\n",
       "</div>"
      ],
      "text/plain": [
       "              Not Disaster  Disaster\n",
       "Not Disaster          1856        11\n",
       "Disaster               290       117"
      ]
     },
     "execution_count": 46,
     "metadata": {},
     "output_type": "execute_result"
    }
   ],
   "source": [
    "# Model evaluation.\n",
    "print(classification_report(y_test, SVM_b_bow_predictions))\n",
    "pd.DataFrame(confusion_matrix(y_test, SVM_b_bow_predictions), index=labels, columns=labels)"
   ]
  },
  {
   "cell_type": "code",
   "execution_count": 47,
   "id": "ed4208d6",
   "metadata": {},
   "outputs": [],
   "source": [
    "# Let's now try a SVM model using our tfidf vectorized data.\n",
    "# Initiate the model.\n",
    "SVM_b_tv = svm.SVC(C=1, gamma=1, random_state=42)\n",
    "\n",
    "# Fit SVM model with our training data.\n",
    "SVM_b_tv.fit(tv_train_features_res, y_train_res_tv)\n",
    "\n",
    "# Make predictions using our vectorized test features.\n",
    "SVM_b_tfidf_predictions = SVM_b_tv.predict(tv_test_features)"
   ]
  },
  {
   "cell_type": "code",
   "execution_count": 48,
   "id": "0fd8a725",
   "metadata": {},
   "outputs": [
    {
     "name": "stdout",
     "output_type": "stream",
     "text": [
      "              precision    recall  f1-score   support\n",
      "\n",
      "           0       0.94      0.85      0.89      1867\n",
      "           1       0.52      0.76      0.62       407\n",
      "\n",
      "    accuracy                           0.83      2274\n",
      "   macro avg       0.73      0.80      0.76      2274\n",
      "weighted avg       0.87      0.83      0.84      2274\n",
      "\n"
     ]
    },
    {
     "data": {
      "text/html": [
       "<div>\n",
       "<style scoped>\n",
       "    .dataframe tbody tr th:only-of-type {\n",
       "        vertical-align: middle;\n",
       "    }\n",
       "\n",
       "    .dataframe tbody tr th {\n",
       "        vertical-align: top;\n",
       "    }\n",
       "\n",
       "    .dataframe thead th {\n",
       "        text-align: right;\n",
       "    }\n",
       "</style>\n",
       "<table border=\"1\" class=\"dataframe\">\n",
       "  <thead>\n",
       "    <tr style=\"text-align: right;\">\n",
       "      <th></th>\n",
       "      <th>Not Disaster</th>\n",
       "      <th>Disaster</th>\n",
       "    </tr>\n",
       "  </thead>\n",
       "  <tbody>\n",
       "    <tr>\n",
       "      <th>Not Disaster</th>\n",
       "      <td>1585</td>\n",
       "      <td>282</td>\n",
       "    </tr>\n",
       "    <tr>\n",
       "      <th>Disaster</th>\n",
       "      <td>99</td>\n",
       "      <td>308</td>\n",
       "    </tr>\n",
       "  </tbody>\n",
       "</table>\n",
       "</div>"
      ],
      "text/plain": [
       "              Not Disaster  Disaster\n",
       "Not Disaster          1585       282\n",
       "Disaster                99       308"
      ]
     },
     "execution_count": 48,
     "metadata": {},
     "output_type": "execute_result"
    }
   ],
   "source": [
    "# Model evaluation.\n",
    "print(classification_report(y_test, SVM_b_tfidf_predictions))\n",
    "pd.DataFrame(confusion_matrix(y_test, SVM_b_tfidf_predictions), index=labels, columns=labels)"
   ]
  },
  {
   "cell_type": "markdown",
   "id": "5f7a5a18",
   "metadata": {},
   "source": [
    "### Gradient Boosting"
   ]
  },
  {
   "cell_type": "code",
   "execution_count": 49,
   "id": "444adfd3",
   "metadata": {},
   "outputs": [
    {
     "name": "stderr",
     "output_type": "stream",
     "text": [
      "C:\\Users\\justi\\anaconda3\\lib\\site-packages\\sklearn\\tree\\_classes.py:306: FutureWarning: `max_features='auto'` has been deprecated in 1.1 and will be removed in 1.3. To keep the past behaviour, explicitly set `max_features=1.0'`.\n",
      "  warnings.warn(\n",
      "C:\\Users\\justi\\anaconda3\\lib\\site-packages\\sklearn\\tree\\_classes.py:306: FutureWarning: `max_features='auto'` has been deprecated in 1.1 and will be removed in 1.3. To keep the past behaviour, explicitly set `max_features=1.0'`.\n",
      "  warnings.warn(\n",
      "C:\\Users\\justi\\anaconda3\\lib\\site-packages\\sklearn\\tree\\_classes.py:306: FutureWarning: `max_features='auto'` has been deprecated in 1.1 and will be removed in 1.3. To keep the past behaviour, explicitly set `max_features=1.0'`.\n",
      "  warnings.warn(\n",
      "C:\\Users\\justi\\anaconda3\\lib\\site-packages\\sklearn\\tree\\_classes.py:306: FutureWarning: `max_features='auto'` has been deprecated in 1.1 and will be removed in 1.3. To keep the past behaviour, explicitly set `max_features=1.0'`.\n",
      "  warnings.warn(\n",
      "C:\\Users\\justi\\anaconda3\\lib\\site-packages\\sklearn\\tree\\_classes.py:306: FutureWarning: `max_features='auto'` has been deprecated in 1.1 and will be removed in 1.3. To keep the past behaviour, explicitly set `max_features=1.0'`.\n",
      "  warnings.warn(\n",
      "C:\\Users\\justi\\anaconda3\\lib\\site-packages\\sklearn\\tree\\_classes.py:306: FutureWarning: `max_features='auto'` has been deprecated in 1.1 and will be removed in 1.3. To keep the past behaviour, explicitly set `max_features=1.0'`.\n",
      "  warnings.warn(\n",
      "C:\\Users\\justi\\anaconda3\\lib\\site-packages\\sklearn\\tree\\_classes.py:306: FutureWarning: `max_features='auto'` has been deprecated in 1.1 and will be removed in 1.3. To keep the past behaviour, explicitly set `max_features=1.0'`.\n",
      "  warnings.warn(\n",
      "C:\\Users\\justi\\anaconda3\\lib\\site-packages\\sklearn\\tree\\_classes.py:306: FutureWarning: `max_features='auto'` has been deprecated in 1.1 and will be removed in 1.3. To keep the past behaviour, explicitly set `max_features=1.0'`.\n",
      "  warnings.warn(\n",
      "C:\\Users\\justi\\anaconda3\\lib\\site-packages\\sklearn\\tree\\_classes.py:306: FutureWarning: `max_features='auto'` has been deprecated in 1.1 and will be removed in 1.3. To keep the past behaviour, explicitly set `max_features=1.0'`.\n",
      "  warnings.warn(\n",
      "C:\\Users\\justi\\anaconda3\\lib\\site-packages\\sklearn\\tree\\_classes.py:306: FutureWarning: `max_features='auto'` has been deprecated in 1.1 and will be removed in 1.3. To keep the past behaviour, explicitly set `max_features=1.0'`.\n",
      "  warnings.warn(\n",
      "C:\\Users\\justi\\anaconda3\\lib\\site-packages\\sklearn\\tree\\_classes.py:306: FutureWarning: `max_features='auto'` has been deprecated in 1.1 and will be removed in 1.3. To keep the past behaviour, explicitly set `max_features=1.0'`.\n",
      "  warnings.warn(\n",
      "C:\\Users\\justi\\anaconda3\\lib\\site-packages\\sklearn\\tree\\_classes.py:306: FutureWarning: `max_features='auto'` has been deprecated in 1.1 and will be removed in 1.3. To keep the past behaviour, explicitly set `max_features=1.0'`.\n",
      "  warnings.warn(\n",
      "C:\\Users\\justi\\anaconda3\\lib\\site-packages\\sklearn\\tree\\_classes.py:306: FutureWarning: `max_features='auto'` has been deprecated in 1.1 and will be removed in 1.3. To keep the past behaviour, explicitly set `max_features=1.0'`.\n",
      "  warnings.warn(\n",
      "C:\\Users\\justi\\anaconda3\\lib\\site-packages\\sklearn\\tree\\_classes.py:306: FutureWarning: `max_features='auto'` has been deprecated in 1.1 and will be removed in 1.3. To keep the past behaviour, explicitly set `max_features=1.0'`.\n",
      "  warnings.warn(\n",
      "C:\\Users\\justi\\anaconda3\\lib\\site-packages\\sklearn\\tree\\_classes.py:306: FutureWarning: `max_features='auto'` has been deprecated in 1.1 and will be removed in 1.3. To keep the past behaviour, explicitly set `max_features=1.0'`.\n",
      "  warnings.warn(\n",
      "C:\\Users\\justi\\anaconda3\\lib\\site-packages\\sklearn\\tree\\_classes.py:306: FutureWarning: `max_features='auto'` has been deprecated in 1.1 and will be removed in 1.3. To keep the past behaviour, explicitly set `max_features=1.0'`.\n",
      "  warnings.warn(\n",
      "C:\\Users\\justi\\anaconda3\\lib\\site-packages\\sklearn\\tree\\_classes.py:306: FutureWarning: `max_features='auto'` has been deprecated in 1.1 and will be removed in 1.3. To keep the past behaviour, explicitly set `max_features=1.0'`.\n",
      "  warnings.warn(\n",
      "C:\\Users\\justi\\anaconda3\\lib\\site-packages\\sklearn\\tree\\_classes.py:306: FutureWarning: `max_features='auto'` has been deprecated in 1.1 and will be removed in 1.3. To keep the past behaviour, explicitly set `max_features=1.0'`.\n",
      "  warnings.warn(\n",
      "C:\\Users\\justi\\anaconda3\\lib\\site-packages\\sklearn\\tree\\_classes.py:306: FutureWarning: `max_features='auto'` has been deprecated in 1.1 and will be removed in 1.3. To keep the past behaviour, explicitly set `max_features=1.0'`.\n",
      "  warnings.warn(\n",
      "C:\\Users\\justi\\anaconda3\\lib\\site-packages\\sklearn\\tree\\_classes.py:306: FutureWarning: `max_features='auto'` has been deprecated in 1.1 and will be removed in 1.3. To keep the past behaviour, explicitly set `max_features=1.0'`.\n",
      "  warnings.warn(\n",
      "C:\\Users\\justi\\anaconda3\\lib\\site-packages\\sklearn\\tree\\_classes.py:306: FutureWarning: `max_features='auto'` has been deprecated in 1.1 and will be removed in 1.3. To keep the past behaviour, explicitly set `max_features=1.0'`.\n",
      "  warnings.warn(\n",
      "C:\\Users\\justi\\anaconda3\\lib\\site-packages\\sklearn\\tree\\_classes.py:306: FutureWarning: `max_features='auto'` has been deprecated in 1.1 and will be removed in 1.3. To keep the past behaviour, explicitly set `max_features=1.0'`.\n",
      "  warnings.warn(\n",
      "C:\\Users\\justi\\anaconda3\\lib\\site-packages\\sklearn\\tree\\_classes.py:306: FutureWarning: `max_features='auto'` has been deprecated in 1.1 and will be removed in 1.3. To keep the past behaviour, explicitly set `max_features=1.0'`.\n",
      "  warnings.warn(\n",
      "C:\\Users\\justi\\anaconda3\\lib\\site-packages\\sklearn\\tree\\_classes.py:306: FutureWarning: `max_features='auto'` has been deprecated in 1.1 and will be removed in 1.3. To keep the past behaviour, explicitly set `max_features=1.0'`.\n",
      "  warnings.warn(\n",
      "C:\\Users\\justi\\anaconda3\\lib\\site-packages\\sklearn\\tree\\_classes.py:306: FutureWarning: `max_features='auto'` has been deprecated in 1.1 and will be removed in 1.3. To keep the past behaviour, explicitly set `max_features=1.0'`.\n",
      "  warnings.warn(\n",
      "C:\\Users\\justi\\anaconda3\\lib\\site-packages\\sklearn\\tree\\_classes.py:306: FutureWarning: `max_features='auto'` has been deprecated in 1.1 and will be removed in 1.3. To keep the past behaviour, explicitly set `max_features=1.0'`.\n",
      "  warnings.warn(\n",
      "C:\\Users\\justi\\anaconda3\\lib\\site-packages\\sklearn\\tree\\_classes.py:306: FutureWarning: `max_features='auto'` has been deprecated in 1.1 and will be removed in 1.3. To keep the past behaviour, explicitly set `max_features=1.0'`.\n",
      "  warnings.warn(\n",
      "C:\\Users\\justi\\anaconda3\\lib\\site-packages\\sklearn\\tree\\_classes.py:306: FutureWarning: `max_features='auto'` has been deprecated in 1.1 and will be removed in 1.3. To keep the past behaviour, explicitly set `max_features=1.0'`.\n",
      "  warnings.warn(\n",
      "C:\\Users\\justi\\anaconda3\\lib\\site-packages\\sklearn\\tree\\_classes.py:306: FutureWarning: `max_features='auto'` has been deprecated in 1.1 and will be removed in 1.3. To keep the past behaviour, explicitly set `max_features=1.0'`.\n",
      "  warnings.warn(\n",
      "C:\\Users\\justi\\anaconda3\\lib\\site-packages\\sklearn\\tree\\_classes.py:306: FutureWarning: `max_features='auto'` has been deprecated in 1.1 and will be removed in 1.3. To keep the past behaviour, explicitly set `max_features=1.0'`.\n",
      "  warnings.warn(\n",
      "C:\\Users\\justi\\anaconda3\\lib\\site-packages\\sklearn\\tree\\_classes.py:306: FutureWarning: `max_features='auto'` has been deprecated in 1.1 and will be removed in 1.3. To keep the past behaviour, explicitly set `max_features=1.0'`.\n",
      "  warnings.warn(\n",
      "C:\\Users\\justi\\anaconda3\\lib\\site-packages\\sklearn\\tree\\_classes.py:306: FutureWarning: `max_features='auto'` has been deprecated in 1.1 and will be removed in 1.3. To keep the past behaviour, explicitly set `max_features=1.0'`.\n",
      "  warnings.warn(\n",
      "C:\\Users\\justi\\anaconda3\\lib\\site-packages\\sklearn\\tree\\_classes.py:306: FutureWarning: `max_features='auto'` has been deprecated in 1.1 and will be removed in 1.3. To keep the past behaviour, explicitly set `max_features=1.0'`.\n",
      "  warnings.warn(\n",
      "C:\\Users\\justi\\anaconda3\\lib\\site-packages\\sklearn\\tree\\_classes.py:306: FutureWarning: `max_features='auto'` has been deprecated in 1.1 and will be removed in 1.3. To keep the past behaviour, explicitly set `max_features=1.0'`.\n",
      "  warnings.warn(\n",
      "C:\\Users\\justi\\anaconda3\\lib\\site-packages\\sklearn\\tree\\_classes.py:306: FutureWarning: `max_features='auto'` has been deprecated in 1.1 and will be removed in 1.3. To keep the past behaviour, explicitly set `max_features=1.0'`.\n",
      "  warnings.warn(\n"
     ]
    },
    {
     "name": "stderr",
     "output_type": "stream",
     "text": [
      "C:\\Users\\justi\\anaconda3\\lib\\site-packages\\sklearn\\tree\\_classes.py:306: FutureWarning: `max_features='auto'` has been deprecated in 1.1 and will be removed in 1.3. To keep the past behaviour, explicitly set `max_features=1.0'`.\n",
      "  warnings.warn(\n",
      "C:\\Users\\justi\\anaconda3\\lib\\site-packages\\sklearn\\tree\\_classes.py:306: FutureWarning: `max_features='auto'` has been deprecated in 1.1 and will be removed in 1.3. To keep the past behaviour, explicitly set `max_features=1.0'`.\n",
      "  warnings.warn(\n",
      "C:\\Users\\justi\\anaconda3\\lib\\site-packages\\sklearn\\tree\\_classes.py:306: FutureWarning: `max_features='auto'` has been deprecated in 1.1 and will be removed in 1.3. To keep the past behaviour, explicitly set `max_features=1.0'`.\n",
      "  warnings.warn(\n",
      "C:\\Users\\justi\\anaconda3\\lib\\site-packages\\sklearn\\tree\\_classes.py:306: FutureWarning: `max_features='auto'` has been deprecated in 1.1 and will be removed in 1.3. To keep the past behaviour, explicitly set `max_features=1.0'`.\n",
      "  warnings.warn(\n",
      "C:\\Users\\justi\\anaconda3\\lib\\site-packages\\sklearn\\tree\\_classes.py:306: FutureWarning: `max_features='auto'` has been deprecated in 1.1 and will be removed in 1.3. To keep the past behaviour, explicitly set `max_features=1.0'`.\n",
      "  warnings.warn(\n",
      "C:\\Users\\justi\\anaconda3\\lib\\site-packages\\sklearn\\tree\\_classes.py:306: FutureWarning: `max_features='auto'` has been deprecated in 1.1 and will be removed in 1.3. To keep the past behaviour, explicitly set `max_features=1.0'`.\n",
      "  warnings.warn(\n",
      "C:\\Users\\justi\\anaconda3\\lib\\site-packages\\sklearn\\tree\\_classes.py:306: FutureWarning: `max_features='auto'` has been deprecated in 1.1 and will be removed in 1.3. To keep the past behaviour, explicitly set `max_features=1.0'`.\n",
      "  warnings.warn(\n",
      "C:\\Users\\justi\\anaconda3\\lib\\site-packages\\sklearn\\tree\\_classes.py:306: FutureWarning: `max_features='auto'` has been deprecated in 1.1 and will be removed in 1.3. To keep the past behaviour, explicitly set `max_features=1.0'`.\n",
      "  warnings.warn(\n",
      "C:\\Users\\justi\\anaconda3\\lib\\site-packages\\sklearn\\tree\\_classes.py:306: FutureWarning: `max_features='auto'` has been deprecated in 1.1 and will be removed in 1.3. To keep the past behaviour, explicitly set `max_features=1.0'`.\n",
      "  warnings.warn(\n",
      "C:\\Users\\justi\\anaconda3\\lib\\site-packages\\sklearn\\tree\\_classes.py:306: FutureWarning: `max_features='auto'` has been deprecated in 1.1 and will be removed in 1.3. To keep the past behaviour, explicitly set `max_features=1.0'`.\n",
      "  warnings.warn(\n",
      "C:\\Users\\justi\\anaconda3\\lib\\site-packages\\sklearn\\tree\\_classes.py:306: FutureWarning: `max_features='auto'` has been deprecated in 1.1 and will be removed in 1.3. To keep the past behaviour, explicitly set `max_features=1.0'`.\n",
      "  warnings.warn(\n",
      "C:\\Users\\justi\\anaconda3\\lib\\site-packages\\sklearn\\tree\\_classes.py:306: FutureWarning: `max_features='auto'` has been deprecated in 1.1 and will be removed in 1.3. To keep the past behaviour, explicitly set `max_features=1.0'`.\n",
      "  warnings.warn(\n",
      "C:\\Users\\justi\\anaconda3\\lib\\site-packages\\sklearn\\tree\\_classes.py:306: FutureWarning: `max_features='auto'` has been deprecated in 1.1 and will be removed in 1.3. To keep the past behaviour, explicitly set `max_features=1.0'`.\n",
      "  warnings.warn(\n",
      "C:\\Users\\justi\\anaconda3\\lib\\site-packages\\sklearn\\tree\\_classes.py:306: FutureWarning: `max_features='auto'` has been deprecated in 1.1 and will be removed in 1.3. To keep the past behaviour, explicitly set `max_features=1.0'`.\n",
      "  warnings.warn(\n",
      "C:\\Users\\justi\\anaconda3\\lib\\site-packages\\sklearn\\tree\\_classes.py:306: FutureWarning: `max_features='auto'` has been deprecated in 1.1 and will be removed in 1.3. To keep the past behaviour, explicitly set `max_features=1.0'`.\n",
      "  warnings.warn(\n",
      "C:\\Users\\justi\\anaconda3\\lib\\site-packages\\sklearn\\tree\\_classes.py:306: FutureWarning: `max_features='auto'` has been deprecated in 1.1 and will be removed in 1.3. To keep the past behaviour, explicitly set `max_features=1.0'`.\n",
      "  warnings.warn(\n",
      "C:\\Users\\justi\\anaconda3\\lib\\site-packages\\sklearn\\tree\\_classes.py:306: FutureWarning: `max_features='auto'` has been deprecated in 1.1 and will be removed in 1.3. To keep the past behaviour, explicitly set `max_features=1.0'`.\n",
      "  warnings.warn(\n",
      "C:\\Users\\justi\\anaconda3\\lib\\site-packages\\sklearn\\tree\\_classes.py:306: FutureWarning: `max_features='auto'` has been deprecated in 1.1 and will be removed in 1.3. To keep the past behaviour, explicitly set `max_features=1.0'`.\n",
      "  warnings.warn(\n",
      "C:\\Users\\justi\\anaconda3\\lib\\site-packages\\sklearn\\tree\\_classes.py:306: FutureWarning: `max_features='auto'` has been deprecated in 1.1 and will be removed in 1.3. To keep the past behaviour, explicitly set `max_features=1.0'`.\n",
      "  warnings.warn(\n",
      "C:\\Users\\justi\\anaconda3\\lib\\site-packages\\sklearn\\tree\\_classes.py:306: FutureWarning: `max_features='auto'` has been deprecated in 1.1 and will be removed in 1.3. To keep the past behaviour, explicitly set `max_features=1.0'`.\n",
      "  warnings.warn(\n",
      "C:\\Users\\justi\\anaconda3\\lib\\site-packages\\sklearn\\tree\\_classes.py:306: FutureWarning: `max_features='auto'` has been deprecated in 1.1 and will be removed in 1.3. To keep the past behaviour, explicitly set `max_features=1.0'`.\n",
      "  warnings.warn(\n",
      "C:\\Users\\justi\\anaconda3\\lib\\site-packages\\sklearn\\tree\\_classes.py:306: FutureWarning: `max_features='auto'` has been deprecated in 1.1 and will be removed in 1.3. To keep the past behaviour, explicitly set `max_features=1.0'`.\n",
      "  warnings.warn(\n",
      "C:\\Users\\justi\\anaconda3\\lib\\site-packages\\sklearn\\tree\\_classes.py:306: FutureWarning: `max_features='auto'` has been deprecated in 1.1 and will be removed in 1.3. To keep the past behaviour, explicitly set `max_features=1.0'`.\n",
      "  warnings.warn(\n",
      "C:\\Users\\justi\\anaconda3\\lib\\site-packages\\sklearn\\tree\\_classes.py:306: FutureWarning: `max_features='auto'` has been deprecated in 1.1 and will be removed in 1.3. To keep the past behaviour, explicitly set `max_features=1.0'`.\n",
      "  warnings.warn(\n",
      "C:\\Users\\justi\\anaconda3\\lib\\site-packages\\sklearn\\tree\\_classes.py:306: FutureWarning: `max_features='auto'` has been deprecated in 1.1 and will be removed in 1.3. To keep the past behaviour, explicitly set `max_features=1.0'`.\n",
      "  warnings.warn(\n",
      "C:\\Users\\justi\\anaconda3\\lib\\site-packages\\sklearn\\tree\\_classes.py:306: FutureWarning: `max_features='auto'` has been deprecated in 1.1 and will be removed in 1.3. To keep the past behaviour, explicitly set `max_features=1.0'`.\n",
      "  warnings.warn(\n",
      "C:\\Users\\justi\\anaconda3\\lib\\site-packages\\sklearn\\tree\\_classes.py:306: FutureWarning: `max_features='auto'` has been deprecated in 1.1 and will be removed in 1.3. To keep the past behaviour, explicitly set `max_features=1.0'`.\n",
      "  warnings.warn(\n",
      "C:\\Users\\justi\\anaconda3\\lib\\site-packages\\sklearn\\tree\\_classes.py:306: FutureWarning: `max_features='auto'` has been deprecated in 1.1 and will be removed in 1.3. To keep the past behaviour, explicitly set `max_features=1.0'`.\n",
      "  warnings.warn(\n",
      "C:\\Users\\justi\\anaconda3\\lib\\site-packages\\sklearn\\tree\\_classes.py:306: FutureWarning: `max_features='auto'` has been deprecated in 1.1 and will be removed in 1.3. To keep the past behaviour, explicitly set `max_features=1.0'`.\n",
      "  warnings.warn(\n",
      "C:\\Users\\justi\\anaconda3\\lib\\site-packages\\sklearn\\tree\\_classes.py:306: FutureWarning: `max_features='auto'` has been deprecated in 1.1 and will be removed in 1.3. To keep the past behaviour, explicitly set `max_features=1.0'`.\n",
      "  warnings.warn(\n",
      "C:\\Users\\justi\\anaconda3\\lib\\site-packages\\sklearn\\tree\\_classes.py:306: FutureWarning: `max_features='auto'` has been deprecated in 1.1 and will be removed in 1.3. To keep the past behaviour, explicitly set `max_features=1.0'`.\n",
      "  warnings.warn(\n",
      "C:\\Users\\justi\\anaconda3\\lib\\site-packages\\sklearn\\tree\\_classes.py:306: FutureWarning: `max_features='auto'` has been deprecated in 1.1 and will be removed in 1.3. To keep the past behaviour, explicitly set `max_features=1.0'`.\n",
      "  warnings.warn(\n",
      "C:\\Users\\justi\\anaconda3\\lib\\site-packages\\sklearn\\tree\\_classes.py:306: FutureWarning: `max_features='auto'` has been deprecated in 1.1 and will be removed in 1.3. To keep the past behaviour, explicitly set `max_features=1.0'`.\n",
      "  warnings.warn(\n",
      "C:\\Users\\justi\\anaconda3\\lib\\site-packages\\sklearn\\tree\\_classes.py:306: FutureWarning: `max_features='auto'` has been deprecated in 1.1 and will be removed in 1.3. To keep the past behaviour, explicitly set `max_features=1.0'`.\n",
      "  warnings.warn(\n",
      "C:\\Users\\justi\\anaconda3\\lib\\site-packages\\sklearn\\tree\\_classes.py:306: FutureWarning: `max_features='auto'` has been deprecated in 1.1 and will be removed in 1.3. To keep the past behaviour, explicitly set `max_features=1.0'`.\n",
      "  warnings.warn(\n"
     ]
    },
    {
     "name": "stderr",
     "output_type": "stream",
     "text": [
      "C:\\Users\\justi\\anaconda3\\lib\\site-packages\\sklearn\\tree\\_classes.py:306: FutureWarning: `max_features='auto'` has been deprecated in 1.1 and will be removed in 1.3. To keep the past behaviour, explicitly set `max_features=1.0'`.\n",
      "  warnings.warn(\n",
      "C:\\Users\\justi\\anaconda3\\lib\\site-packages\\sklearn\\tree\\_classes.py:306: FutureWarning: `max_features='auto'` has been deprecated in 1.1 and will be removed in 1.3. To keep the past behaviour, explicitly set `max_features=1.0'`.\n",
      "  warnings.warn(\n",
      "C:\\Users\\justi\\anaconda3\\lib\\site-packages\\sklearn\\tree\\_classes.py:306: FutureWarning: `max_features='auto'` has been deprecated in 1.1 and will be removed in 1.3. To keep the past behaviour, explicitly set `max_features=1.0'`.\n",
      "  warnings.warn(\n",
      "C:\\Users\\justi\\anaconda3\\lib\\site-packages\\sklearn\\tree\\_classes.py:306: FutureWarning: `max_features='auto'` has been deprecated in 1.1 and will be removed in 1.3. To keep the past behaviour, explicitly set `max_features=1.0'`.\n",
      "  warnings.warn(\n",
      "C:\\Users\\justi\\anaconda3\\lib\\site-packages\\sklearn\\tree\\_classes.py:306: FutureWarning: `max_features='auto'` has been deprecated in 1.1 and will be removed in 1.3. To keep the past behaviour, explicitly set `max_features=1.0'`.\n",
      "  warnings.warn(\n",
      "C:\\Users\\justi\\anaconda3\\lib\\site-packages\\sklearn\\tree\\_classes.py:306: FutureWarning: `max_features='auto'` has been deprecated in 1.1 and will be removed in 1.3. To keep the past behaviour, explicitly set `max_features=1.0'`.\n",
      "  warnings.warn(\n",
      "C:\\Users\\justi\\anaconda3\\lib\\site-packages\\sklearn\\tree\\_classes.py:306: FutureWarning: `max_features='auto'` has been deprecated in 1.1 and will be removed in 1.3. To keep the past behaviour, explicitly set `max_features=1.0'`.\n",
      "  warnings.warn(\n",
      "C:\\Users\\justi\\anaconda3\\lib\\site-packages\\sklearn\\tree\\_classes.py:306: FutureWarning: `max_features='auto'` has been deprecated in 1.1 and will be removed in 1.3. To keep the past behaviour, explicitly set `max_features=1.0'`.\n",
      "  warnings.warn(\n",
      "C:\\Users\\justi\\anaconda3\\lib\\site-packages\\sklearn\\tree\\_classes.py:306: FutureWarning: `max_features='auto'` has been deprecated in 1.1 and will be removed in 1.3. To keep the past behaviour, explicitly set `max_features=1.0'`.\n",
      "  warnings.warn(\n",
      "C:\\Users\\justi\\anaconda3\\lib\\site-packages\\sklearn\\tree\\_classes.py:306: FutureWarning: `max_features='auto'` has been deprecated in 1.1 and will be removed in 1.3. To keep the past behaviour, explicitly set `max_features=1.0'`.\n",
      "  warnings.warn(\n",
      "C:\\Users\\justi\\anaconda3\\lib\\site-packages\\sklearn\\tree\\_classes.py:306: FutureWarning: `max_features='auto'` has been deprecated in 1.1 and will be removed in 1.3. To keep the past behaviour, explicitly set `max_features=1.0'`.\n",
      "  warnings.warn(\n",
      "C:\\Users\\justi\\anaconda3\\lib\\site-packages\\sklearn\\tree\\_classes.py:306: FutureWarning: `max_features='auto'` has been deprecated in 1.1 and will be removed in 1.3. To keep the past behaviour, explicitly set `max_features=1.0'`.\n",
      "  warnings.warn(\n",
      "C:\\Users\\justi\\anaconda3\\lib\\site-packages\\sklearn\\tree\\_classes.py:306: FutureWarning: `max_features='auto'` has been deprecated in 1.1 and will be removed in 1.3. To keep the past behaviour, explicitly set `max_features=1.0'`.\n",
      "  warnings.warn(\n",
      "C:\\Users\\justi\\anaconda3\\lib\\site-packages\\sklearn\\tree\\_classes.py:306: FutureWarning: `max_features='auto'` has been deprecated in 1.1 and will be removed in 1.3. To keep the past behaviour, explicitly set `max_features=1.0'`.\n",
      "  warnings.warn(\n",
      "C:\\Users\\justi\\anaconda3\\lib\\site-packages\\sklearn\\tree\\_classes.py:306: FutureWarning: `max_features='auto'` has been deprecated in 1.1 and will be removed in 1.3. To keep the past behaviour, explicitly set `max_features=1.0'`.\n",
      "  warnings.warn(\n",
      "C:\\Users\\justi\\anaconda3\\lib\\site-packages\\sklearn\\tree\\_classes.py:306: FutureWarning: `max_features='auto'` has been deprecated in 1.1 and will be removed in 1.3. To keep the past behaviour, explicitly set `max_features=1.0'`.\n",
      "  warnings.warn(\n",
      "C:\\Users\\justi\\anaconda3\\lib\\site-packages\\sklearn\\tree\\_classes.py:306: FutureWarning: `max_features='auto'` has been deprecated in 1.1 and will be removed in 1.3. To keep the past behaviour, explicitly set `max_features=1.0'`.\n",
      "  warnings.warn(\n",
      "C:\\Users\\justi\\anaconda3\\lib\\site-packages\\sklearn\\tree\\_classes.py:306: FutureWarning: `max_features='auto'` has been deprecated in 1.1 and will be removed in 1.3. To keep the past behaviour, explicitly set `max_features=1.0'`.\n",
      "  warnings.warn(\n",
      "C:\\Users\\justi\\anaconda3\\lib\\site-packages\\sklearn\\tree\\_classes.py:306: FutureWarning: `max_features='auto'` has been deprecated in 1.1 and will be removed in 1.3. To keep the past behaviour, explicitly set `max_features=1.0'`.\n",
      "  warnings.warn(\n",
      "C:\\Users\\justi\\anaconda3\\lib\\site-packages\\sklearn\\tree\\_classes.py:306: FutureWarning: `max_features='auto'` has been deprecated in 1.1 and will be removed in 1.3. To keep the past behaviour, explicitly set `max_features=1.0'`.\n",
      "  warnings.warn(\n",
      "C:\\Users\\justi\\anaconda3\\lib\\site-packages\\sklearn\\tree\\_classes.py:306: FutureWarning: `max_features='auto'` has been deprecated in 1.1 and will be removed in 1.3. To keep the past behaviour, explicitly set `max_features=1.0'`.\n",
      "  warnings.warn(\n",
      "C:\\Users\\justi\\anaconda3\\lib\\site-packages\\sklearn\\tree\\_classes.py:306: FutureWarning: `max_features='auto'` has been deprecated in 1.1 and will be removed in 1.3. To keep the past behaviour, explicitly set `max_features=1.0'`.\n",
      "  warnings.warn(\n",
      "C:\\Users\\justi\\anaconda3\\lib\\site-packages\\sklearn\\tree\\_classes.py:306: FutureWarning: `max_features='auto'` has been deprecated in 1.1 and will be removed in 1.3. To keep the past behaviour, explicitly set `max_features=1.0'`.\n",
      "  warnings.warn(\n",
      "C:\\Users\\justi\\anaconda3\\lib\\site-packages\\sklearn\\tree\\_classes.py:306: FutureWarning: `max_features='auto'` has been deprecated in 1.1 and will be removed in 1.3. To keep the past behaviour, explicitly set `max_features=1.0'`.\n",
      "  warnings.warn(\n",
      "C:\\Users\\justi\\anaconda3\\lib\\site-packages\\sklearn\\tree\\_classes.py:306: FutureWarning: `max_features='auto'` has been deprecated in 1.1 and will be removed in 1.3. To keep the past behaviour, explicitly set `max_features=1.0'`.\n",
      "  warnings.warn(\n",
      "C:\\Users\\justi\\anaconda3\\lib\\site-packages\\sklearn\\tree\\_classes.py:306: FutureWarning: `max_features='auto'` has been deprecated in 1.1 and will be removed in 1.3. To keep the past behaviour, explicitly set `max_features=1.0'`.\n",
      "  warnings.warn(\n",
      "C:\\Users\\justi\\anaconda3\\lib\\site-packages\\sklearn\\tree\\_classes.py:306: FutureWarning: `max_features='auto'` has been deprecated in 1.1 and will be removed in 1.3. To keep the past behaviour, explicitly set `max_features=1.0'`.\n",
      "  warnings.warn(\n",
      "C:\\Users\\justi\\anaconda3\\lib\\site-packages\\sklearn\\tree\\_classes.py:306: FutureWarning: `max_features='auto'` has been deprecated in 1.1 and will be removed in 1.3. To keep the past behaviour, explicitly set `max_features=1.0'`.\n",
      "  warnings.warn(\n",
      "C:\\Users\\justi\\anaconda3\\lib\\site-packages\\sklearn\\tree\\_classes.py:306: FutureWarning: `max_features='auto'` has been deprecated in 1.1 and will be removed in 1.3. To keep the past behaviour, explicitly set `max_features=1.0'`.\n",
      "  warnings.warn(\n",
      "C:\\Users\\justi\\anaconda3\\lib\\site-packages\\sklearn\\tree\\_classes.py:306: FutureWarning: `max_features='auto'` has been deprecated in 1.1 and will be removed in 1.3. To keep the past behaviour, explicitly set `max_features=1.0'`.\n",
      "  warnings.warn(\n"
     ]
    }
   ],
   "source": [
    "# Let's now try a Gradient Boosting model using our count vectorized data.\n",
    "# Initiate the model.\n",
    "GB_b_cv = GradientBoostingClassifier(n_estimators=100, max_depth=10, max_features='auto', learning_rate=0.1, random_state=42)\n",
    "\n",
    "# Fit GB model with our training data.\n",
    "GB_b_cv.fit(cv_train_features_res, y_train_res_cv)\n",
    "\n",
    "# Make predictions using our vectorized test features.\n",
    "GB_b_bow_predictions = GB_b_cv.predict(cv_test_features)"
   ]
  },
  {
   "cell_type": "code",
   "execution_count": 50,
   "id": "98c13b28",
   "metadata": {},
   "outputs": [
    {
     "name": "stdout",
     "output_type": "stream",
     "text": [
      "              precision    recall  f1-score   support\n",
      "\n",
      "           0       0.93      0.83      0.88      1867\n",
      "           1       0.48      0.72      0.58       407\n",
      "\n",
      "    accuracy                           0.81      2274\n",
      "   macro avg       0.71      0.78      0.73      2274\n",
      "weighted avg       0.85      0.81      0.82      2274\n",
      "\n"
     ]
    },
    {
     "data": {
      "text/html": [
       "<div>\n",
       "<style scoped>\n",
       "    .dataframe tbody tr th:only-of-type {\n",
       "        vertical-align: middle;\n",
       "    }\n",
       "\n",
       "    .dataframe tbody tr th {\n",
       "        vertical-align: top;\n",
       "    }\n",
       "\n",
       "    .dataframe thead th {\n",
       "        text-align: right;\n",
       "    }\n",
       "</style>\n",
       "<table border=\"1\" class=\"dataframe\">\n",
       "  <thead>\n",
       "    <tr style=\"text-align: right;\">\n",
       "      <th></th>\n",
       "      <th>Not Disaster</th>\n",
       "      <th>Disaster</th>\n",
       "    </tr>\n",
       "  </thead>\n",
       "  <tbody>\n",
       "    <tr>\n",
       "      <th>Not Disaster</th>\n",
       "      <td>1550</td>\n",
       "      <td>317</td>\n",
       "    </tr>\n",
       "    <tr>\n",
       "      <th>Disaster</th>\n",
       "      <td>114</td>\n",
       "      <td>293</td>\n",
       "    </tr>\n",
       "  </tbody>\n",
       "</table>\n",
       "</div>"
      ],
      "text/plain": [
       "              Not Disaster  Disaster\n",
       "Not Disaster          1550       317\n",
       "Disaster               114       293"
      ]
     },
     "execution_count": 50,
     "metadata": {},
     "output_type": "execute_result"
    }
   ],
   "source": [
    "# Model evaluation.\n",
    "print(classification_report(y_test, GB_b_bow_predictions))\n",
    "pd.DataFrame(confusion_matrix(y_test, GB_b_bow_predictions), index=labels, columns=labels)"
   ]
  },
  {
   "cell_type": "code",
   "execution_count": 51,
   "id": "07581a1d",
   "metadata": {},
   "outputs": [
    {
     "name": "stderr",
     "output_type": "stream",
     "text": [
      "C:\\Users\\justi\\anaconda3\\lib\\site-packages\\sklearn\\tree\\_classes.py:306: FutureWarning: `max_features='auto'` has been deprecated in 1.1 and will be removed in 1.3. To keep the past behaviour, explicitly set `max_features=1.0'`.\n",
      "  warnings.warn(\n",
      "C:\\Users\\justi\\anaconda3\\lib\\site-packages\\sklearn\\tree\\_classes.py:306: FutureWarning: `max_features='auto'` has been deprecated in 1.1 and will be removed in 1.3. To keep the past behaviour, explicitly set `max_features=1.0'`.\n",
      "  warnings.warn(\n",
      "C:\\Users\\justi\\anaconda3\\lib\\site-packages\\sklearn\\tree\\_classes.py:306: FutureWarning: `max_features='auto'` has been deprecated in 1.1 and will be removed in 1.3. To keep the past behaviour, explicitly set `max_features=1.0'`.\n",
      "  warnings.warn(\n",
      "C:\\Users\\justi\\anaconda3\\lib\\site-packages\\sklearn\\tree\\_classes.py:306: FutureWarning: `max_features='auto'` has been deprecated in 1.1 and will be removed in 1.3. To keep the past behaviour, explicitly set `max_features=1.0'`.\n",
      "  warnings.warn(\n",
      "C:\\Users\\justi\\anaconda3\\lib\\site-packages\\sklearn\\tree\\_classes.py:306: FutureWarning: `max_features='auto'` has been deprecated in 1.1 and will be removed in 1.3. To keep the past behaviour, explicitly set `max_features=1.0'`.\n",
      "  warnings.warn(\n",
      "C:\\Users\\justi\\anaconda3\\lib\\site-packages\\sklearn\\tree\\_classes.py:306: FutureWarning: `max_features='auto'` has been deprecated in 1.1 and will be removed in 1.3. To keep the past behaviour, explicitly set `max_features=1.0'`.\n",
      "  warnings.warn(\n",
      "C:\\Users\\justi\\anaconda3\\lib\\site-packages\\sklearn\\tree\\_classes.py:306: FutureWarning: `max_features='auto'` has been deprecated in 1.1 and will be removed in 1.3. To keep the past behaviour, explicitly set `max_features=1.0'`.\n",
      "  warnings.warn(\n",
      "C:\\Users\\justi\\anaconda3\\lib\\site-packages\\sklearn\\tree\\_classes.py:306: FutureWarning: `max_features='auto'` has been deprecated in 1.1 and will be removed in 1.3. To keep the past behaviour, explicitly set `max_features=1.0'`.\n",
      "  warnings.warn(\n",
      "C:\\Users\\justi\\anaconda3\\lib\\site-packages\\sklearn\\tree\\_classes.py:306: FutureWarning: `max_features='auto'` has been deprecated in 1.1 and will be removed in 1.3. To keep the past behaviour, explicitly set `max_features=1.0'`.\n",
      "  warnings.warn(\n",
      "C:\\Users\\justi\\anaconda3\\lib\\site-packages\\sklearn\\tree\\_classes.py:306: FutureWarning: `max_features='auto'` has been deprecated in 1.1 and will be removed in 1.3. To keep the past behaviour, explicitly set `max_features=1.0'`.\n",
      "  warnings.warn(\n",
      "C:\\Users\\justi\\anaconda3\\lib\\site-packages\\sklearn\\tree\\_classes.py:306: FutureWarning: `max_features='auto'` has been deprecated in 1.1 and will be removed in 1.3. To keep the past behaviour, explicitly set `max_features=1.0'`.\n",
      "  warnings.warn(\n",
      "C:\\Users\\justi\\anaconda3\\lib\\site-packages\\sklearn\\tree\\_classes.py:306: FutureWarning: `max_features='auto'` has been deprecated in 1.1 and will be removed in 1.3. To keep the past behaviour, explicitly set `max_features=1.0'`.\n",
      "  warnings.warn(\n",
      "C:\\Users\\justi\\anaconda3\\lib\\site-packages\\sklearn\\tree\\_classes.py:306: FutureWarning: `max_features='auto'` has been deprecated in 1.1 and will be removed in 1.3. To keep the past behaviour, explicitly set `max_features=1.0'`.\n",
      "  warnings.warn(\n",
      "C:\\Users\\justi\\anaconda3\\lib\\site-packages\\sklearn\\tree\\_classes.py:306: FutureWarning: `max_features='auto'` has been deprecated in 1.1 and will be removed in 1.3. To keep the past behaviour, explicitly set `max_features=1.0'`.\n",
      "  warnings.warn(\n",
      "C:\\Users\\justi\\anaconda3\\lib\\site-packages\\sklearn\\tree\\_classes.py:306: FutureWarning: `max_features='auto'` has been deprecated in 1.1 and will be removed in 1.3. To keep the past behaviour, explicitly set `max_features=1.0'`.\n",
      "  warnings.warn(\n",
      "C:\\Users\\justi\\anaconda3\\lib\\site-packages\\sklearn\\tree\\_classes.py:306: FutureWarning: `max_features='auto'` has been deprecated in 1.1 and will be removed in 1.3. To keep the past behaviour, explicitly set `max_features=1.0'`.\n",
      "  warnings.warn(\n",
      "C:\\Users\\justi\\anaconda3\\lib\\site-packages\\sklearn\\tree\\_classes.py:306: FutureWarning: `max_features='auto'` has been deprecated in 1.1 and will be removed in 1.3. To keep the past behaviour, explicitly set `max_features=1.0'`.\n",
      "  warnings.warn(\n",
      "C:\\Users\\justi\\anaconda3\\lib\\site-packages\\sklearn\\tree\\_classes.py:306: FutureWarning: `max_features='auto'` has been deprecated in 1.1 and will be removed in 1.3. To keep the past behaviour, explicitly set `max_features=1.0'`.\n",
      "  warnings.warn(\n",
      "C:\\Users\\justi\\anaconda3\\lib\\site-packages\\sklearn\\tree\\_classes.py:306: FutureWarning: `max_features='auto'` has been deprecated in 1.1 and will be removed in 1.3. To keep the past behaviour, explicitly set `max_features=1.0'`.\n",
      "  warnings.warn(\n",
      "C:\\Users\\justi\\anaconda3\\lib\\site-packages\\sklearn\\tree\\_classes.py:306: FutureWarning: `max_features='auto'` has been deprecated in 1.1 and will be removed in 1.3. To keep the past behaviour, explicitly set `max_features=1.0'`.\n",
      "  warnings.warn(\n",
      "C:\\Users\\justi\\anaconda3\\lib\\site-packages\\sklearn\\tree\\_classes.py:306: FutureWarning: `max_features='auto'` has been deprecated in 1.1 and will be removed in 1.3. To keep the past behaviour, explicitly set `max_features=1.0'`.\n",
      "  warnings.warn(\n",
      "C:\\Users\\justi\\anaconda3\\lib\\site-packages\\sklearn\\tree\\_classes.py:306: FutureWarning: `max_features='auto'` has been deprecated in 1.1 and will be removed in 1.3. To keep the past behaviour, explicitly set `max_features=1.0'`.\n",
      "  warnings.warn(\n",
      "C:\\Users\\justi\\anaconda3\\lib\\site-packages\\sklearn\\tree\\_classes.py:306: FutureWarning: `max_features='auto'` has been deprecated in 1.1 and will be removed in 1.3. To keep the past behaviour, explicitly set `max_features=1.0'`.\n",
      "  warnings.warn(\n",
      "C:\\Users\\justi\\anaconda3\\lib\\site-packages\\sklearn\\tree\\_classes.py:306: FutureWarning: `max_features='auto'` has been deprecated in 1.1 and will be removed in 1.3. To keep the past behaviour, explicitly set `max_features=1.0'`.\n",
      "  warnings.warn(\n",
      "C:\\Users\\justi\\anaconda3\\lib\\site-packages\\sklearn\\tree\\_classes.py:306: FutureWarning: `max_features='auto'` has been deprecated in 1.1 and will be removed in 1.3. To keep the past behaviour, explicitly set `max_features=1.0'`.\n",
      "  warnings.warn(\n",
      "C:\\Users\\justi\\anaconda3\\lib\\site-packages\\sklearn\\tree\\_classes.py:306: FutureWarning: `max_features='auto'` has been deprecated in 1.1 and will be removed in 1.3. To keep the past behaviour, explicitly set `max_features=1.0'`.\n",
      "  warnings.warn(\n",
      "C:\\Users\\justi\\anaconda3\\lib\\site-packages\\sklearn\\tree\\_classes.py:306: FutureWarning: `max_features='auto'` has been deprecated in 1.1 and will be removed in 1.3. To keep the past behaviour, explicitly set `max_features=1.0'`.\n",
      "  warnings.warn(\n",
      "C:\\Users\\justi\\anaconda3\\lib\\site-packages\\sklearn\\tree\\_classes.py:306: FutureWarning: `max_features='auto'` has been deprecated in 1.1 and will be removed in 1.3. To keep the past behaviour, explicitly set `max_features=1.0'`.\n",
      "  warnings.warn(\n",
      "C:\\Users\\justi\\anaconda3\\lib\\site-packages\\sklearn\\tree\\_classes.py:306: FutureWarning: `max_features='auto'` has been deprecated in 1.1 and will be removed in 1.3. To keep the past behaviour, explicitly set `max_features=1.0'`.\n",
      "  warnings.warn(\n",
      "C:\\Users\\justi\\anaconda3\\lib\\site-packages\\sklearn\\tree\\_classes.py:306: FutureWarning: `max_features='auto'` has been deprecated in 1.1 and will be removed in 1.3. To keep the past behaviour, explicitly set `max_features=1.0'`.\n",
      "  warnings.warn(\n",
      "C:\\Users\\justi\\anaconda3\\lib\\site-packages\\sklearn\\tree\\_classes.py:306: FutureWarning: `max_features='auto'` has been deprecated in 1.1 and will be removed in 1.3. To keep the past behaviour, explicitly set `max_features=1.0'`.\n",
      "  warnings.warn(\n",
      "C:\\Users\\justi\\anaconda3\\lib\\site-packages\\sklearn\\tree\\_classes.py:306: FutureWarning: `max_features='auto'` has been deprecated in 1.1 and will be removed in 1.3. To keep the past behaviour, explicitly set `max_features=1.0'`.\n",
      "  warnings.warn(\n",
      "C:\\Users\\justi\\anaconda3\\lib\\site-packages\\sklearn\\tree\\_classes.py:306: FutureWarning: `max_features='auto'` has been deprecated in 1.1 and will be removed in 1.3. To keep the past behaviour, explicitly set `max_features=1.0'`.\n",
      "  warnings.warn(\n",
      "C:\\Users\\justi\\anaconda3\\lib\\site-packages\\sklearn\\tree\\_classes.py:306: FutureWarning: `max_features='auto'` has been deprecated in 1.1 and will be removed in 1.3. To keep the past behaviour, explicitly set `max_features=1.0'`.\n",
      "  warnings.warn(\n",
      "C:\\Users\\justi\\anaconda3\\lib\\site-packages\\sklearn\\tree\\_classes.py:306: FutureWarning: `max_features='auto'` has been deprecated in 1.1 and will be removed in 1.3. To keep the past behaviour, explicitly set `max_features=1.0'`.\n",
      "  warnings.warn(\n"
     ]
    },
    {
     "name": "stderr",
     "output_type": "stream",
     "text": [
      "C:\\Users\\justi\\anaconda3\\lib\\site-packages\\sklearn\\tree\\_classes.py:306: FutureWarning: `max_features='auto'` has been deprecated in 1.1 and will be removed in 1.3. To keep the past behaviour, explicitly set `max_features=1.0'`.\n",
      "  warnings.warn(\n",
      "C:\\Users\\justi\\anaconda3\\lib\\site-packages\\sklearn\\tree\\_classes.py:306: FutureWarning: `max_features='auto'` has been deprecated in 1.1 and will be removed in 1.3. To keep the past behaviour, explicitly set `max_features=1.0'`.\n",
      "  warnings.warn(\n",
      "C:\\Users\\justi\\anaconda3\\lib\\site-packages\\sklearn\\tree\\_classes.py:306: FutureWarning: `max_features='auto'` has been deprecated in 1.1 and will be removed in 1.3. To keep the past behaviour, explicitly set `max_features=1.0'`.\n",
      "  warnings.warn(\n",
      "C:\\Users\\justi\\anaconda3\\lib\\site-packages\\sklearn\\tree\\_classes.py:306: FutureWarning: `max_features='auto'` has been deprecated in 1.1 and will be removed in 1.3. To keep the past behaviour, explicitly set `max_features=1.0'`.\n",
      "  warnings.warn(\n",
      "C:\\Users\\justi\\anaconda3\\lib\\site-packages\\sklearn\\tree\\_classes.py:306: FutureWarning: `max_features='auto'` has been deprecated in 1.1 and will be removed in 1.3. To keep the past behaviour, explicitly set `max_features=1.0'`.\n",
      "  warnings.warn(\n",
      "C:\\Users\\justi\\anaconda3\\lib\\site-packages\\sklearn\\tree\\_classes.py:306: FutureWarning: `max_features='auto'` has been deprecated in 1.1 and will be removed in 1.3. To keep the past behaviour, explicitly set `max_features=1.0'`.\n",
      "  warnings.warn(\n",
      "C:\\Users\\justi\\anaconda3\\lib\\site-packages\\sklearn\\tree\\_classes.py:306: FutureWarning: `max_features='auto'` has been deprecated in 1.1 and will be removed in 1.3. To keep the past behaviour, explicitly set `max_features=1.0'`.\n",
      "  warnings.warn(\n",
      "C:\\Users\\justi\\anaconda3\\lib\\site-packages\\sklearn\\tree\\_classes.py:306: FutureWarning: `max_features='auto'` has been deprecated in 1.1 and will be removed in 1.3. To keep the past behaviour, explicitly set `max_features=1.0'`.\n",
      "  warnings.warn(\n",
      "C:\\Users\\justi\\anaconda3\\lib\\site-packages\\sklearn\\tree\\_classes.py:306: FutureWarning: `max_features='auto'` has been deprecated in 1.1 and will be removed in 1.3. To keep the past behaviour, explicitly set `max_features=1.0'`.\n",
      "  warnings.warn(\n",
      "C:\\Users\\justi\\anaconda3\\lib\\site-packages\\sklearn\\tree\\_classes.py:306: FutureWarning: `max_features='auto'` has been deprecated in 1.1 and will be removed in 1.3. To keep the past behaviour, explicitly set `max_features=1.0'`.\n",
      "  warnings.warn(\n",
      "C:\\Users\\justi\\anaconda3\\lib\\site-packages\\sklearn\\tree\\_classes.py:306: FutureWarning: `max_features='auto'` has been deprecated in 1.1 and will be removed in 1.3. To keep the past behaviour, explicitly set `max_features=1.0'`.\n",
      "  warnings.warn(\n",
      "C:\\Users\\justi\\anaconda3\\lib\\site-packages\\sklearn\\tree\\_classes.py:306: FutureWarning: `max_features='auto'` has been deprecated in 1.1 and will be removed in 1.3. To keep the past behaviour, explicitly set `max_features=1.0'`.\n",
      "  warnings.warn(\n",
      "C:\\Users\\justi\\anaconda3\\lib\\site-packages\\sklearn\\tree\\_classes.py:306: FutureWarning: `max_features='auto'` has been deprecated in 1.1 and will be removed in 1.3. To keep the past behaviour, explicitly set `max_features=1.0'`.\n",
      "  warnings.warn(\n",
      "C:\\Users\\justi\\anaconda3\\lib\\site-packages\\sklearn\\tree\\_classes.py:306: FutureWarning: `max_features='auto'` has been deprecated in 1.1 and will be removed in 1.3. To keep the past behaviour, explicitly set `max_features=1.0'`.\n",
      "  warnings.warn(\n",
      "C:\\Users\\justi\\anaconda3\\lib\\site-packages\\sklearn\\tree\\_classes.py:306: FutureWarning: `max_features='auto'` has been deprecated in 1.1 and will be removed in 1.3. To keep the past behaviour, explicitly set `max_features=1.0'`.\n",
      "  warnings.warn(\n",
      "C:\\Users\\justi\\anaconda3\\lib\\site-packages\\sklearn\\tree\\_classes.py:306: FutureWarning: `max_features='auto'` has been deprecated in 1.1 and will be removed in 1.3. To keep the past behaviour, explicitly set `max_features=1.0'`.\n",
      "  warnings.warn(\n",
      "C:\\Users\\justi\\anaconda3\\lib\\site-packages\\sklearn\\tree\\_classes.py:306: FutureWarning: `max_features='auto'` has been deprecated in 1.1 and will be removed in 1.3. To keep the past behaviour, explicitly set `max_features=1.0'`.\n",
      "  warnings.warn(\n",
      "C:\\Users\\justi\\anaconda3\\lib\\site-packages\\sklearn\\tree\\_classes.py:306: FutureWarning: `max_features='auto'` has been deprecated in 1.1 and will be removed in 1.3. To keep the past behaviour, explicitly set `max_features=1.0'`.\n",
      "  warnings.warn(\n",
      "C:\\Users\\justi\\anaconda3\\lib\\site-packages\\sklearn\\tree\\_classes.py:306: FutureWarning: `max_features='auto'` has been deprecated in 1.1 and will be removed in 1.3. To keep the past behaviour, explicitly set `max_features=1.0'`.\n",
      "  warnings.warn(\n",
      "C:\\Users\\justi\\anaconda3\\lib\\site-packages\\sklearn\\tree\\_classes.py:306: FutureWarning: `max_features='auto'` has been deprecated in 1.1 and will be removed in 1.3. To keep the past behaviour, explicitly set `max_features=1.0'`.\n",
      "  warnings.warn(\n",
      "C:\\Users\\justi\\anaconda3\\lib\\site-packages\\sklearn\\tree\\_classes.py:306: FutureWarning: `max_features='auto'` has been deprecated in 1.1 and will be removed in 1.3. To keep the past behaviour, explicitly set `max_features=1.0'`.\n",
      "  warnings.warn(\n",
      "C:\\Users\\justi\\anaconda3\\lib\\site-packages\\sklearn\\tree\\_classes.py:306: FutureWarning: `max_features='auto'` has been deprecated in 1.1 and will be removed in 1.3. To keep the past behaviour, explicitly set `max_features=1.0'`.\n",
      "  warnings.warn(\n",
      "C:\\Users\\justi\\anaconda3\\lib\\site-packages\\sklearn\\tree\\_classes.py:306: FutureWarning: `max_features='auto'` has been deprecated in 1.1 and will be removed in 1.3. To keep the past behaviour, explicitly set `max_features=1.0'`.\n",
      "  warnings.warn(\n",
      "C:\\Users\\justi\\anaconda3\\lib\\site-packages\\sklearn\\tree\\_classes.py:306: FutureWarning: `max_features='auto'` has been deprecated in 1.1 and will be removed in 1.3. To keep the past behaviour, explicitly set `max_features=1.0'`.\n",
      "  warnings.warn(\n",
      "C:\\Users\\justi\\anaconda3\\lib\\site-packages\\sklearn\\tree\\_classes.py:306: FutureWarning: `max_features='auto'` has been deprecated in 1.1 and will be removed in 1.3. To keep the past behaviour, explicitly set `max_features=1.0'`.\n",
      "  warnings.warn(\n",
      "C:\\Users\\justi\\anaconda3\\lib\\site-packages\\sklearn\\tree\\_classes.py:306: FutureWarning: `max_features='auto'` has been deprecated in 1.1 and will be removed in 1.3. To keep the past behaviour, explicitly set `max_features=1.0'`.\n",
      "  warnings.warn(\n",
      "C:\\Users\\justi\\anaconda3\\lib\\site-packages\\sklearn\\tree\\_classes.py:306: FutureWarning: `max_features='auto'` has been deprecated in 1.1 and will be removed in 1.3. To keep the past behaviour, explicitly set `max_features=1.0'`.\n",
      "  warnings.warn(\n",
      "C:\\Users\\justi\\anaconda3\\lib\\site-packages\\sklearn\\tree\\_classes.py:306: FutureWarning: `max_features='auto'` has been deprecated in 1.1 and will be removed in 1.3. To keep the past behaviour, explicitly set `max_features=1.0'`.\n",
      "  warnings.warn(\n",
      "C:\\Users\\justi\\anaconda3\\lib\\site-packages\\sklearn\\tree\\_classes.py:306: FutureWarning: `max_features='auto'` has been deprecated in 1.1 and will be removed in 1.3. To keep the past behaviour, explicitly set `max_features=1.0'`.\n",
      "  warnings.warn(\n",
      "C:\\Users\\justi\\anaconda3\\lib\\site-packages\\sklearn\\tree\\_classes.py:306: FutureWarning: `max_features='auto'` has been deprecated in 1.1 and will be removed in 1.3. To keep the past behaviour, explicitly set `max_features=1.0'`.\n",
      "  warnings.warn(\n",
      "C:\\Users\\justi\\anaconda3\\lib\\site-packages\\sklearn\\tree\\_classes.py:306: FutureWarning: `max_features='auto'` has been deprecated in 1.1 and will be removed in 1.3. To keep the past behaviour, explicitly set `max_features=1.0'`.\n",
      "  warnings.warn(\n",
      "C:\\Users\\justi\\anaconda3\\lib\\site-packages\\sklearn\\tree\\_classes.py:306: FutureWarning: `max_features='auto'` has been deprecated in 1.1 and will be removed in 1.3. To keep the past behaviour, explicitly set `max_features=1.0'`.\n",
      "  warnings.warn(\n",
      "C:\\Users\\justi\\anaconda3\\lib\\site-packages\\sklearn\\tree\\_classes.py:306: FutureWarning: `max_features='auto'` has been deprecated in 1.1 and will be removed in 1.3. To keep the past behaviour, explicitly set `max_features=1.0'`.\n",
      "  warnings.warn(\n",
      "C:\\Users\\justi\\anaconda3\\lib\\site-packages\\sklearn\\tree\\_classes.py:306: FutureWarning: `max_features='auto'` has been deprecated in 1.1 and will be removed in 1.3. To keep the past behaviour, explicitly set `max_features=1.0'`.\n",
      "  warnings.warn(\n",
      "C:\\Users\\justi\\anaconda3\\lib\\site-packages\\sklearn\\tree\\_classes.py:306: FutureWarning: `max_features='auto'` has been deprecated in 1.1 and will be removed in 1.3. To keep the past behaviour, explicitly set `max_features=1.0'`.\n",
      "  warnings.warn(\n"
     ]
    },
    {
     "name": "stderr",
     "output_type": "stream",
     "text": [
      "C:\\Users\\justi\\anaconda3\\lib\\site-packages\\sklearn\\tree\\_classes.py:306: FutureWarning: `max_features='auto'` has been deprecated in 1.1 and will be removed in 1.3. To keep the past behaviour, explicitly set `max_features=1.0'`.\n",
      "  warnings.warn(\n",
      "C:\\Users\\justi\\anaconda3\\lib\\site-packages\\sklearn\\tree\\_classes.py:306: FutureWarning: `max_features='auto'` has been deprecated in 1.1 and will be removed in 1.3. To keep the past behaviour, explicitly set `max_features=1.0'`.\n",
      "  warnings.warn(\n",
      "C:\\Users\\justi\\anaconda3\\lib\\site-packages\\sklearn\\tree\\_classes.py:306: FutureWarning: `max_features='auto'` has been deprecated in 1.1 and will be removed in 1.3. To keep the past behaviour, explicitly set `max_features=1.0'`.\n",
      "  warnings.warn(\n",
      "C:\\Users\\justi\\anaconda3\\lib\\site-packages\\sklearn\\tree\\_classes.py:306: FutureWarning: `max_features='auto'` has been deprecated in 1.1 and will be removed in 1.3. To keep the past behaviour, explicitly set `max_features=1.0'`.\n",
      "  warnings.warn(\n",
      "C:\\Users\\justi\\anaconda3\\lib\\site-packages\\sklearn\\tree\\_classes.py:306: FutureWarning: `max_features='auto'` has been deprecated in 1.1 and will be removed in 1.3. To keep the past behaviour, explicitly set `max_features=1.0'`.\n",
      "  warnings.warn(\n",
      "C:\\Users\\justi\\anaconda3\\lib\\site-packages\\sklearn\\tree\\_classes.py:306: FutureWarning: `max_features='auto'` has been deprecated in 1.1 and will be removed in 1.3. To keep the past behaviour, explicitly set `max_features=1.0'`.\n",
      "  warnings.warn(\n",
      "C:\\Users\\justi\\anaconda3\\lib\\site-packages\\sklearn\\tree\\_classes.py:306: FutureWarning: `max_features='auto'` has been deprecated in 1.1 and will be removed in 1.3. To keep the past behaviour, explicitly set `max_features=1.0'`.\n",
      "  warnings.warn(\n",
      "C:\\Users\\justi\\anaconda3\\lib\\site-packages\\sklearn\\tree\\_classes.py:306: FutureWarning: `max_features='auto'` has been deprecated in 1.1 and will be removed in 1.3. To keep the past behaviour, explicitly set `max_features=1.0'`.\n",
      "  warnings.warn(\n",
      "C:\\Users\\justi\\anaconda3\\lib\\site-packages\\sklearn\\tree\\_classes.py:306: FutureWarning: `max_features='auto'` has been deprecated in 1.1 and will be removed in 1.3. To keep the past behaviour, explicitly set `max_features=1.0'`.\n",
      "  warnings.warn(\n",
      "C:\\Users\\justi\\anaconda3\\lib\\site-packages\\sklearn\\tree\\_classes.py:306: FutureWarning: `max_features='auto'` has been deprecated in 1.1 and will be removed in 1.3. To keep the past behaviour, explicitly set `max_features=1.0'`.\n",
      "  warnings.warn(\n",
      "C:\\Users\\justi\\anaconda3\\lib\\site-packages\\sklearn\\tree\\_classes.py:306: FutureWarning: `max_features='auto'` has been deprecated in 1.1 and will be removed in 1.3. To keep the past behaviour, explicitly set `max_features=1.0'`.\n",
      "  warnings.warn(\n",
      "C:\\Users\\justi\\anaconda3\\lib\\site-packages\\sklearn\\tree\\_classes.py:306: FutureWarning: `max_features='auto'` has been deprecated in 1.1 and will be removed in 1.3. To keep the past behaviour, explicitly set `max_features=1.0'`.\n",
      "  warnings.warn(\n",
      "C:\\Users\\justi\\anaconda3\\lib\\site-packages\\sklearn\\tree\\_classes.py:306: FutureWarning: `max_features='auto'` has been deprecated in 1.1 and will be removed in 1.3. To keep the past behaviour, explicitly set `max_features=1.0'`.\n",
      "  warnings.warn(\n",
      "C:\\Users\\justi\\anaconda3\\lib\\site-packages\\sklearn\\tree\\_classes.py:306: FutureWarning: `max_features='auto'` has been deprecated in 1.1 and will be removed in 1.3. To keep the past behaviour, explicitly set `max_features=1.0'`.\n",
      "  warnings.warn(\n",
      "C:\\Users\\justi\\anaconda3\\lib\\site-packages\\sklearn\\tree\\_classes.py:306: FutureWarning: `max_features='auto'` has been deprecated in 1.1 and will be removed in 1.3. To keep the past behaviour, explicitly set `max_features=1.0'`.\n",
      "  warnings.warn(\n",
      "C:\\Users\\justi\\anaconda3\\lib\\site-packages\\sklearn\\tree\\_classes.py:306: FutureWarning: `max_features='auto'` has been deprecated in 1.1 and will be removed in 1.3. To keep the past behaviour, explicitly set `max_features=1.0'`.\n",
      "  warnings.warn(\n",
      "C:\\Users\\justi\\anaconda3\\lib\\site-packages\\sklearn\\tree\\_classes.py:306: FutureWarning: `max_features='auto'` has been deprecated in 1.1 and will be removed in 1.3. To keep the past behaviour, explicitly set `max_features=1.0'`.\n",
      "  warnings.warn(\n",
      "C:\\Users\\justi\\anaconda3\\lib\\site-packages\\sklearn\\tree\\_classes.py:306: FutureWarning: `max_features='auto'` has been deprecated in 1.1 and will be removed in 1.3. To keep the past behaviour, explicitly set `max_features=1.0'`.\n",
      "  warnings.warn(\n",
      "C:\\Users\\justi\\anaconda3\\lib\\site-packages\\sklearn\\tree\\_classes.py:306: FutureWarning: `max_features='auto'` has been deprecated in 1.1 and will be removed in 1.3. To keep the past behaviour, explicitly set `max_features=1.0'`.\n",
      "  warnings.warn(\n",
      "C:\\Users\\justi\\anaconda3\\lib\\site-packages\\sklearn\\tree\\_classes.py:306: FutureWarning: `max_features='auto'` has been deprecated in 1.1 and will be removed in 1.3. To keep the past behaviour, explicitly set `max_features=1.0'`.\n",
      "  warnings.warn(\n",
      "C:\\Users\\justi\\anaconda3\\lib\\site-packages\\sklearn\\tree\\_classes.py:306: FutureWarning: `max_features='auto'` has been deprecated in 1.1 and will be removed in 1.3. To keep the past behaviour, explicitly set `max_features=1.0'`.\n",
      "  warnings.warn(\n",
      "C:\\Users\\justi\\anaconda3\\lib\\site-packages\\sklearn\\tree\\_classes.py:306: FutureWarning: `max_features='auto'` has been deprecated in 1.1 and will be removed in 1.3. To keep the past behaviour, explicitly set `max_features=1.0'`.\n",
      "  warnings.warn(\n",
      "C:\\Users\\justi\\anaconda3\\lib\\site-packages\\sklearn\\tree\\_classes.py:306: FutureWarning: `max_features='auto'` has been deprecated in 1.1 and will be removed in 1.3. To keep the past behaviour, explicitly set `max_features=1.0'`.\n",
      "  warnings.warn(\n",
      "C:\\Users\\justi\\anaconda3\\lib\\site-packages\\sklearn\\tree\\_classes.py:306: FutureWarning: `max_features='auto'` has been deprecated in 1.1 and will be removed in 1.3. To keep the past behaviour, explicitly set `max_features=1.0'`.\n",
      "  warnings.warn(\n",
      "C:\\Users\\justi\\anaconda3\\lib\\site-packages\\sklearn\\tree\\_classes.py:306: FutureWarning: `max_features='auto'` has been deprecated in 1.1 and will be removed in 1.3. To keep the past behaviour, explicitly set `max_features=1.0'`.\n",
      "  warnings.warn(\n",
      "C:\\Users\\justi\\anaconda3\\lib\\site-packages\\sklearn\\tree\\_classes.py:306: FutureWarning: `max_features='auto'` has been deprecated in 1.1 and will be removed in 1.3. To keep the past behaviour, explicitly set `max_features=1.0'`.\n",
      "  warnings.warn(\n",
      "C:\\Users\\justi\\anaconda3\\lib\\site-packages\\sklearn\\tree\\_classes.py:306: FutureWarning: `max_features='auto'` has been deprecated in 1.1 and will be removed in 1.3. To keep the past behaviour, explicitly set `max_features=1.0'`.\n",
      "  warnings.warn(\n",
      "C:\\Users\\justi\\anaconda3\\lib\\site-packages\\sklearn\\tree\\_classes.py:306: FutureWarning: `max_features='auto'` has been deprecated in 1.1 and will be removed in 1.3. To keep the past behaviour, explicitly set `max_features=1.0'`.\n",
      "  warnings.warn(\n",
      "C:\\Users\\justi\\anaconda3\\lib\\site-packages\\sklearn\\tree\\_classes.py:306: FutureWarning: `max_features='auto'` has been deprecated in 1.1 and will be removed in 1.3. To keep the past behaviour, explicitly set `max_features=1.0'`.\n",
      "  warnings.warn(\n",
      "C:\\Users\\justi\\anaconda3\\lib\\site-packages\\sklearn\\tree\\_classes.py:306: FutureWarning: `max_features='auto'` has been deprecated in 1.1 and will be removed in 1.3. To keep the past behaviour, explicitly set `max_features=1.0'`.\n",
      "  warnings.warn(\n"
     ]
    }
   ],
   "source": [
    "# Let's now try a Gradient Boosting model using our tfidf vectorized data.\n",
    "# Initiate the model.\n",
    "GB_b_tv = GradientBoostingClassifier(n_estimators=100, max_depth=10, max_features='auto', learning_rate=0.1, random_state=42)\n",
    "\n",
    "# Fit GB model with our training data.\n",
    "GB_b_tv.fit(tv_train_features_res, y_train_res_tv)\n",
    "\n",
    "# Make predictions using our vectorized test features.\n",
    "GB_b_tfidf_predictions = GB_b_tv.predict(tv_test_features)"
   ]
  },
  {
   "cell_type": "code",
   "execution_count": 52,
   "id": "a2bd7bd5",
   "metadata": {},
   "outputs": [
    {
     "name": "stdout",
     "output_type": "stream",
     "text": [
      "              precision    recall  f1-score   support\n",
      "\n",
      "           0       0.93      0.84      0.88      1867\n",
      "           1       0.49      0.70      0.58       407\n",
      "\n",
      "    accuracy                           0.82      2274\n",
      "   macro avg       0.71      0.77      0.73      2274\n",
      "weighted avg       0.85      0.82      0.83      2274\n",
      "\n"
     ]
    },
    {
     "data": {
      "text/html": [
       "<div>\n",
       "<style scoped>\n",
       "    .dataframe tbody tr th:only-of-type {\n",
       "        vertical-align: middle;\n",
       "    }\n",
       "\n",
       "    .dataframe tbody tr th {\n",
       "        vertical-align: top;\n",
       "    }\n",
       "\n",
       "    .dataframe thead th {\n",
       "        text-align: right;\n",
       "    }\n",
       "</style>\n",
       "<table border=\"1\" class=\"dataframe\">\n",
       "  <thead>\n",
       "    <tr style=\"text-align: right;\">\n",
       "      <th></th>\n",
       "      <th>Not Disaster</th>\n",
       "      <th>Disaster</th>\n",
       "    </tr>\n",
       "  </thead>\n",
       "  <tbody>\n",
       "    <tr>\n",
       "      <th>Not Disaster</th>\n",
       "      <td>1572</td>\n",
       "      <td>295</td>\n",
       "    </tr>\n",
       "    <tr>\n",
       "      <th>Disaster</th>\n",
       "      <td>121</td>\n",
       "      <td>286</td>\n",
       "    </tr>\n",
       "  </tbody>\n",
       "</table>\n",
       "</div>"
      ],
      "text/plain": [
       "              Not Disaster  Disaster\n",
       "Not Disaster          1572       295\n",
       "Disaster               121       286"
      ]
     },
     "execution_count": 52,
     "metadata": {},
     "output_type": "execute_result"
    }
   ],
   "source": [
    "# Model evaluation.\n",
    "print(classification_report(y_test, GB_b_tfidf_predictions))\n",
    "pd.DataFrame(confusion_matrix(y_test, GB_b_tfidf_predictions), index=labels, columns=labels)"
   ]
  },
  {
   "cell_type": "markdown",
   "id": "593d8ba7",
   "metadata": {},
   "source": [
    "## Modeling Recap"
   ]
  },
  {
   "cell_type": "markdown",
   "id": "246fc56b",
   "metadata": {},
   "source": [
    "The table below contains a summary of all the models we have trained and evaluated on our test set. The extra cell preceding it is for left-binding the table."
   ]
  },
  {
   "cell_type": "code",
   "execution_count": 53,
   "id": "8bc8a5cd",
   "metadata": {},
   "outputs": [
    {
     "data": {
      "text/html": [
       "<style>\n",
       "table {float:left}\n",
       "</style>\n"
      ],
      "text/plain": [
       "<IPython.core.display.HTML object>"
      ]
     },
     "metadata": {},
     "output_type": "display_data"
    }
   ],
   "source": [
    "%%html\n",
    "<style>\n",
    "table {float:left}\n",
    "</style>"
   ]
  },
  {
   "cell_type": "markdown",
   "id": "4f24db9c",
   "metadata": {},
   "source": [
    "| Imbalanced/Balanced | Vectorizer | Model | Recall |\n",
    "| :--- | :--- | :--- | :--- |\n",
    "| Imbalanced | Count | Logistic Regression | <span style='color:Green'>**0.54**</span> |\n",
    "| Imbalanced | TFIDF | Logistic Regression | 0.36 |\n",
    "| Imbalanced | Count | Random Forest | 0.49 |\n",
    "| Imbalanced | TFIDF | Random Forest | 0.49 |\n",
    "| Imbalanced | Count | KNN | 0.20 |\n",
    "| Imbalanced | TFIDF | KNN | 0.18 |\n",
    "| Imbalanced | Count | SVM | 0.19 |\n",
    "| Imbalanced | TFIDF | SVM | 0.44 |\n",
    "| Imbalanced | Count | Gradient Boosting | 0.36 |\n",
    "| Imbalanced | TFIDF | Gradient Boosting | 0.36 |\n",
    "| Balanced | Count | Logistic Regression | 0.75 |\n",
    "| Balanced | TFIDF | Logistic Regression | 0.77 |\n",
    "| Balanced | Count | Random Forest | <span style='color:Green'>**0.78**</span> |\n",
    "| Balanced | TFIDF | Random Forest | 0.75 |\n",
    "| Balanced | Count | KNN | 0.26 |\n",
    "| Balanced | TFIDF | KNN | 0.20 |\n",
    "| Balanced | Count | SVM | 0.29 |\n",
    "| Balanced | TFIDF | SVM | 0.76 |\n",
    "| Balanced | Count | Gradient Boosting | 0.72 |\n",
    "| Balanced | TFIDF | Gradient Boosting | 0.70 |"
   ]
  },
  {
   "cell_type": "markdown",
   "id": "03dd262a",
   "metadata": {},
   "source": [
    "We can clearly see that our models using balanced data outperformed their counterpart regularly. Our best model is the random forest one using balanced data and a count vectorizer with a recall of 0.78. This is pretty good score."
   ]
  },
  {
   "cell_type": "code",
   "execution_count": 54,
   "id": "d1429580",
   "metadata": {},
   "outputs": [
    {
     "data": {
      "text/plain": [
       "0.8797108448956332"
      ]
     },
     "execution_count": 54,
     "metadata": {},
     "output_type": "execute_result"
    }
   ],
   "source": [
    "# Calculate the ROC score for our best model.\n",
    "roc_auc_score(y_test, RF_b_cv.predict_proba(cv_test_features)[:,1])"
   ]
  },
  {
   "cell_type": "code",
   "execution_count": 55,
   "id": "a70e344b",
   "metadata": {},
   "outputs": [
    {
     "data": {
      "image/png": "[encoded data removed]",
      "text/plain": [
       "<Figure size 432x432 with 1 Axes>"
      ]
     },
     "metadata": {
      "needs_background": "light"
     },
     "output_type": "display_data"
    }
   ],
   "source": [
    "# Plot the ROC curve.\n",
    "fpr, tpr, _ = roc_curve(y_test, RF_b_cv.predict_proba(cv_test_features)[:,1])\n",
    "\n",
    "plt.figure(figsize=(6,6))\n",
    "plt.plot(fpr, tpr)\n",
    "plt.plot([0,1], [0,1], linestyle = 'dashed')\n",
    "plt.ylabel('True Positive Rate')\n",
    "plt.xlabel('False Positive Rate')\n",
    "\n",
    "plt.show()"
   ]
  },
  {
   "cell_type": "code",
   "execution_count": 56,
   "id": "d338cbee",
   "metadata": {},
   "outputs": [
    {
     "data": {
      "image/png": "[encoded data removed]",
      "text/plain": [
       "<Figure size 720x432 with 1 Axes>"
      ]
     },
     "metadata": {
      "needs_background": "light"
     },
     "output_type": "display_data"
    }
   ],
   "source": [
    "# Take the count vectorizer feature names and merge them with their importance from our best model into a dataframe.\n",
    "features = cv.get_feature_names_out().tolist()\n",
    "importance = RF_b_cv.feature_importances_.tolist()\n",
    "\n",
    "feature_imp = pd.DataFrame(importance, columns = ['Importance'], index = features)\n",
    "feature_imp = feature_imp.sort_values('Importance', ascending=False)\n",
    "\n",
    "# Plot the top 10 features with their importance score.\n",
    "feature_imp[:10].plot(kind = 'barh', figsize=(10, 6))\n",
    "plt.title('Most Important Words for Classification')\n",
    "plt.ylabel('Feature')\n",
    "plt.xlabel('Importance')\n",
    "plt.show()"
   ]
  },
  {
   "cell_type": "markdown",
   "id": "a4567043",
   "metadata": {},
   "source": [
    "The plot above shows which words from our tweets are most useful in helping make accurate predictions for the positive class (since we optimized recall for the disaster class). This doesn't necessarily mean that these words appearing more often makes a tweet more likely to be a disaster, but rather that tweets containing these words help us correctly classify actual disaster tweets. Of course, by using our inution, we can tell for the most part which of these words would help predict disaster tweets.\n",
    "\n",
    "If we wanted to improve performance even further, our next step would most likely involve trying some deep learning nerual networks. It's worth noting that while this type of model may improve performance, computational time will likely increase."
   ]
  }
 ],
 "metadata": {
  "kernelspec": {
   "display_name": "Python 3 (ipykernel)",
   "language": "python",
   "name": "python3"
  },
  "language_info": {
   "codemirror_mode": {
    "name": "ipython",
    "version": 3
   },
   "file_extension": ".py",
   "mimetype": "text/x-python",
   "name": "python",
   "nbconvert_exporter": "python",
   "pygments_lexer": "ipython3",
   "version": "3.9.7"
  }
 },
 "nbformat": 4,
 "nbformat_minor": 5
}
