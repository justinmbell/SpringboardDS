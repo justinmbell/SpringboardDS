{
 "cells": [
  {
   "cell_type": "code",
   "execution_count": 1,
   "id": "6973290f",
   "metadata": {},
   "outputs": [],
   "source": [
    "# Import some packages that we will likely use.\n",
    "import json\n",
    "import pandas as pd\n",
    "import numpy as np\n",
    "import matplotlib.pyplot as plt\n",
    "import seaborn as sns\n",
    "\n",
    "from sklearn.model_selection import train_test_split\n",
    "from sklearn.preprocessing import StandardScaler\n",
    "\n",
    "from sklearn.linear_model import LogisticRegression\n",
    "from sklearn.model_selection import RandomizedSearchCV\n",
    "from sklearn.metrics import confusion_matrix, classification_report\n",
    "from sklearn.ensemble import RandomForestClassifier\n",
    "from sklearn.metrics import f1_score, roc_auc_score, roc_curve"
   ]
  },
  {
   "cell_type": "code",
   "execution_count": 2,
   "id": "0dd78971",
   "metadata": {},
   "outputs": [],
   "source": [
    "# Import the json file into the notebook.\n",
    "file = open('data/ultimate_data_challenge.json', 'r')"
   ]
  },
  {
   "cell_type": "code",
   "execution_count": 3,
   "id": "da5eb2f7",
   "metadata": {},
   "outputs": [],
   "source": [
    "# Load the json data file into the notebook (creates list of dictionaries).\n",
    "data = json.load(file)"
   ]
  },
  {
   "cell_type": "code",
   "execution_count": 4,
   "id": "b7f2332a",
   "metadata": {},
   "outputs": [],
   "source": [
    "# Convert data to a pandas dataframe.\n",
    "df = pd.json_normalize(data)"
   ]
  },
  {
   "cell_type": "code",
   "execution_count": 5,
   "id": "f1f94abf",
   "metadata": {
    "scrolled": true
   },
   "outputs": [
    {
     "data": {
      "text/html": [
       "<div>\n",
       "<style scoped>\n",
       "    .dataframe tbody tr th:only-of-type {\n",
       "        vertical-align: middle;\n",
       "    }\n",
       "\n",
       "    .dataframe tbody tr th {\n",
       "        vertical-align: top;\n",
       "    }\n",
       "\n",
       "    .dataframe thead th {\n",
       "        text-align: right;\n",
       "    }\n",
       "</style>\n",
       "<table border=\"1\" class=\"dataframe\">\n",
       "  <thead>\n",
       "    <tr style=\"text-align: right;\">\n",
       "      <th></th>\n",
       "      <th>city</th>\n",
       "      <th>trips_in_first_30_days</th>\n",
       "      <th>signup_date</th>\n",
       "      <th>avg_rating_of_driver</th>\n",
       "      <th>avg_surge</th>\n",
       "      <th>last_trip_date</th>\n",
       "      <th>phone</th>\n",
       "      <th>surge_pct</th>\n",
       "      <th>ultimate_black_user</th>\n",
       "      <th>weekday_pct</th>\n",
       "      <th>avg_dist</th>\n",
       "      <th>avg_rating_by_driver</th>\n",
       "    </tr>\n",
       "  </thead>\n",
       "  <tbody>\n",
       "    <tr>\n",
       "      <th>0</th>\n",
       "      <td>King's Landing</td>\n",
       "      <td>4</td>\n",
       "      <td>2014-01-25</td>\n",
       "      <td>4.7</td>\n",
       "      <td>1.10</td>\n",
       "      <td>2014-06-17</td>\n",
       "      <td>iPhone</td>\n",
       "      <td>15.4</td>\n",
       "      <td>True</td>\n",
       "      <td>46.2</td>\n",
       "      <td>3.67</td>\n",
       "      <td>5.0</td>\n",
       "    </tr>\n",
       "    <tr>\n",
       "      <th>1</th>\n",
       "      <td>Astapor</td>\n",
       "      <td>0</td>\n",
       "      <td>2014-01-29</td>\n",
       "      <td>5.0</td>\n",
       "      <td>1.00</td>\n",
       "      <td>2014-05-05</td>\n",
       "      <td>Android</td>\n",
       "      <td>0.0</td>\n",
       "      <td>False</td>\n",
       "      <td>50.0</td>\n",
       "      <td>8.26</td>\n",
       "      <td>5.0</td>\n",
       "    </tr>\n",
       "    <tr>\n",
       "      <th>2</th>\n",
       "      <td>Astapor</td>\n",
       "      <td>3</td>\n",
       "      <td>2014-01-06</td>\n",
       "      <td>4.3</td>\n",
       "      <td>1.00</td>\n",
       "      <td>2014-01-07</td>\n",
       "      <td>iPhone</td>\n",
       "      <td>0.0</td>\n",
       "      <td>False</td>\n",
       "      <td>100.0</td>\n",
       "      <td>0.77</td>\n",
       "      <td>5.0</td>\n",
       "    </tr>\n",
       "    <tr>\n",
       "      <th>3</th>\n",
       "      <td>King's Landing</td>\n",
       "      <td>9</td>\n",
       "      <td>2014-01-10</td>\n",
       "      <td>4.6</td>\n",
       "      <td>1.14</td>\n",
       "      <td>2014-06-29</td>\n",
       "      <td>iPhone</td>\n",
       "      <td>20.0</td>\n",
       "      <td>True</td>\n",
       "      <td>80.0</td>\n",
       "      <td>2.36</td>\n",
       "      <td>4.9</td>\n",
       "    </tr>\n",
       "    <tr>\n",
       "      <th>4</th>\n",
       "      <td>Winterfell</td>\n",
       "      <td>14</td>\n",
       "      <td>2014-01-27</td>\n",
       "      <td>4.4</td>\n",
       "      <td>1.19</td>\n",
       "      <td>2014-03-15</td>\n",
       "      <td>Android</td>\n",
       "      <td>11.8</td>\n",
       "      <td>False</td>\n",
       "      <td>82.4</td>\n",
       "      <td>3.13</td>\n",
       "      <td>4.9</td>\n",
       "    </tr>\n",
       "  </tbody>\n",
       "</table>\n",
       "</div>"
      ],
      "text/plain": [
       "             city  trips_in_first_30_days signup_date  avg_rating_of_driver  \\\n",
       "0  King's Landing                       4  2014-01-25                   4.7   \n",
       "1         Astapor                       0  2014-01-29                   5.0   \n",
       "2         Astapor                       3  2014-01-06                   4.3   \n",
       "3  King's Landing                       9  2014-01-10                   4.6   \n",
       "4      Winterfell                      14  2014-01-27                   4.4   \n",
       "\n",
       "   avg_surge last_trip_date    phone  surge_pct  ultimate_black_user  \\\n",
       "0       1.10     2014-06-17   iPhone       15.4                 True   \n",
       "1       1.00     2014-05-05  Android        0.0                False   \n",
       "2       1.00     2014-01-07   iPhone        0.0                False   \n",
       "3       1.14     2014-06-29   iPhone       20.0                 True   \n",
       "4       1.19     2014-03-15  Android       11.8                False   \n",
       "\n",
       "   weekday_pct  avg_dist  avg_rating_by_driver  \n",
       "0         46.2      3.67                   5.0  \n",
       "1         50.0      8.26                   5.0  \n",
       "2        100.0      0.77                   5.0  \n",
       "3         80.0      2.36                   4.9  \n",
       "4         82.4      3.13                   4.9  "
      ]
     },
     "execution_count": 5,
     "metadata": {},
     "output_type": "execute_result"
    }
   ],
   "source": [
    "# Inspect the first few rows of our dataframe.\n",
    "df.head()"
   ]
  },
  {
   "cell_type": "code",
   "execution_count": 6,
   "id": "2bf27325",
   "metadata": {},
   "outputs": [
    {
     "data": {
      "text/plain": [
       "(50000, 12)"
      ]
     },
     "execution_count": 6,
     "metadata": {},
     "output_type": "execute_result"
    }
   ],
   "source": [
    "# Check dataframe size.\n",
    "df.shape"
   ]
  },
  {
   "cell_type": "code",
   "execution_count": 7,
   "id": "90103fc6",
   "metadata": {},
   "outputs": [
    {
     "data": {
      "text/html": [
       "<div>\n",
       "<style scoped>\n",
       "    .dataframe tbody tr th:only-of-type {\n",
       "        vertical-align: middle;\n",
       "    }\n",
       "\n",
       "    .dataframe tbody tr th {\n",
       "        vertical-align: top;\n",
       "    }\n",
       "\n",
       "    .dataframe thead th {\n",
       "        text-align: right;\n",
       "    }\n",
       "</style>\n",
       "<table border=\"1\" class=\"dataframe\">\n",
       "  <thead>\n",
       "    <tr style=\"text-align: right;\">\n",
       "      <th></th>\n",
       "      <th>trips_in_first_30_days</th>\n",
       "      <th>avg_rating_of_driver</th>\n",
       "      <th>avg_surge</th>\n",
       "      <th>surge_pct</th>\n",
       "      <th>weekday_pct</th>\n",
       "      <th>avg_dist</th>\n",
       "      <th>avg_rating_by_driver</th>\n",
       "    </tr>\n",
       "  </thead>\n",
       "  <tbody>\n",
       "    <tr>\n",
       "      <th>count</th>\n",
       "      <td>50000.000000</td>\n",
       "      <td>41878.000000</td>\n",
       "      <td>50000.000000</td>\n",
       "      <td>50000.000000</td>\n",
       "      <td>50000.000000</td>\n",
       "      <td>50000.000000</td>\n",
       "      <td>49799.000000</td>\n",
       "    </tr>\n",
       "    <tr>\n",
       "      <th>mean</th>\n",
       "      <td>2.278200</td>\n",
       "      <td>4.601559</td>\n",
       "      <td>1.074764</td>\n",
       "      <td>8.849536</td>\n",
       "      <td>60.926084</td>\n",
       "      <td>5.796827</td>\n",
       "      <td>4.778158</td>\n",
       "    </tr>\n",
       "    <tr>\n",
       "      <th>std</th>\n",
       "      <td>3.792684</td>\n",
       "      <td>0.617338</td>\n",
       "      <td>0.222336</td>\n",
       "      <td>19.958811</td>\n",
       "      <td>37.081503</td>\n",
       "      <td>5.707357</td>\n",
       "      <td>0.446652</td>\n",
       "    </tr>\n",
       "    <tr>\n",
       "      <th>min</th>\n",
       "      <td>0.000000</td>\n",
       "      <td>1.000000</td>\n",
       "      <td>1.000000</td>\n",
       "      <td>0.000000</td>\n",
       "      <td>0.000000</td>\n",
       "      <td>0.000000</td>\n",
       "      <td>1.000000</td>\n",
       "    </tr>\n",
       "    <tr>\n",
       "      <th>25%</th>\n",
       "      <td>0.000000</td>\n",
       "      <td>4.300000</td>\n",
       "      <td>1.000000</td>\n",
       "      <td>0.000000</td>\n",
       "      <td>33.300000</td>\n",
       "      <td>2.420000</td>\n",
       "      <td>4.700000</td>\n",
       "    </tr>\n",
       "    <tr>\n",
       "      <th>50%</th>\n",
       "      <td>1.000000</td>\n",
       "      <td>4.900000</td>\n",
       "      <td>1.000000</td>\n",
       "      <td>0.000000</td>\n",
       "      <td>66.700000</td>\n",
       "      <td>3.880000</td>\n",
       "      <td>5.000000</td>\n",
       "    </tr>\n",
       "    <tr>\n",
       "      <th>75%</th>\n",
       "      <td>3.000000</td>\n",
       "      <td>5.000000</td>\n",
       "      <td>1.050000</td>\n",
       "      <td>8.600000</td>\n",
       "      <td>100.000000</td>\n",
       "      <td>6.940000</td>\n",
       "      <td>5.000000</td>\n",
       "    </tr>\n",
       "    <tr>\n",
       "      <th>max</th>\n",
       "      <td>125.000000</td>\n",
       "      <td>5.000000</td>\n",
       "      <td>8.000000</td>\n",
       "      <td>100.000000</td>\n",
       "      <td>100.000000</td>\n",
       "      <td>160.960000</td>\n",
       "      <td>5.000000</td>\n",
       "    </tr>\n",
       "  </tbody>\n",
       "</table>\n",
       "</div>"
      ],
      "text/plain": [
       "       trips_in_first_30_days  avg_rating_of_driver     avg_surge  \\\n",
       "count            50000.000000          41878.000000  50000.000000   \n",
       "mean                 2.278200              4.601559      1.074764   \n",
       "std                  3.792684              0.617338      0.222336   \n",
       "min                  0.000000              1.000000      1.000000   \n",
       "25%                  0.000000              4.300000      1.000000   \n",
       "50%                  1.000000              4.900000      1.000000   \n",
       "75%                  3.000000              5.000000      1.050000   \n",
       "max                125.000000              5.000000      8.000000   \n",
       "\n",
       "          surge_pct   weekday_pct      avg_dist  avg_rating_by_driver  \n",
       "count  50000.000000  50000.000000  50000.000000          49799.000000  \n",
       "mean       8.849536     60.926084      5.796827              4.778158  \n",
       "std       19.958811     37.081503      5.707357              0.446652  \n",
       "min        0.000000      0.000000      0.000000              1.000000  \n",
       "25%        0.000000     33.300000      2.420000              4.700000  \n",
       "50%        0.000000     66.700000      3.880000              5.000000  \n",
       "75%        8.600000    100.000000      6.940000              5.000000  \n",
       "max      100.000000    100.000000    160.960000              5.000000  "
      ]
     },
     "execution_count": 7,
     "metadata": {},
     "output_type": "execute_result"
    }
   ],
   "source": [
    "# Check summary of dataframe.\n",
    "df.describe()"
   ]
  },
  {
   "cell_type": "code",
   "execution_count": 8,
   "id": "efebd86a",
   "metadata": {},
   "outputs": [
    {
     "data": {
      "text/plain": [
       "city                       object\n",
       "trips_in_first_30_days      int64\n",
       "signup_date                object\n",
       "avg_rating_of_driver      float64\n",
       "avg_surge                 float64\n",
       "last_trip_date             object\n",
       "phone                      object\n",
       "surge_pct                 float64\n",
       "ultimate_black_user          bool\n",
       "weekday_pct               float64\n",
       "avg_dist                  float64\n",
       "avg_rating_by_driver      float64\n",
       "dtype: object"
      ]
     },
     "execution_count": 8,
     "metadata": {},
     "output_type": "execute_result"
    }
   ],
   "source": [
    "# Check dataframe feature types.\n",
    "df.dtypes"
   ]
  },
  {
   "cell_type": "code",
   "execution_count": 9,
   "id": "33597142",
   "metadata": {},
   "outputs": [],
   "source": [
    "# Convert features to posess correct data types.\n",
    "df.signup_date = df.signup_date.astype('datetime64')\n",
    "df.last_trip_date = df.last_trip_date.astype('datetime64')"
   ]
  },
  {
   "cell_type": "code",
   "execution_count": 10,
   "id": "ac04b1cc",
   "metadata": {},
   "outputs": [
    {
     "data": {
      "text/plain": [
       "city                              object\n",
       "trips_in_first_30_days             int64\n",
       "signup_date               datetime64[ns]\n",
       "avg_rating_of_driver             float64\n",
       "avg_surge                        float64\n",
       "last_trip_date            datetime64[ns]\n",
       "phone                             object\n",
       "surge_pct                        float64\n",
       "ultimate_black_user                 bool\n",
       "weekday_pct                      float64\n",
       "avg_dist                         float64\n",
       "avg_rating_by_driver             float64\n",
       "dtype: object"
      ]
     },
     "execution_count": 10,
     "metadata": {},
     "output_type": "execute_result"
    }
   ],
   "source": [
    "# Check to see if data types changed for these features.\n",
    "df.dtypes"
   ]
  },
  {
   "cell_type": "code",
   "execution_count": 11,
   "id": "78df336f",
   "metadata": {},
   "outputs": [
    {
     "data": {
      "text/html": [
       "<div>\n",
       "<style scoped>\n",
       "    .dataframe tbody tr th:only-of-type {\n",
       "        vertical-align: middle;\n",
       "    }\n",
       "\n",
       "    .dataframe tbody tr th {\n",
       "        vertical-align: top;\n",
       "    }\n",
       "\n",
       "    .dataframe thead th {\n",
       "        text-align: right;\n",
       "    }\n",
       "</style>\n",
       "<table border=\"1\" class=\"dataframe\">\n",
       "  <thead>\n",
       "    <tr style=\"text-align: right;\">\n",
       "      <th></th>\n",
       "      <th>count</th>\n",
       "      <th>%</th>\n",
       "    </tr>\n",
       "  </thead>\n",
       "  <tbody>\n",
       "    <tr>\n",
       "      <th>avg_rating_of_driver</th>\n",
       "      <td>8122</td>\n",
       "      <td>16.244</td>\n",
       "    </tr>\n",
       "    <tr>\n",
       "      <th>phone</th>\n",
       "      <td>396</td>\n",
       "      <td>0.792</td>\n",
       "    </tr>\n",
       "    <tr>\n",
       "      <th>avg_rating_by_driver</th>\n",
       "      <td>201</td>\n",
       "      <td>0.402</td>\n",
       "    </tr>\n",
       "    <tr>\n",
       "      <th>city</th>\n",
       "      <td>0</td>\n",
       "      <td>0.000</td>\n",
       "    </tr>\n",
       "    <tr>\n",
       "      <th>trips_in_first_30_days</th>\n",
       "      <td>0</td>\n",
       "      <td>0.000</td>\n",
       "    </tr>\n",
       "    <tr>\n",
       "      <th>signup_date</th>\n",
       "      <td>0</td>\n",
       "      <td>0.000</td>\n",
       "    </tr>\n",
       "    <tr>\n",
       "      <th>avg_surge</th>\n",
       "      <td>0</td>\n",
       "      <td>0.000</td>\n",
       "    </tr>\n",
       "    <tr>\n",
       "      <th>last_trip_date</th>\n",
       "      <td>0</td>\n",
       "      <td>0.000</td>\n",
       "    </tr>\n",
       "    <tr>\n",
       "      <th>surge_pct</th>\n",
       "      <td>0</td>\n",
       "      <td>0.000</td>\n",
       "    </tr>\n",
       "    <tr>\n",
       "      <th>ultimate_black_user</th>\n",
       "      <td>0</td>\n",
       "      <td>0.000</td>\n",
       "    </tr>\n",
       "    <tr>\n",
       "      <th>weekday_pct</th>\n",
       "      <td>0</td>\n",
       "      <td>0.000</td>\n",
       "    </tr>\n",
       "    <tr>\n",
       "      <th>avg_dist</th>\n",
       "      <td>0</td>\n",
       "      <td>0.000</td>\n",
       "    </tr>\n",
       "  </tbody>\n",
       "</table>\n",
       "</div>"
      ],
      "text/plain": [
       "                        count       %\n",
       "avg_rating_of_driver     8122  16.244\n",
       "phone                     396   0.792\n",
       "avg_rating_by_driver      201   0.402\n",
       "city                        0   0.000\n",
       "trips_in_first_30_days      0   0.000\n",
       "signup_date                 0   0.000\n",
       "avg_surge                   0   0.000\n",
       "last_trip_date              0   0.000\n",
       "surge_pct                   0   0.000\n",
       "ultimate_black_user         0   0.000\n",
       "weekday_pct                 0   0.000\n",
       "avg_dist                    0   0.000"
      ]
     },
     "execution_count": 11,
     "metadata": {},
     "output_type": "execute_result"
    }
   ],
   "source": [
    "# Check to see which columns, if any, have null values and how many there are.\n",
    "df_missing = pd.concat([df.isnull().sum(), 100 * df.isnull().mean()], axis=1)\n",
    "df_missing.columns = ['count', '%']\n",
    "df_missing.sort_values(by=['count', '%'], ascending=False)"
   ]
  },
  {
   "cell_type": "code",
   "execution_count": 12,
   "id": "5a7986ac",
   "metadata": {},
   "outputs": [],
   "source": [
    "# Since both avg_rating columns contain float values and don't make up a significant portion of the data we will fill using the mean.\n",
    "df['avg_rating_of_driver'].fillna(df.avg_rating_of_driver.mean(), inplace=True)\n",
    "df['avg_rating_by_driver'].fillna(df.avg_rating_by_driver.mean(), inplace=True)\n",
    "\n",
    "# We will drop the rows that have a null value for phone as there are few and we don't know what to impute.\n",
    "df = df[df['phone'].notna()] #df['phone'].dropna(inplace=True)"
   ]
  },
  {
   "cell_type": "code",
   "execution_count": 13,
   "id": "c2a0e777",
   "metadata": {},
   "outputs": [
    {
     "data": {
      "text/plain": [
       "(49604, 12)"
      ]
     },
     "execution_count": 13,
     "metadata": {},
     "output_type": "execute_result"
    }
   ],
   "source": [
    "# Check dataframe size again to see if the 396 null rows are gone.\n",
    "df.shape"
   ]
  },
  {
   "cell_type": "code",
   "execution_count": 14,
   "id": "08971a17",
   "metadata": {},
   "outputs": [
    {
     "data": {
      "text/plain": [
       "Timestamp('2014-07-01 00:00:00')"
      ]
     },
     "execution_count": 14,
     "metadata": {},
     "output_type": "execute_result"
    }
   ],
   "source": [
    "# Find max last trip date to know what date we are referencing to determine 30-day window user retention.\n",
    "df.last_trip_date.max()"
   ]
  },
  {
   "cell_type": "markdown",
   "id": "09ae6a91",
   "metadata": {},
   "source": [
    "This means that a retained user is one that has booked a trip in June (last 30 days from July 1 at midnight)."
   ]
  },
  {
   "cell_type": "code",
   "execution_count": 15,
   "id": "46e3035c",
   "metadata": {},
   "outputs": [],
   "source": [
    "# Create an indicator column representing whether a user is retained or not.\n",
    "df['user_retained'] = [1 if df.last_trip_date.dt.month[i] == 6 else 0 for i in df.index]"
   ]
  },
  {
   "cell_type": "code",
   "execution_count": 16,
   "id": "a37a9fa7",
   "metadata": {},
   "outputs": [
    {
     "data": {
      "text/plain": [
       "0.36541407950971694"
      ]
     },
     "execution_count": 16,
     "metadata": {},
     "output_type": "execute_result"
    }
   ],
   "source": [
    "# Calculate the fraction of users retained.\n",
    "df.user_retained.mean()"
   ]
  },
  {
   "cell_type": "markdown",
   "id": "b3581f73",
   "metadata": {},
   "source": [
    "**What fraction of the observed users were retained?** <br>\n",
    "36.54% of users in our data were retained."
   ]
  },
  {
   "cell_type": "code",
   "execution_count": 17,
   "id": "7a3b8951",
   "metadata": {},
   "outputs": [
    {
     "name": "stderr",
     "output_type": "stream",
     "text": [
      "C:\\Users\\justi\\anaconda3\\lib\\site-packages\\seaborn\\_decorators.py:36: FutureWarning: Pass the following variable as a keyword arg: x. From version 0.12, the only valid positional argument will be `data`, and passing other arguments without an explicit keyword will result in an error or misinterpretation.\n",
      "  warnings.warn(\n"
     ]
    },
    {
     "data": {
      "text/plain": [
       "<AxesSubplot:title={'center':'User Retention'}, xlabel='user_retained', ylabel='count'>"
      ]
     },
     "execution_count": 17,
     "metadata": {},
     "output_type": "execute_result"
    },
    {
     "data": {
      "image/png": "[encoded data removed]",
      "text/plain": [
       "<Figure size 576x432 with 1 Axes>"
      ]
     },
     "metadata": {
      "needs_background": "light"
     },
     "output_type": "display_data"
    }
   ],
   "source": [
    "# Counplot of user retention.\n",
    "plt.figure(figsize=(8,6))\n",
    "plt.title('User Retention')\n",
    "sns.countplot(df.user_retained)"
   ]
  },
  {
   "cell_type": "code",
   "execution_count": 18,
   "id": "7faea649",
   "metadata": {},
   "outputs": [
    {
     "name": "stderr",
     "output_type": "stream",
     "text": [
      "C:\\Users\\justi\\anaconda3\\lib\\site-packages\\seaborn\\_decorators.py:36: FutureWarning: Pass the following variable as a keyword arg: x. From version 0.12, the only valid positional argument will be `data`, and passing other arguments without an explicit keyword will result in an error or misinterpretation.\n",
      "  warnings.warn(\n"
     ]
    },
    {
     "data": {
      "text/plain": [
       "<AxesSubplot:title={'center':'Sign-up City'}, xlabel='city', ylabel='count'>"
      ]
     },
     "execution_count": 18,
     "metadata": {},
     "output_type": "execute_result"
    },
    {
     "data": {
      "image/png": "[encoded data removed]",
      "text/plain": [
       "<Figure size 576x432 with 1 Axes>"
      ]
     },
     "metadata": {
      "needs_background": "light"
     },
     "output_type": "display_data"
    }
   ],
   "source": [
    "# Counplot of city.\n",
    "plt.figure(figsize=(8,6))\n",
    "plt.title('Sign-up City')\n",
    "sns.countplot(df.city)"
   ]
  },
  {
   "cell_type": "code",
   "execution_count": 19,
   "id": "d097fda0",
   "metadata": {},
   "outputs": [
    {
     "name": "stderr",
     "output_type": "stream",
     "text": [
      "C:\\Users\\justi\\anaconda3\\lib\\site-packages\\seaborn\\_decorators.py:36: FutureWarning: Pass the following variable as a keyword arg: x. From version 0.12, the only valid positional argument will be `data`, and passing other arguments without an explicit keyword will result in an error or misinterpretation.\n",
      "  warnings.warn(\n"
     ]
    },
    {
     "data": {
      "text/plain": [
       "<AxesSubplot:title={'center':'Primary Device'}, xlabel='phone', ylabel='count'>"
      ]
     },
     "execution_count": 19,
     "metadata": {},
     "output_type": "execute_result"
    },
    {
     "data": {
      "image/png": "[encoded data removed]",
      "text/plain": [
       "<Figure size 576x432 with 1 Axes>"
      ]
     },
     "metadata": {
      "needs_background": "light"
     },
     "output_type": "display_data"
    }
   ],
   "source": [
    "# Counplot of phone.\n",
    "plt.figure(figsize=(8,6))\n",
    "plt.title('Primary Device')\n",
    "sns.countplot(df.phone)"
   ]
  },
  {
   "cell_type": "code",
   "execution_count": 20,
   "id": "425f8e08",
   "metadata": {},
   "outputs": [
    {
     "name": "stderr",
     "output_type": "stream",
     "text": [
      "C:\\Users\\justi\\anaconda3\\lib\\site-packages\\seaborn\\_decorators.py:36: FutureWarning: Pass the following variable as a keyword arg: x. From version 0.12, the only valid positional argument will be `data`, and passing other arguments without an explicit keyword will result in an error or misinterpretation.\n",
      "  warnings.warn(\n"
     ]
    },
    {
     "data": {
      "text/plain": [
       "<AxesSubplot:title={'center':'Ultimate Black User'}, xlabel='ultimate_black_user', ylabel='count'>"
      ]
     },
     "execution_count": 20,
     "metadata": {},
     "output_type": "execute_result"
    },
    {
     "data": {
      "image/png": "[encoded data removed]",
      "text/plain": [
       "<Figure size 576x432 with 1 Axes>"
      ]
     },
     "metadata": {
      "needs_background": "light"
     },
     "output_type": "display_data"
    }
   ],
   "source": [
    "# Counplot of phone.\n",
    "plt.figure(figsize=(8,6))\n",
    "plt.title('Ultimate Black User')\n",
    "sns.countplot(df.ultimate_black_user)"
   ]
  },
  {
   "cell_type": "code",
   "execution_count": 21,
   "id": "186b9c83",
   "metadata": {},
   "outputs": [
    {
     "data": {
      "text/plain": [
       "array([[<AxesSubplot:title={'center':'trips_in_first_30_days'}>,\n",
       "        <AxesSubplot:title={'center':'signup_date'}>,\n",
       "        <AxesSubplot:title={'center':'avg_rating_of_driver'}>],\n",
       "       [<AxesSubplot:title={'center':'avg_surge'}>,\n",
       "        <AxesSubplot:title={'center':'last_trip_date'}>,\n",
       "        <AxesSubplot:title={'center':'surge_pct'}>],\n",
       "       [<AxesSubplot:title={'center':'weekday_pct'}>,\n",
       "        <AxesSubplot:title={'center':'avg_dist'}>,\n",
       "        <AxesSubplot:title={'center':'avg_rating_by_driver'}>],\n",
       "       [<AxesSubplot:title={'center':'user_retained'}>, <AxesSubplot:>,\n",
       "        <AxesSubplot:>]], dtype=object)"
      ]
     },
     "execution_count": 21,
     "metadata": {},
     "output_type": "execute_result"
    },
    {
     "data": {
      "image/png": "[encoded data removed]",
      "text/plain": [
       "<Figure size 1440x1080 with 12 Axes>"
      ]
     },
     "metadata": {
      "needs_background": "light"
     },
     "output_type": "display_data"
    }
   ],
   "source": [
    "# Histogram for all numeric features.\n",
    "df.hist(bins = 10, figsize = (20,15))"
   ]
  },
  {
   "cell_type": "markdown",
   "id": "1ce55142",
   "metadata": {},
   "source": [
    "The distributions look about like what we would expect. We can see in the second plot that signups have been steadily increasing for the few months leading up to July."
   ]
  },
  {
   "cell_type": "code",
   "execution_count": 22,
   "id": "047954de",
   "metadata": {},
   "outputs": [
    {
     "data": {
      "text/plain": [
       "<AxesSubplot:>"
      ]
     },
     "execution_count": 22,
     "metadata": {},
     "output_type": "execute_result"
    },
    {
     "data": {
      "image/png": "[encoded data removed]",
      "text/plain": [
       "<Figure size 1440x1080 with 2 Axes>"
      ]
     },
     "metadata": {
      "needs_background": "light"
     },
     "output_type": "display_data"
    }
   ],
   "source": [
    "# Correlation heatmap for all numeric features.\n",
    "fig, ax = plt.subplots(figsize = (20,15))\n",
    "sns.heatmap(df.corr(), annot = True)"
   ]
  },
  {
   "cell_type": "markdown",
   "id": "9a4afefa",
   "metadata": {},
   "source": [
    "Most of our features are not very correlated with each other which is good to see because we want to avoid collinearity among our features as best we can. The one instance where collinearity may exist is between the features surge_pct and avg_surge. This makes sense as the features are closely related. We will want to take note of this moving forward as it will most likely make sense to only include one of these features in our models."
   ]
  },
  {
   "cell_type": "code",
   "execution_count": 23,
   "id": "e2bef4bf",
   "metadata": {},
   "outputs": [
    {
     "data": {
      "text/plain": [
       "<AxesSubplot:xlabel='user_retained', ylabel='avg_rating_by_driver'>"
      ]
     },
     "execution_count": 23,
     "metadata": {},
     "output_type": "execute_result"
    },
    {
     "data": {
      "image/png": "[encoded data removed]",
      "text/plain": [
       "<Figure size 1440x720 with 8 Axes>"
      ]
     },
     "metadata": {
      "needs_background": "light"
     },
     "output_type": "display_data"
    }
   ],
   "source": [
    "# Boxplots by 'match_outcome' (numerical feature comparisons).\n",
    "fig, ax = plt.subplots(2, 4, figsize = (20,10))\n",
    "\n",
    "sns.boxplot(ax = ax[0,0], x = 'user_retained', y = 'trips_in_first_30_days', data = df)\n",
    "sns.boxplot(ax = ax[0,1], x = 'user_retained', y = 'avg_rating_of_driver', data = df)\n",
    "sns.boxplot(ax = ax[0,2], x = 'user_retained', y = 'avg_surge', data = df)\n",
    "sns.boxplot(ax = ax[0,3], x = 'user_retained', y = 'surge_pct', data = df)\n",
    "sns.boxplot(ax = ax[1,0], x = 'user_retained', y = 'weekday_pct', data = df)\n",
    "sns.boxplot(ax = ax[1,1], x = 'user_retained', y = 'avg_dist', data = df)\n",
    "sns.boxplot(ax = ax[1,2], x = 'user_retained', y = 'avg_rating_by_driver', data = df)"
   ]
  },
  {
   "cell_type": "markdown",
   "id": "ce8f076e",
   "metadata": {},
   "source": [
    "There seems to be one heavy outlier in the trips_in_first_30_days column. This outlier (125 trips) seems somewhat outrageous as taking 125 trips in 30 days would mean more than 4 trips a day. All other outliers seem reasonable as around 2 trips a day makes sense for commutes. We will simply remove this heavy outlier from our dataframe."
   ]
  },
  {
   "cell_type": "code",
   "execution_count": 24,
   "id": "41302edd",
   "metadata": {},
   "outputs": [
    {
     "data": {
      "text/html": [
       "<div>\n",
       "<style scoped>\n",
       "    .dataframe tbody tr th:only-of-type {\n",
       "        vertical-align: middle;\n",
       "    }\n",
       "\n",
       "    .dataframe tbody tr th {\n",
       "        vertical-align: top;\n",
       "    }\n",
       "\n",
       "    .dataframe thead th {\n",
       "        text-align: right;\n",
       "    }\n",
       "</style>\n",
       "<table border=\"1\" class=\"dataframe\">\n",
       "  <thead>\n",
       "    <tr style=\"text-align: right;\">\n",
       "      <th></th>\n",
       "      <th>city</th>\n",
       "      <th>trips_in_first_30_days</th>\n",
       "      <th>signup_date</th>\n",
       "      <th>avg_rating_of_driver</th>\n",
       "      <th>avg_surge</th>\n",
       "      <th>last_trip_date</th>\n",
       "      <th>phone</th>\n",
       "      <th>surge_pct</th>\n",
       "      <th>ultimate_black_user</th>\n",
       "      <th>weekday_pct</th>\n",
       "      <th>avg_dist</th>\n",
       "      <th>avg_rating_by_driver</th>\n",
       "      <th>user_retained</th>\n",
       "    </tr>\n",
       "  </thead>\n",
       "  <tbody>\n",
       "    <tr>\n",
       "      <th>18514</th>\n",
       "      <td>King's Landing</td>\n",
       "      <td>125</td>\n",
       "      <td>2014-01-02</td>\n",
       "      <td>5.0</td>\n",
       "      <td>1.12</td>\n",
       "      <td>2014-06-30</td>\n",
       "      <td>iPhone</td>\n",
       "      <td>14.4</td>\n",
       "      <td>True</td>\n",
       "      <td>72.0</td>\n",
       "      <td>2.02</td>\n",
       "      <td>4.8</td>\n",
       "      <td>1</td>\n",
       "    </tr>\n",
       "  </tbody>\n",
       "</table>\n",
       "</div>"
      ],
      "text/plain": [
       "                 city  trips_in_first_30_days signup_date  \\\n",
       "18514  King's Landing                     125  2014-01-02   \n",
       "\n",
       "       avg_rating_of_driver  avg_surge last_trip_date   phone  surge_pct  \\\n",
       "18514                   5.0       1.12     2014-06-30  iPhone       14.4   \n",
       "\n",
       "       ultimate_black_user  weekday_pct  avg_dist  avg_rating_by_driver  \\\n",
       "18514                 True         72.0      2.02                   4.8   \n",
       "\n",
       "       user_retained  \n",
       "18514              1  "
      ]
     },
     "execution_count": 24,
     "metadata": {},
     "output_type": "execute_result"
    }
   ],
   "source": [
    "# Find the index of the row with the heavy outlier in the trips_in_first_30_days column.\n",
    "df.loc[df.trips_in_first_30_days==df.trips_in_first_30_days.max()]"
   ]
  },
  {
   "cell_type": "code",
   "execution_count": 25,
   "id": "31c1b162",
   "metadata": {},
   "outputs": [
    {
     "data": {
      "text/plain": [
       "(49604, 13)"
      ]
     },
     "execution_count": 25,
     "metadata": {},
     "output_type": "execute_result"
    }
   ],
   "source": [
    "# Check dataframe size before the row is dropped.\n",
    "df.shape"
   ]
  },
  {
   "cell_type": "code",
   "execution_count": 26,
   "id": "ce6c952c",
   "metadata": {},
   "outputs": [],
   "source": [
    "# Remove the heavy outlier in our trips_in_first_30_days column.\n",
    "df = df.drop(18514)"
   ]
  },
  {
   "cell_type": "code",
   "execution_count": 27,
   "id": "42f2f2aa",
   "metadata": {},
   "outputs": [
    {
     "data": {
      "text/plain": [
       "(49603, 13)"
      ]
     },
     "execution_count": 27,
     "metadata": {},
     "output_type": "execute_result"
    }
   ],
   "source": [
    "# Check dataframe size to see if the row was dropped.\n",
    "df.shape"
   ]
  },
  {
   "cell_type": "markdown",
   "id": "557fa7d8",
   "metadata": {},
   "source": [
    "The rest of the features' boxplots seem alright so we can continue to pre-processing."
   ]
  },
  {
   "cell_type": "markdown",
   "id": "96d559ae",
   "metadata": {},
   "source": [
    "As mentioned before, the heatplot showed two highly correlated features. We will now remove one of these features, surge_pct."
   ]
  },
  {
   "cell_type": "code",
   "execution_count": 28,
   "id": "d39f9402",
   "metadata": {},
   "outputs": [],
   "source": [
    "# Remove the surge_pct column from our dataframe.\n",
    "df = df.drop(columns=['surge_pct'])"
   ]
  },
  {
   "cell_type": "code",
   "execution_count": 29,
   "id": "e583e68c",
   "metadata": {},
   "outputs": [
    {
     "data": {
      "text/plain": [
       "(49603, 12)"
      ]
     },
     "execution_count": 29,
     "metadata": {},
     "output_type": "execute_result"
    }
   ],
   "source": [
    "# Check dataframe size to see if the column was dropped.\n",
    "df.shape"
   ]
  },
  {
   "cell_type": "markdown",
   "id": "ae543413",
   "metadata": {},
   "source": [
    "Now we are ready to split our data into training and test sets."
   ]
  },
  {
   "cell_type": "code",
   "execution_count": 30,
   "id": "dd870cc2",
   "metadata": {},
   "outputs": [],
   "source": [
    "# Split features into X and y dataframes.\n",
    "X = df.drop(columns=['user_retained'])\n",
    "y = df['user_retained']\n",
    "\n",
    "# Split into train/test sets.\n",
    "X_train, X_test, y_train, y_test = train_test_split(X, y, test_size=0.20, random_state=42)"
   ]
  },
  {
   "cell_type": "markdown",
   "id": "ad6c4565",
   "metadata": {},
   "source": [
    "We'll now split our data into numerical and categorical dataframes for both the train and test data. We will then scale our numeric features and encode dummy variables for our categorical ones."
   ]
  },
  {
   "cell_type": "code",
   "execution_count": 31,
   "id": "69925d93",
   "metadata": {},
   "outputs": [
    {
     "name": "stderr",
     "output_type": "stream",
     "text": [
      "C:\\Users\\justi\\AppData\\Local\\Temp/ipykernel_18348/691613058.py:4: FutureWarning: In a future version of pandas all arguments of DataFrame.drop except for the argument 'labels' will be keyword-only\n",
      "  X_train_categorical = X_train.drop(X_train.columns.difference(['city', 'phone', 'ultimate_black_user']), 1) # This code keeps the columns listed. (We don't need the date column)\n",
      "C:\\Users\\justi\\AppData\\Local\\Temp/ipykernel_18348/691613058.py:5: FutureWarning: In a future version of pandas all arguments of DataFrame.drop except for the argument 'labels' will be keyword-only\n",
      "  X_test_categorical = X_test.drop(X_test.columns.difference(['city', 'phone', 'ultimate_black_user']), 1)\n"
     ]
    }
   ],
   "source": [
    "# Split our data into dataframes of numerical and categorical data for both training and testing.\n",
    "X_train_numeric = X_train.drop(columns=['city', 'signup_date', 'last_trip_date', 'phone', 'ultimate_black_user'])\n",
    "X_test_numeric = X_test.drop(columns=['city', 'signup_date', 'last_trip_date', 'phone', 'ultimate_black_user'])\n",
    "X_train_categorical = X_train.drop(X_train.columns.difference(['city', 'phone', 'ultimate_black_user']), 1) # This code keeps the columns listed. (We don't need the date column)\n",
    "X_test_categorical = X_test.drop(X_test.columns.difference(['city', 'phone', 'ultimate_black_user']), 1)\n",
    "\n",
    "# Save the column names.\n",
    "X_col = X_train_numeric.columns"
   ]
  },
  {
   "cell_type": "code",
   "execution_count": 32,
   "id": "850626a5",
   "metadata": {},
   "outputs": [],
   "source": [
    "# Initiate, fit, and transform the scaler on our numeric features.\n",
    "scaler = StandardScaler()\n",
    "scaler.fit(X_train_numeric)\n",
    "X_train_scaled = scaler.transform(X_train_numeric)\n",
    "X_test_scaled = scaler.transform(X_test_numeric)"
   ]
  },
  {
   "cell_type": "code",
   "execution_count": 33,
   "id": "8579cf95",
   "metadata": {},
   "outputs": [],
   "source": [
    "# Put the scaled data back into dataframes.\n",
    "X_train_scaled = pd.DataFrame(X_train_scaled, index = X_train_numeric.index, columns = X_col)\n",
    "X_test_scaled = pd.DataFrame(X_test_scaled, index = X_test_numeric.index, columns = X_col)"
   ]
  },
  {
   "cell_type": "code",
   "execution_count": 34,
   "id": "06cc121d",
   "metadata": {},
   "outputs": [
    {
     "data": {
      "text/html": [
       "<div>\n",
       "<style scoped>\n",
       "    .dataframe tbody tr th:only-of-type {\n",
       "        vertical-align: middle;\n",
       "    }\n",
       "\n",
       "    .dataframe tbody tr th {\n",
       "        vertical-align: top;\n",
       "    }\n",
       "\n",
       "    .dataframe thead th {\n",
       "        text-align: right;\n",
       "    }\n",
       "</style>\n",
       "<table border=\"1\" class=\"dataframe\">\n",
       "  <thead>\n",
       "    <tr style=\"text-align: right;\">\n",
       "      <th></th>\n",
       "      <th>trips_in_first_30_days</th>\n",
       "      <th>avg_rating_of_driver</th>\n",
       "      <th>avg_surge</th>\n",
       "      <th>weekday_pct</th>\n",
       "      <th>avg_dist</th>\n",
       "      <th>avg_rating_by_driver</th>\n",
       "    </tr>\n",
       "  </thead>\n",
       "  <tbody>\n",
       "    <tr>\n",
       "      <th>10281</th>\n",
       "      <td>-0.608119</td>\n",
       "      <td>0.704492</td>\n",
       "      <td>0.791809</td>\n",
       "      <td>-0.749061</td>\n",
       "      <td>-0.381654</td>\n",
       "      <td>0.497734</td>\n",
       "    </tr>\n",
       "    <tr>\n",
       "      <th>36242</th>\n",
       "      <td>-0.608119</td>\n",
       "      <td>0.004681</td>\n",
       "      <td>-0.337496</td>\n",
       "      <td>1.052912</td>\n",
       "      <td>-0.323680</td>\n",
       "      <td>0.497734</td>\n",
       "    </tr>\n",
       "    <tr>\n",
       "      <th>7796</th>\n",
       "      <td>1.254219</td>\n",
       "      <td>-1.051882</td>\n",
       "      <td>-0.337496</td>\n",
       "      <td>0.377510</td>\n",
       "      <td>0.312283</td>\n",
       "      <td>-0.618724</td>\n",
       "    </tr>\n",
       "    <tr>\n",
       "      <th>14023</th>\n",
       "      <td>-0.608119</td>\n",
       "      <td>-1.051882</td>\n",
       "      <td>-0.337496</td>\n",
       "      <td>-1.648698</td>\n",
       "      <td>-0.490576</td>\n",
       "      <td>0.497734</td>\n",
       "    </tr>\n",
       "    <tr>\n",
       "      <th>10039</th>\n",
       "      <td>-0.342071</td>\n",
       "      <td>0.704492</td>\n",
       "      <td>0.069054</td>\n",
       "      <td>0.039809</td>\n",
       "      <td>-0.285030</td>\n",
       "      <td>0.051151</td>\n",
       "    </tr>\n",
       "  </tbody>\n",
       "</table>\n",
       "</div>"
      ],
      "text/plain": [
       "       trips_in_first_30_days  avg_rating_of_driver  avg_surge  weekday_pct  \\\n",
       "10281               -0.608119              0.704492   0.791809    -0.749061   \n",
       "36242               -0.608119              0.004681  -0.337496     1.052912   \n",
       "7796                 1.254219             -1.051882  -0.337496     0.377510   \n",
       "14023               -0.608119             -1.051882  -0.337496    -1.648698   \n",
       "10039               -0.342071              0.704492   0.069054     0.039809   \n",
       "\n",
       "       avg_dist  avg_rating_by_driver  \n",
       "10281 -0.381654              0.497734  \n",
       "36242 -0.323680              0.497734  \n",
       "7796   0.312283             -0.618724  \n",
       "14023 -0.490576              0.497734  \n",
       "10039 -0.285030              0.051151  "
      ]
     },
     "execution_count": 34,
     "metadata": {},
     "output_type": "execute_result"
    }
   ],
   "source": [
    "# Inspect the first few rows of our scaled training dataframe.\n",
    "X_train_scaled.head()"
   ]
  },
  {
   "cell_type": "code",
   "execution_count": 35,
   "id": "39d04711",
   "metadata": {},
   "outputs": [
    {
     "data": {
      "text/html": [
       "<div>\n",
       "<style scoped>\n",
       "    .dataframe tbody tr th:only-of-type {\n",
       "        vertical-align: middle;\n",
       "    }\n",
       "\n",
       "    .dataframe tbody tr th {\n",
       "        vertical-align: top;\n",
       "    }\n",
       "\n",
       "    .dataframe thead th {\n",
       "        text-align: right;\n",
       "    }\n",
       "</style>\n",
       "<table border=\"1\" class=\"dataframe\">\n",
       "  <thead>\n",
       "    <tr style=\"text-align: right;\">\n",
       "      <th></th>\n",
       "      <th>ultimate_black_user</th>\n",
       "      <th>city_Astapor</th>\n",
       "      <th>city_King's Landing</th>\n",
       "      <th>city_Winterfell</th>\n",
       "      <th>phone_Android</th>\n",
       "      <th>phone_iPhone</th>\n",
       "    </tr>\n",
       "  </thead>\n",
       "  <tbody>\n",
       "    <tr>\n",
       "      <th>10281</th>\n",
       "      <td>False</td>\n",
       "      <td>1</td>\n",
       "      <td>0</td>\n",
       "      <td>0</td>\n",
       "      <td>0</td>\n",
       "      <td>1</td>\n",
       "    </tr>\n",
       "    <tr>\n",
       "      <th>36242</th>\n",
       "      <td>True</td>\n",
       "      <td>1</td>\n",
       "      <td>0</td>\n",
       "      <td>0</td>\n",
       "      <td>1</td>\n",
       "      <td>0</td>\n",
       "    </tr>\n",
       "    <tr>\n",
       "      <th>7796</th>\n",
       "      <td>True</td>\n",
       "      <td>0</td>\n",
       "      <td>0</td>\n",
       "      <td>1</td>\n",
       "      <td>0</td>\n",
       "      <td>1</td>\n",
       "    </tr>\n",
       "    <tr>\n",
       "      <th>14023</th>\n",
       "      <td>False</td>\n",
       "      <td>1</td>\n",
       "      <td>0</td>\n",
       "      <td>0</td>\n",
       "      <td>0</td>\n",
       "      <td>1</td>\n",
       "    </tr>\n",
       "    <tr>\n",
       "      <th>10039</th>\n",
       "      <td>False</td>\n",
       "      <td>1</td>\n",
       "      <td>0</td>\n",
       "      <td>0</td>\n",
       "      <td>0</td>\n",
       "      <td>1</td>\n",
       "    </tr>\n",
       "  </tbody>\n",
       "</table>\n",
       "</div>"
      ],
      "text/plain": [
       "       ultimate_black_user  city_Astapor  city_King's Landing  \\\n",
       "10281                False             1                    0   \n",
       "36242                 True             1                    0   \n",
       "7796                  True             0                    0   \n",
       "14023                False             1                    0   \n",
       "10039                False             1                    0   \n",
       "\n",
       "       city_Winterfell  phone_Android  phone_iPhone  \n",
       "10281                0              0             1  \n",
       "36242                0              1             0  \n",
       "7796                 1              0             1  \n",
       "14023                0              0             1  \n",
       "10039                0              0             1  "
      ]
     },
     "execution_count": 35,
     "metadata": {},
     "output_type": "execute_result"
    }
   ],
   "source": [
    "# Encode dummy variables for our categorical features.\n",
    "X_train_dummies = pd.get_dummies(X_train_categorical[['city', 'phone', 'ultimate_black_user']])\n",
    "X_test_dummies = pd.get_dummies(X_test_categorical[['city', 'phone', 'ultimate_black_user']])\n",
    "X_train_dummies.head()"
   ]
  },
  {
   "cell_type": "markdown",
   "id": "2f72576d",
   "metadata": {},
   "source": [
    "For our models to work we will need our boolean feature to contain 0s and 1s rather than true/false syntax."
   ]
  },
  {
   "cell_type": "code",
   "execution_count": 36,
   "id": "6db81ca1",
   "metadata": {},
   "outputs": [],
   "source": [
    "# Convert ultimate_black_user to 0s and 1s\n",
    "X_train_dummies[\"ultimate_black_user\"] = X_train_dummies[\"ultimate_black_user\"].astype(int)\n",
    "X_test_dummies[\"ultimate_black_user\"] = X_test_dummies[\"ultimate_black_user\"].astype(int)"
   ]
  },
  {
   "cell_type": "code",
   "execution_count": 37,
   "id": "b350b7a2",
   "metadata": {},
   "outputs": [
    {
     "data": {
      "text/html": [
       "<div>\n",
       "<style scoped>\n",
       "    .dataframe tbody tr th:only-of-type {\n",
       "        vertical-align: middle;\n",
       "    }\n",
       "\n",
       "    .dataframe tbody tr th {\n",
       "        vertical-align: top;\n",
       "    }\n",
       "\n",
       "    .dataframe thead th {\n",
       "        text-align: right;\n",
       "    }\n",
       "</style>\n",
       "<table border=\"1\" class=\"dataframe\">\n",
       "  <thead>\n",
       "    <tr style=\"text-align: right;\">\n",
       "      <th></th>\n",
       "      <th>ultimate_black_user</th>\n",
       "      <th>city_Astapor</th>\n",
       "      <th>city_King's Landing</th>\n",
       "      <th>city_Winterfell</th>\n",
       "      <th>phone_Android</th>\n",
       "      <th>phone_iPhone</th>\n",
       "    </tr>\n",
       "  </thead>\n",
       "  <tbody>\n",
       "    <tr>\n",
       "      <th>10281</th>\n",
       "      <td>0</td>\n",
       "      <td>1</td>\n",
       "      <td>0</td>\n",
       "      <td>0</td>\n",
       "      <td>0</td>\n",
       "      <td>1</td>\n",
       "    </tr>\n",
       "    <tr>\n",
       "      <th>36242</th>\n",
       "      <td>1</td>\n",
       "      <td>1</td>\n",
       "      <td>0</td>\n",
       "      <td>0</td>\n",
       "      <td>1</td>\n",
       "      <td>0</td>\n",
       "    </tr>\n",
       "    <tr>\n",
       "      <th>7796</th>\n",
       "      <td>1</td>\n",
       "      <td>0</td>\n",
       "      <td>0</td>\n",
       "      <td>1</td>\n",
       "      <td>0</td>\n",
       "      <td>1</td>\n",
       "    </tr>\n",
       "    <tr>\n",
       "      <th>14023</th>\n",
       "      <td>0</td>\n",
       "      <td>1</td>\n",
       "      <td>0</td>\n",
       "      <td>0</td>\n",
       "      <td>0</td>\n",
       "      <td>1</td>\n",
       "    </tr>\n",
       "    <tr>\n",
       "      <th>10039</th>\n",
       "      <td>0</td>\n",
       "      <td>1</td>\n",
       "      <td>0</td>\n",
       "      <td>0</td>\n",
       "      <td>0</td>\n",
       "      <td>1</td>\n",
       "    </tr>\n",
       "  </tbody>\n",
       "</table>\n",
       "</div>"
      ],
      "text/plain": [
       "       ultimate_black_user  city_Astapor  city_King's Landing  \\\n",
       "10281                    0             1                    0   \n",
       "36242                    1             1                    0   \n",
       "7796                     1             0                    0   \n",
       "14023                    0             1                    0   \n",
       "10039                    0             1                    0   \n",
       "\n",
       "       city_Winterfell  phone_Android  phone_iPhone  \n",
       "10281                0              0             1  \n",
       "36242                0              1             0  \n",
       "7796                 1              0             1  \n",
       "14023                0              0             1  \n",
       "10039                0              0             1  "
      ]
     },
     "execution_count": 37,
     "metadata": {},
     "output_type": "execute_result"
    }
   ],
   "source": [
    "# Check to see if our column is now formatted correctly.\n",
    "X_train_dummies.head()"
   ]
  },
  {
   "cell_type": "markdown",
   "id": "0a6e7ed4",
   "metadata": {},
   "source": [
    "One more thing that we should do is delete one of the phone columns since we only need k-1 columns for a feature with k categories to fully represent the information in the data. Since iPhone users are more common, I'll choose to delete the phone_Android column in both our training and test sets. Similarly, we will also do this for our city feature as we only need 2 dummy variables to capture all of the information."
   ]
  },
  {
   "cell_type": "code",
   "execution_count": 38,
   "id": "be6c4bf8",
   "metadata": {},
   "outputs": [],
   "source": [
    "# Remove the phone_Android and city_King's Landing columns from both train and test sets.\n",
    "X_train_dummies = X_train_dummies.drop(columns=['phone_Android', \"city_King's Landing\"])\n",
    "X_test_dummies = X_test_dummies.drop(columns=['phone_Android', \"city_King's Landing\"])"
   ]
  },
  {
   "cell_type": "code",
   "execution_count": 39,
   "id": "d0e9685c",
   "metadata": {},
   "outputs": [
    {
     "data": {
      "text/html": [
       "<div>\n",
       "<style scoped>\n",
       "    .dataframe tbody tr th:only-of-type {\n",
       "        vertical-align: middle;\n",
       "    }\n",
       "\n",
       "    .dataframe tbody tr th {\n",
       "        vertical-align: top;\n",
       "    }\n",
       "\n",
       "    .dataframe thead th {\n",
       "        text-align: right;\n",
       "    }\n",
       "</style>\n",
       "<table border=\"1\" class=\"dataframe\">\n",
       "  <thead>\n",
       "    <tr style=\"text-align: right;\">\n",
       "      <th></th>\n",
       "      <th>ultimate_black_user</th>\n",
       "      <th>city_Astapor</th>\n",
       "      <th>city_Winterfell</th>\n",
       "      <th>phone_iPhone</th>\n",
       "    </tr>\n",
       "  </thead>\n",
       "  <tbody>\n",
       "    <tr>\n",
       "      <th>10281</th>\n",
       "      <td>0</td>\n",
       "      <td>1</td>\n",
       "      <td>0</td>\n",
       "      <td>1</td>\n",
       "    </tr>\n",
       "    <tr>\n",
       "      <th>36242</th>\n",
       "      <td>1</td>\n",
       "      <td>1</td>\n",
       "      <td>0</td>\n",
       "      <td>0</td>\n",
       "    </tr>\n",
       "    <tr>\n",
       "      <th>7796</th>\n",
       "      <td>1</td>\n",
       "      <td>0</td>\n",
       "      <td>1</td>\n",
       "      <td>1</td>\n",
       "    </tr>\n",
       "    <tr>\n",
       "      <th>14023</th>\n",
       "      <td>0</td>\n",
       "      <td>1</td>\n",
       "      <td>0</td>\n",
       "      <td>1</td>\n",
       "    </tr>\n",
       "    <tr>\n",
       "      <th>10039</th>\n",
       "      <td>0</td>\n",
       "      <td>1</td>\n",
       "      <td>0</td>\n",
       "      <td>1</td>\n",
       "    </tr>\n",
       "  </tbody>\n",
       "</table>\n",
       "</div>"
      ],
      "text/plain": [
       "       ultimate_black_user  city_Astapor  city_Winterfell  phone_iPhone\n",
       "10281                    0             1                0             1\n",
       "36242                    1             1                0             0\n",
       "7796                     1             0                1             1\n",
       "14023                    0             1                0             1\n",
       "10039                    0             1                0             1"
      ]
     },
     "execution_count": 39,
     "metadata": {},
     "output_type": "execute_result"
    }
   ],
   "source": [
    "# Check to see if our columns are gone.\n",
    "X_train_dummies.head()"
   ]
  },
  {
   "cell_type": "markdown",
   "id": "28f14c9d",
   "metadata": {},
   "source": [
    "Finally, before we bein modeling, let's merge our numerical and categorical dummy features back together into one dataframe in peparation for our analysis."
   ]
  },
  {
   "cell_type": "code",
   "execution_count": 40,
   "id": "00566fcc",
   "metadata": {},
   "outputs": [
    {
     "data": {
      "text/html": [
       "<div>\n",
       "<style scoped>\n",
       "    .dataframe tbody tr th:only-of-type {\n",
       "        vertical-align: middle;\n",
       "    }\n",
       "\n",
       "    .dataframe tbody tr th {\n",
       "        vertical-align: top;\n",
       "    }\n",
       "\n",
       "    .dataframe thead th {\n",
       "        text-align: right;\n",
       "    }\n",
       "</style>\n",
       "<table border=\"1\" class=\"dataframe\">\n",
       "  <thead>\n",
       "    <tr style=\"text-align: right;\">\n",
       "      <th></th>\n",
       "      <th>trips_in_first_30_days</th>\n",
       "      <th>avg_rating_of_driver</th>\n",
       "      <th>avg_surge</th>\n",
       "      <th>weekday_pct</th>\n",
       "      <th>avg_dist</th>\n",
       "      <th>avg_rating_by_driver</th>\n",
       "      <th>ultimate_black_user</th>\n",
       "      <th>city_Astapor</th>\n",
       "      <th>city_Winterfell</th>\n",
       "      <th>phone_iPhone</th>\n",
       "    </tr>\n",
       "  </thead>\n",
       "  <tbody>\n",
       "    <tr>\n",
       "      <th>10281</th>\n",
       "      <td>-0.608119</td>\n",
       "      <td>0.704492</td>\n",
       "      <td>0.791809</td>\n",
       "      <td>-0.749061</td>\n",
       "      <td>-0.381654</td>\n",
       "      <td>0.497734</td>\n",
       "      <td>0</td>\n",
       "      <td>1</td>\n",
       "      <td>0</td>\n",
       "      <td>1</td>\n",
       "    </tr>\n",
       "    <tr>\n",
       "      <th>36242</th>\n",
       "      <td>-0.608119</td>\n",
       "      <td>0.004681</td>\n",
       "      <td>-0.337496</td>\n",
       "      <td>1.052912</td>\n",
       "      <td>-0.323680</td>\n",
       "      <td>0.497734</td>\n",
       "      <td>1</td>\n",
       "      <td>1</td>\n",
       "      <td>0</td>\n",
       "      <td>0</td>\n",
       "    </tr>\n",
       "    <tr>\n",
       "      <th>7796</th>\n",
       "      <td>1.254219</td>\n",
       "      <td>-1.051882</td>\n",
       "      <td>-0.337496</td>\n",
       "      <td>0.377510</td>\n",
       "      <td>0.312283</td>\n",
       "      <td>-0.618724</td>\n",
       "      <td>1</td>\n",
       "      <td>0</td>\n",
       "      <td>1</td>\n",
       "      <td>1</td>\n",
       "    </tr>\n",
       "    <tr>\n",
       "      <th>14023</th>\n",
       "      <td>-0.608119</td>\n",
       "      <td>-1.051882</td>\n",
       "      <td>-0.337496</td>\n",
       "      <td>-1.648698</td>\n",
       "      <td>-0.490576</td>\n",
       "      <td>0.497734</td>\n",
       "      <td>0</td>\n",
       "      <td>1</td>\n",
       "      <td>0</td>\n",
       "      <td>1</td>\n",
       "    </tr>\n",
       "    <tr>\n",
       "      <th>10039</th>\n",
       "      <td>-0.342071</td>\n",
       "      <td>0.704492</td>\n",
       "      <td>0.069054</td>\n",
       "      <td>0.039809</td>\n",
       "      <td>-0.285030</td>\n",
       "      <td>0.051151</td>\n",
       "      <td>0</td>\n",
       "      <td>1</td>\n",
       "      <td>0</td>\n",
       "      <td>1</td>\n",
       "    </tr>\n",
       "  </tbody>\n",
       "</table>\n",
       "</div>"
      ],
      "text/plain": [
       "       trips_in_first_30_days  avg_rating_of_driver  avg_surge  weekday_pct  \\\n",
       "10281               -0.608119              0.704492   0.791809    -0.749061   \n",
       "36242               -0.608119              0.004681  -0.337496     1.052912   \n",
       "7796                 1.254219             -1.051882  -0.337496     0.377510   \n",
       "14023               -0.608119             -1.051882  -0.337496    -1.648698   \n",
       "10039               -0.342071              0.704492   0.069054     0.039809   \n",
       "\n",
       "       avg_dist  avg_rating_by_driver  ultimate_black_user  city_Astapor  \\\n",
       "10281 -0.381654              0.497734                    0             1   \n",
       "36242 -0.323680              0.497734                    1             1   \n",
       "7796   0.312283             -0.618724                    1             0   \n",
       "14023 -0.490576              0.497734                    0             1   \n",
       "10039 -0.285030              0.051151                    0             1   \n",
       "\n",
       "       city_Winterfell  phone_iPhone  \n",
       "10281                0             1  \n",
       "36242                0             0  \n",
       "7796                 1             1  \n",
       "14023                0             1  \n",
       "10039                0             1  "
      ]
     },
     "execution_count": 40,
     "metadata": {},
     "output_type": "execute_result"
    }
   ],
   "source": [
    "# Merge the numerical and categorical (dummy) dataframes for the training data.\n",
    "X_train_pp = X_train_scaled.merge(X_train_dummies, how = 'inner', left_index = True, right_index = True)\n",
    "X_train_pp.head()"
   ]
  },
  {
   "cell_type": "code",
   "execution_count": 41,
   "id": "dd0959e7",
   "metadata": {},
   "outputs": [
    {
     "data": {
      "text/html": [
       "<div>\n",
       "<style scoped>\n",
       "    .dataframe tbody tr th:only-of-type {\n",
       "        vertical-align: middle;\n",
       "    }\n",
       "\n",
       "    .dataframe tbody tr th {\n",
       "        vertical-align: top;\n",
       "    }\n",
       "\n",
       "    .dataframe thead th {\n",
       "        text-align: right;\n",
       "    }\n",
       "</style>\n",
       "<table border=\"1\" class=\"dataframe\">\n",
       "  <thead>\n",
       "    <tr style=\"text-align: right;\">\n",
       "      <th></th>\n",
       "      <th>trips_in_first_30_days</th>\n",
       "      <th>avg_rating_of_driver</th>\n",
       "      <th>avg_surge</th>\n",
       "      <th>weekday_pct</th>\n",
       "      <th>avg_dist</th>\n",
       "      <th>avg_rating_by_driver</th>\n",
       "      <th>ultimate_black_user</th>\n",
       "      <th>city_Astapor</th>\n",
       "      <th>city_Winterfell</th>\n",
       "      <th>phone_iPhone</th>\n",
       "    </tr>\n",
       "  </thead>\n",
       "  <tbody>\n",
       "    <tr>\n",
       "      <th>9723</th>\n",
       "      <td>-0.076022</td>\n",
       "      <td>-0.173695</td>\n",
       "      <td>0.249743</td>\n",
       "      <td>1.052912</td>\n",
       "      <td>-0.320166</td>\n",
       "      <td>-1.735182</td>\n",
       "      <td>0</td>\n",
       "      <td>1</td>\n",
       "      <td>0</td>\n",
       "      <td>1</td>\n",
       "    </tr>\n",
       "    <tr>\n",
       "      <th>35062</th>\n",
       "      <td>-0.342071</td>\n",
       "      <td>0.704492</td>\n",
       "      <td>-0.337496</td>\n",
       "      <td>0.512590</td>\n",
       "      <td>-0.520442</td>\n",
       "      <td>0.051151</td>\n",
       "      <td>1</td>\n",
       "      <td>0</td>\n",
       "      <td>1</td>\n",
       "      <td>1</td>\n",
       "    </tr>\n",
       "    <tr>\n",
       "      <th>13567</th>\n",
       "      <td>-0.342071</td>\n",
       "      <td>0.704492</td>\n",
       "      <td>-0.247152</td>\n",
       "      <td>-0.297893</td>\n",
       "      <td>-0.588957</td>\n",
       "      <td>0.051151</td>\n",
       "      <td>1</td>\n",
       "      <td>0</td>\n",
       "      <td>1</td>\n",
       "      <td>0</td>\n",
       "    </tr>\n",
       "    <tr>\n",
       "      <th>32910</th>\n",
       "      <td>-0.342071</td>\n",
       "      <td>0.004681</td>\n",
       "      <td>-0.337496</td>\n",
       "      <td>0.153276</td>\n",
       "      <td>0.213902</td>\n",
       "      <td>0.497734</td>\n",
       "      <td>1</td>\n",
       "      <td>0</td>\n",
       "      <td>0</td>\n",
       "      <td>1</td>\n",
       "    </tr>\n",
       "    <tr>\n",
       "      <th>735</th>\n",
       "      <td>0.190026</td>\n",
       "      <td>0.177580</td>\n",
       "      <td>-0.337496</td>\n",
       "      <td>-0.146602</td>\n",
       "      <td>-0.523955</td>\n",
       "      <td>0.274442</td>\n",
       "      <td>0</td>\n",
       "      <td>0</td>\n",
       "      <td>0</td>\n",
       "      <td>0</td>\n",
       "    </tr>\n",
       "  </tbody>\n",
       "</table>\n",
       "</div>"
      ],
      "text/plain": [
       "       trips_in_first_30_days  avg_rating_of_driver  avg_surge  weekday_pct  \\\n",
       "9723                -0.076022             -0.173695   0.249743     1.052912   \n",
       "35062               -0.342071              0.704492  -0.337496     0.512590   \n",
       "13567               -0.342071              0.704492  -0.247152    -0.297893   \n",
       "32910               -0.342071              0.004681  -0.337496     0.153276   \n",
       "735                  0.190026              0.177580  -0.337496    -0.146602   \n",
       "\n",
       "       avg_dist  avg_rating_by_driver  ultimate_black_user  city_Astapor  \\\n",
       "9723  -0.320166             -1.735182                    0             1   \n",
       "35062 -0.520442              0.051151                    1             0   \n",
       "13567 -0.588957              0.051151                    1             0   \n",
       "32910  0.213902              0.497734                    1             0   \n",
       "735   -0.523955              0.274442                    0             0   \n",
       "\n",
       "       city_Winterfell  phone_iPhone  \n",
       "9723                 0             1  \n",
       "35062                1             1  \n",
       "13567                1             0  \n",
       "32910                0             1  \n",
       "735                  0             0  "
      ]
     },
     "execution_count": 41,
     "metadata": {},
     "output_type": "execute_result"
    }
   ],
   "source": [
    "# Merge the numerical and categorical (dummy) dataframes for the testing data.\n",
    "X_test_pp = X_test_scaled.merge(X_test_dummies, how = 'inner', left_index = True, right_index = True)\n",
    "X_test_pp.head()"
   ]
  },
  {
   "cell_type": "code",
   "execution_count": 42,
   "id": "6d9011f1",
   "metadata": {},
   "outputs": [
    {
     "name": "stdout",
     "output_type": "stream",
     "text": [
      "X Train DF Size:  (39682, 10)\n",
      "X Test DF Size:  (9921, 10)\n",
      "y Train DF Size:  (39682,)\n",
      "y Test DF Size:  (9921,)\n"
     ]
    }
   ],
   "source": [
    "# Check the shapes of the dataframes to make sure everything looks right.\n",
    "print('X Train DF Size: ', X_train_pp.shape)\n",
    "print('X Test DF Size: ', X_test_pp.shape)\n",
    "print('y Train DF Size: ', y_train.shape)\n",
    "print('y Test DF Size: ', y_test.shape)"
   ]
  },
  {
   "cell_type": "markdown",
   "id": "c0bef386",
   "metadata": {},
   "source": [
    "Now we'll get to some modeling. We'll first try a logistic regression model and then a random forest model. Since we don't care more about predicting one class correctly more than the other we will use F1-score as our evaluation metric."
   ]
  },
  {
   "cell_type": "code",
   "execution_count": 43,
   "id": "464530bd",
   "metadata": {},
   "outputs": [
    {
     "name": "stderr",
     "output_type": "stream",
     "text": [
      "C:\\Users\\justi\\anaconda3\\lib\\site-packages\\sklearn\\model_selection\\_search.py:285: UserWarning: The total space of parameters 6 is smaller than n_iter=10. Running 6 iterations. For exhaustive searches, use GridSearchCV.\n",
      "  warnings.warn(\n"
     ]
    },
    {
     "data": {
      "text/plain": [
       "RandomizedSearchCV(cv=3, estimator=LogisticRegression(),\n",
       "                   param_distributions={'C': [0.1, 1.0, 10.0],\n",
       "                                        'penalty': ['l1', 'l2'],\n",
       "                                        'solver': ['liblinear']},\n",
       "                   random_state=42, scoring='f1')"
      ]
     },
     "execution_count": 43,
     "metadata": {},
     "output_type": "execute_result"
    }
   ],
   "source": [
    "# Fit a logistic regression model with our training data.\n",
    "LR = LogisticRegression()\n",
    "param_grid = {'C':[0.1, 1.0, 10.0], 'penalty':['l1', 'l2'], 'solver':['liblinear']}\n",
    "LR_cv = RandomizedSearchCV(LR, param_grid, cv=3, scoring='f1', random_state=42)\n",
    "LR_cv.fit(X_train_pp, y_train)"
   ]
  },
  {
   "cell_type": "code",
   "execution_count": 44,
   "id": "ad3a160a",
   "metadata": {},
   "outputs": [
    {
     "name": "stdout",
     "output_type": "stream",
     "text": [
      "Hyperparameter settings that resulted in max F1-score for training set: {'solver': 'liblinear', 'penalty': 'l1', 'C': 10.0}\n",
      "Max F1-score for training set: 0.5465757800383265\n"
     ]
    }
   ],
   "source": [
    "# Print results.\n",
    "print('Hyperparameter settings that resulted in max F1-score for training set: {}'.format(LR_cv.best_params_))\n",
    "print('Max F1-score for training set: {}'.format(LR_cv.best_score_))"
   ]
  },
  {
   "cell_type": "code",
   "execution_count": 45,
   "id": "cb33f6b8",
   "metadata": {},
   "outputs": [],
   "source": [
    "# Predict label values on our test data.\n",
    "y_pred = LR_cv.best_estimator_.predict(X_test_pp)"
   ]
  },
  {
   "cell_type": "code",
   "execution_count": 46,
   "id": "213ed11d",
   "metadata": {},
   "outputs": [
    {
     "data": {
      "image/png": "[encoded data removed]",
      "text/plain": [
       "<Figure size 432x288 with 2 Axes>"
      ]
     },
     "metadata": {
      "needs_background": "light"
     },
     "output_type": "display_data"
    }
   ],
   "source": [
    "# Plot the confusion matrix for our test data and label predictions.\n",
    "pl = confusion_matrix(y_test, y_pred)\n",
    "pl_df = pd.DataFrame(pl)\n",
    "\n",
    "ax = sns.heatmap(pl_df, annot=True, cmap='Blues', fmt='g') # converts numbers out of scientific notation in the plot\n",
    "\n",
    "ax.set_title('Seaborn Confusion Matrix with labels\\n\\n');\n",
    "ax.set_xlabel('\\nPredicted Values')\n",
    "ax.set_ylabel('Actual Values');\n",
    "\n",
    "plt.show()"
   ]
  },
  {
   "cell_type": "code",
   "execution_count": 47,
   "id": "97e7555e",
   "metadata": {},
   "outputs": [
    {
     "name": "stdout",
     "output_type": "stream",
     "text": [
      "              precision    recall  f1-score   support\n",
      "\n",
      "           0       0.74      0.85      0.79      6293\n",
      "           1       0.65      0.47      0.54      3628\n",
      "\n",
      "    accuracy                           0.71      9921\n",
      "   macro avg       0.69      0.66      0.67      9921\n",
      "weighted avg       0.70      0.71      0.70      9921\n",
      "\n"
     ]
    }
   ],
   "source": [
    "# Print the classification report to view the F1-score.\n",
    "print(classification_report(y_test, y_pred))"
   ]
  },
  {
   "cell_type": "markdown",
   "id": "62d1a26d",
   "metadata": {},
   "source": [
    "This model isn't the best at making accurate predictions for retained users, but does a better job of predicting users that are not retained."
   ]
  },
  {
   "cell_type": "code",
   "execution_count": 48,
   "id": "26dc142a",
   "metadata": {},
   "outputs": [
    {
     "data": {
      "text/plain": [
       "RandomizedSearchCV(cv=3, estimator=RandomForestClassifier(),\n",
       "                   param_distributions={'max_depth': [10, 20, 50],\n",
       "                                        'max_features': ['auto', 'log2'],\n",
       "                                        'n_estimators': [100, 300, 500]},\n",
       "                   random_state=42, scoring='f1')"
      ]
     },
     "execution_count": 48,
     "metadata": {},
     "output_type": "execute_result"
    }
   ],
   "source": [
    "# Fit a random forest model with our training data.\n",
    "RF = RandomForestClassifier()\n",
    "param_grid = {'n_estimators': [100, 300, 500], 'max_depth': [10, 20, 50], 'max_features': ['auto', 'log2']}\n",
    "RF_cv = RandomizedSearchCV(RF, param_grid, cv=3, scoring='f1', random_state=42)\n",
    "RF_cv.fit(X_train_pp, y_train)"
   ]
  },
  {
   "cell_type": "code",
   "execution_count": 49,
   "id": "e2225b08",
   "metadata": {},
   "outputs": [
    {
     "name": "stdout",
     "output_type": "stream",
     "text": [
      "Hyperparameter settings that resulted in max F1-score for training set: {'n_estimators': 100, 'max_features': 'auto', 'max_depth': 10}\n",
      "Max F1-score for training set: 0.6682547839461881\n"
     ]
    }
   ],
   "source": [
    "# Print results.\n",
    "print('Hyperparameter settings that resulted in max F1-score for training set: {}'.format(RF_cv.best_params_))\n",
    "print('Max F1-score for training set: {}'.format(RF_cv.best_score_))"
   ]
  },
  {
   "cell_type": "code",
   "execution_count": 50,
   "id": "279a82d7",
   "metadata": {},
   "outputs": [],
   "source": [
    "# Predict label values on our test data.\n",
    "y_pred = RF_cv.best_estimator_.predict(X_test_pp)"
   ]
  },
  {
   "cell_type": "code",
   "execution_count": 51,
   "id": "8b144d1b",
   "metadata": {},
   "outputs": [
    {
     "data": {
      "image/png": "[encoded data removed]",
      "text/plain": [
       "<Figure size 432x288 with 2 Axes>"
      ]
     },
     "metadata": {
      "needs_background": "light"
     },
     "output_type": "display_data"
    }
   ],
   "source": [
    "# Plot the confusion matrix for our test data and label predictions.\n",
    "pl = confusion_matrix(y_test, y_pred)\n",
    "pl_df = pd.DataFrame(pl)\n",
    "\n",
    "ax = sns.heatmap(pl_df, annot=True, cmap='Blues', fmt='g')\n",
    "\n",
    "ax.set_title('Seaborn Confusion Matrix with labels\\n\\n');\n",
    "ax.set_xlabel('\\nPredicted Values')\n",
    "ax.set_ylabel('Actual Values');\n",
    "\n",
    "plt.show()"
   ]
  },
  {
   "cell_type": "code",
   "execution_count": 52,
   "id": "99703d9d",
   "metadata": {},
   "outputs": [
    {
     "name": "stdout",
     "output_type": "stream",
     "text": [
      "              precision    recall  f1-score   support\n",
      "\n",
      "           0       0.80      0.86      0.83      6293\n",
      "           1       0.72      0.63      0.67      3628\n",
      "\n",
      "    accuracy                           0.78      9921\n",
      "   macro avg       0.76      0.74      0.75      9921\n",
      "weighted avg       0.77      0.78      0.77      9921\n",
      "\n"
     ]
    }
   ],
   "source": [
    "# Print the classification report to view the F1-score.\n",
    "print(classification_report(y_test, y_pred))"
   ]
  },
  {
   "cell_type": "markdown",
   "id": "b9b4b517",
   "metadata": {},
   "source": [
    "The random forest model outperformed the logistic regression model for predicting both classes. It's not a perfect model but predicting non-retained users with 83% accuracy and retained users with 67% isn't horrible."
   ]
  },
  {
   "cell_type": "code",
   "execution_count": 53,
   "id": "17fc2cc4",
   "metadata": {},
   "outputs": [
    {
     "data": {
      "text/plain": [
       "0.8396386992004381"
      ]
     },
     "execution_count": 53,
     "metadata": {},
     "output_type": "execute_result"
    }
   ],
   "source": [
    "# Calculate the ROC score for our best model.\n",
    "roc_auc_score(y_test, RF_cv.best_estimator_.predict_proba(X_test_pp)[:,1])"
   ]
  },
  {
   "cell_type": "code",
   "execution_count": 54,
   "id": "2a33d6f7",
   "metadata": {},
   "outputs": [
    {
     "data": {
      "image/png": "[encoded data removed]",
      "text/plain": [
       "<Figure size 432x432 with 1 Axes>"
      ]
     },
     "metadata": {
      "needs_background": "light"
     },
     "output_type": "display_data"
    }
   ],
   "source": [
    "# Plot the ROC curve.\n",
    "fpr, tpr, _ = roc_curve(y_test, RF_cv.best_estimator_.predict_proba(X_test_pp)[:,1])\n",
    "\n",
    "plt.figure(figsize=(6,6))\n",
    "plt.plot(fpr, tpr)\n",
    "plt.plot([0,1], [0,1], linestyle = 'dashed')\n",
    "plt.ylabel('True Positive Rate')\n",
    "plt.xlabel('False Positive Rate')\n",
    "\n",
    "plt.show()"
   ]
  },
  {
   "cell_type": "code",
   "execution_count": 55,
   "id": "ab36c93e",
   "metadata": {},
   "outputs": [
    {
     "data": {
      "image/png": "[encoded data removed]",
      "text/plain": [
       "<Figure size 720x432 with 1 Axes>"
      ]
     },
     "metadata": {
      "needs_background": "light"
     },
     "output_type": "display_data"
    }
   ],
   "source": [
    "# Extract feature importance from the best model.\n",
    "feature_imp = pd.DataFrame(RF_cv.best_estimator_.feature_importances_, columns = ['Feature Importance'], index = X_train_pp.columns)\n",
    "feature_imp = feature_imp.sort_values('Feature Importance') # Sort values for plotting min/max coefficients.\n",
    "\n",
    "# Plot the features with their coefficients.\n",
    "feature_imp.plot(kind = 'barh', figsize=(10, 6))\n",
    "plt.ylim(-.5, 9.5)\n",
    "plt.xlim(-0, .5)\n",
    "plt.title('Feature Importance')\n",
    "plt.ylabel('Feature')\n",
    "plt.xlabel('Importance')\n",
    "plt.show()"
   ]
  },
  {
   "cell_type": "markdown",
   "id": "51f33dd7",
   "metadata": {},
   "source": [
    "The feature importance plot above tells us that the average rating by driver is the most useful feature in making accurate predictions regarding whether a user was retained or not 6 months after signing up in January of 2014. This is followed closely behind by the percent of user's trips occurring during weekdays, then the average surge multiplier over all of a user's trip. It's important to note that we would want to try some more models if this were not a practice take-home assignment. Our best model of the two we tried is not amazing by any means so we would want to investigate other options."
   ]
  },
  {
   "cell_type": "markdown",
   "id": "0ce0c24b",
   "metadata": {},
   "source": [
    "With these takeaways, Ultimate might want to focus on increasing the quality of thier drivers and promote weekday rides. Since we can't be sure of which class these features help predict, it is hard to say for sure what steps should be taken. However, we can assume that a higher driver rating would help user retention and it would make sense that weekday riders are more likely to be retained due to work commutes."
   ]
  }
 ],
 "metadata": {
  "kernelspec": {
   "display_name": "Python 3 (ipykernel)",
   "language": "python",
   "name": "python3"
  },
  "language_info": {
   "codemirror_mode": {
    "name": "ipython",
    "version": 3
   },
   "file_extension": ".py",
   "mimetype": "text/x-python",
   "name": "python",
   "nbconvert_exporter": "python",
   "pygments_lexer": "ipython3",
   "version": "3.9.7"
  }
 },
 "nbformat": 4,
 "nbformat_minor": 5
}
